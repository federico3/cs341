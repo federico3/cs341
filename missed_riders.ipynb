{
 "cells": [
  {
   "cell_type": "code",
   "execution_count": 36,
   "metadata": {
    "collapsed": true
   },
   "outputs": [],
   "source": [
    "import pandas as pd\n",
    "import matplotlib.pyplot as plt\n",
    "import numpy as np\n",
    "import math\n",
    "\n",
    "%matplotlib inline"
   ]
  },
  {
   "cell_type": "markdown",
   "metadata": {},
   "source": [
    "# Import training_order_data"
   ]
  },
  {
   "cell_type": "code",
   "execution_count": 2,
   "metadata": {
    "collapsed": true
   },
   "outputs": [],
   "source": [
    "order_info_read = pd.read_csv('data/training_order_data.csv')"
   ]
  },
  {
   "cell_type": "code",
   "execution_count": 3,
   "metadata": {
    "collapsed": true
   },
   "outputs": [],
   "source": [
    "order_info = order_info_read.sort_values('time_stamp')"
   ]
  },
  {
   "cell_type": "code",
   "execution_count": 4,
   "metadata": {
    "collapsed": true
   },
   "outputs": [],
   "source": [
    "order_info.columns = ['initial_row', 'order_id', 'driver_id', 'passenger_id', \\\n",
    "                      'start_district_hash', 'dest_district_hash', 'price', 'time_stamp']"
   ]
  },
  {
   "cell_type": "code",
   "execution_count": 5,
   "metadata": {},
   "outputs": [
    {
     "data": {
      "text/html": [
       "<div>\n",
       "<table border=\"1\" class=\"dataframe\">\n",
       "  <thead>\n",
       "    <tr style=\"text-align: right;\">\n",
       "      <th></th>\n",
       "      <th>initial_row</th>\n",
       "      <th>order_id</th>\n",
       "      <th>driver_id</th>\n",
       "      <th>passenger_id</th>\n",
       "      <th>start_district_hash</th>\n",
       "      <th>dest_district_hash</th>\n",
       "      <th>price</th>\n",
       "      <th>time_stamp</th>\n",
       "    </tr>\n",
       "  </thead>\n",
       "  <tbody>\n",
       "    <tr>\n",
       "      <th>262258</th>\n",
       "      <td>262258</td>\n",
       "      <td>9a864e958859b506f5f8bee9d8dfff17</td>\n",
       "      <td>a323121d71cd5247f38a4848c2039cb1</td>\n",
       "      <td>b9bd961ee676441d64c8748aa18efcda</td>\n",
       "      <td>b05379ac3f9b7d99370d443cfd5dcc28</td>\n",
       "      <td>52d7b69796362a8ed1691a6cc02ddde4</td>\n",
       "      <td>45</td>\n",
       "      <td>2016-01-01 00:00:03</td>\n",
       "    </tr>\n",
       "    <tr>\n",
       "      <th>231406</th>\n",
       "      <td>231406</td>\n",
       "      <td>6732f74a5a59353cddb421ceb39f7c26</td>\n",
       "      <td>a57d4acc407006cbb4086f0cc60d2575</td>\n",
       "      <td>37e17d1ec5ca26d52be702ce74db64a6</td>\n",
       "      <td>4725c39a5e5f4c188d382da3910b3f3f</td>\n",
       "      <td>929ec6c160e6f52c20a4217c7978f681</td>\n",
       "      <td>18</td>\n",
       "      <td>2016-01-01 00:00:04</td>\n",
       "    </tr>\n",
       "    <tr>\n",
       "      <th>210341</th>\n",
       "      <td>210341</td>\n",
       "      <td>f4beb0739bcee0f040385d69b9809b92</td>\n",
       "      <td>0b41511d4c63ed4bb030bd9d5ed5399e</td>\n",
       "      <td>b684445572045febd51a63a4e478b356</td>\n",
       "      <td>b05379ac3f9b7d99370d443cfd5dcc28</td>\n",
       "      <td>4725c39a5e5f4c188d382da3910b3f3f</td>\n",
       "      <td>31</td>\n",
       "      <td>2016-01-01 00:00:04</td>\n",
       "    </tr>\n",
       "    <tr>\n",
       "      <th>268247</th>\n",
       "      <td>268247</td>\n",
       "      <td>1f5672197a352594fb546d7164a41f28</td>\n",
       "      <td>90f993e801c394a351321377de6820b3</td>\n",
       "      <td>7d61be2772673f4fb728c867fba64833</td>\n",
       "      <td>82cc4851f9e4faa4e54309f8bb73fd7c</td>\n",
       "      <td>82cc4851f9e4faa4e54309f8bb73fd7c</td>\n",
       "      <td>10</td>\n",
       "      <td>2016-01-01 00:00:05</td>\n",
       "    </tr>\n",
       "    <tr>\n",
       "      <th>188962</th>\n",
       "      <td>188962</td>\n",
       "      <td>7bd83a5dd61f5242f82c52075ad43cbf</td>\n",
       "      <td>f5307b86a4d3da55e3626b9048d9b54a</td>\n",
       "      <td>d6c7bb502d01aed1c5031e17957e44ec</td>\n",
       "      <td>f47f35242ed40655814bc086d7514046</td>\n",
       "      <td>1cbfbdd079ef93e74405c53fcfff8567</td>\n",
       "      <td>24</td>\n",
       "      <td>2016-01-01 00:00:05</td>\n",
       "    </tr>\n",
       "  </tbody>\n",
       "</table>\n",
       "</div>"
      ],
      "text/plain": [
       "        initial_row                          order_id  \\\n",
       "262258       262258  9a864e958859b506f5f8bee9d8dfff17   \n",
       "231406       231406  6732f74a5a59353cddb421ceb39f7c26   \n",
       "210341       210341  f4beb0739bcee0f040385d69b9809b92   \n",
       "268247       268247  1f5672197a352594fb546d7164a41f28   \n",
       "188962       188962  7bd83a5dd61f5242f82c52075ad43cbf   \n",
       "\n",
       "                               driver_id                      passenger_id  \\\n",
       "262258  a323121d71cd5247f38a4848c2039cb1  b9bd961ee676441d64c8748aa18efcda   \n",
       "231406  a57d4acc407006cbb4086f0cc60d2575  37e17d1ec5ca26d52be702ce74db64a6   \n",
       "210341  0b41511d4c63ed4bb030bd9d5ed5399e  b684445572045febd51a63a4e478b356   \n",
       "268247  90f993e801c394a351321377de6820b3  7d61be2772673f4fb728c867fba64833   \n",
       "188962  f5307b86a4d3da55e3626b9048d9b54a  d6c7bb502d01aed1c5031e17957e44ec   \n",
       "\n",
       "                     start_district_hash                dest_district_hash  \\\n",
       "262258  b05379ac3f9b7d99370d443cfd5dcc28  52d7b69796362a8ed1691a6cc02ddde4   \n",
       "231406  4725c39a5e5f4c188d382da3910b3f3f  929ec6c160e6f52c20a4217c7978f681   \n",
       "210341  b05379ac3f9b7d99370d443cfd5dcc28  4725c39a5e5f4c188d382da3910b3f3f   \n",
       "268247  82cc4851f9e4faa4e54309f8bb73fd7c  82cc4851f9e4faa4e54309f8bb73fd7c   \n",
       "188962  f47f35242ed40655814bc086d7514046  1cbfbdd079ef93e74405c53fcfff8567   \n",
       "\n",
       "        price           time_stamp  \n",
       "262258     45  2016-01-01 00:00:03  \n",
       "231406     18  2016-01-01 00:00:04  \n",
       "210341     31  2016-01-01 00:00:04  \n",
       "268247     10  2016-01-01 00:00:05  \n",
       "188962     24  2016-01-01 00:00:05  "
      ]
     },
     "execution_count": 5,
     "metadata": {},
     "output_type": "execute_result"
    }
   ],
   "source": [
    "order_info.head()"
   ]
  },
  {
   "cell_type": "code",
   "execution_count": 41,
   "metadata": {
    "collapsed": true
   },
   "outputs": [],
   "source": [
    "order_id = order_info['order_id']\n",
    "driver_id = order_info['driver_id']\n",
    "passenger_id = order_info['passenger_id']\n",
    "start_district_hash = order_info['start_district_hash']\n",
    "dest_district_hash = order_info['dest_district_hash']\n",
    "price = order_info['price']\n",
    "time_stamp = pd.to_datetime(order_info['time_stamp'])"
   ]
  },
  {
   "cell_type": "code",
   "execution_count": 42,
   "metadata": {},
   "outputs": [
    {
     "name": "stdout",
     "output_type": "stream",
     "text": [
      "total order_id: 8540614\n",
      "unique order_id: 8518049\n"
     ]
    }
   ],
   "source": [
    "order_id_num = len(order_id)\n",
    "order_id_num_unique = len(order_id.unique())\n",
    "print 'total order_id:', order_id_num\n",
    "print 'unique order_id:', order_id_num_unique"
   ]
  },
  {
   "cell_type": "code",
   "execution_count": 43,
   "metadata": {},
   "outputs": [
    {
     "name": "stdout",
     "output_type": "stream",
     "text": [
      "total driver_id: 8540614\n",
      "unique driver_id: 93090\n",
      "null driver_id: 1516460\n",
      "fraction of missed orders: 0.177558662644\n",
      "fraction of received orders: 0.822441337356\n"
     ]
    }
   ],
   "source": [
    "driver_id_null = pd.isnull(driver_id)\n",
    "driver_id_num = len(driver_id)\n",
    "driver_id_num_unique = len(driver_id.unique())\n",
    "driver_id_num_null = len(driver_id[driver_id_null])\n",
    "print 'total driver_id:', driver_id_num\n",
    "print 'unique driver_id:', driver_id_num_unique\n",
    "print 'null driver_id:', driver_id_num_null\n",
    "print 'fraction of missed orders:', float(driver_id_num_null) / float(driver_id_num)\n",
    "print 'fraction of received orders:', 1.0 - float(driver_id_num_null) / float(driver_id_num)"
   ]
  },
  {
   "cell_type": "code",
   "execution_count": 44,
   "metadata": {},
   "outputs": [
    {
     "name": "stdout",
     "output_type": "stream",
     "text": [
      "total passenger_id: 8540614\n",
      "unique passenger_id: 1368071\n",
      "orders per passenger: 6.24281488315\n"
     ]
    }
   ],
   "source": [
    "passenger_id = order_info['passenger_id']\n",
    "passenger_id_num = len(passenger_id)\n",
    "passenger_id_num_unique = len(passenger_id.unique())\n",
    "print 'total passenger_id:', passenger_id_num\n",
    "print 'unique passenger_id:', passenger_id_num_unique\n",
    "print 'orders per passenger:', float(passenger_id_num) / float(passenger_id_num_unique)"
   ]
  },
  {
   "cell_type": "markdown",
   "metadata": {},
   "source": [
    "# Track missed riders (ignoring null orders before the first accepted order)"
   ]
  },
  {
   "cell_type": "code",
   "execution_count": 111,
   "metadata": {},
   "outputs": [
    {
     "name": "stdout",
     "output_type": "stream",
     "text": [
      "0\n",
      "20000\n",
      "40000\n",
      "60000\n",
      "80000\n",
      "100000\n",
      "120000\n",
      "140000\n",
      "160000\n",
      "180000\n",
      "200000\n",
      "220000\n",
      "240000\n",
      "260000\n",
      "280000\n",
      "300000\n",
      "320000\n",
      "340000\n",
      "360000\n",
      "380000\n",
      "400000\n",
      "420000\n",
      "440000\n",
      "460000\n",
      "480000\n",
      "500000\n",
      "520000\n",
      "540000\n",
      "560000\n",
      "580000\n",
      "600000\n",
      "620000\n",
      "640000\n",
      "660000\n",
      "680000\n",
      "700000\n",
      "720000\n",
      "740000\n",
      "760000\n",
      "780000\n",
      "800000\n",
      "820000\n",
      "840000\n"
     ]
    }
   ],
   "source": [
    "minute = 10\n",
    "t = np.arange(60*minute) # track the first 10 minutes after an null order\n",
    "missed_rider_being_picked_up_num = np.zeros(t.shape)\n",
    "\n",
    "missed_rider_timestamp = {}\n",
    "\n",
    "### key: missed rider's hash value\n",
    "### value: the first time_stamp of an null order \n",
    "\n",
    "delta_time = None\n",
    "\n",
    "for i in range(order_id_num / 10): # only exploring tenth of data takes about half an hour on my laptop\n",
    "    dri_id = driver_id.iloc[i]\n",
    "    rid_id = passenger_id.iloc[i]\n",
    "    tim_stp = time_stamp.iloc[i]\n",
    "    if type(dri_id) == float and math.isnan(dri_id):\n",
    "        if rid_id not in missed_rider_timestamp.keys():\n",
    "            missed_rider_timestamp[rid_id] = time_stamp.iloc[i]\n",
    "    elif rid_id in missed_rider_timestamp.keys():\n",
    "        delta_time = time_stamp.iloc[i] - missed_rider_timestamp[rid_id]\n",
    "        delta_second = int(delta_time.total_seconds())\n",
    "        if delta_second < 60 * minute and delta_second > 0:\n",
    "            missed_rider_being_picked_up_num[delta_second] += 1\n",
    "        missed_rider_timestamp.pop(rid_id, None)\n",
    "    if i % 20000 == 0:\n",
    "        print i"
   ]
  },
  {
   "cell_type": "code",
   "execution_count": 112,
   "metadata": {},
   "outputs": [
    {
     "data": {
      "image/png": "[encoded data removed]",
      "text/plain": [
       "<matplotlib.figure.Figure at 0x10d4954d0>"
      ]
     },
     "metadata": {},
     "output_type": "display_data"
    }
   ],
   "source": [
    "plt.plot(t,missed_rider_being_picked_up_num)\n",
    "plt.xlabel('time / s')\n",
    "plt.ylabel('#missed riders being picked up')\n",
    "plt.show()"
   ]
  },
  {
   "cell_type": "markdown",
   "metadata": {},
   "source": [
    "# Track missed riders (update to the latest null order)"
   ]
  },
  {
   "cell_type": "code",
   "execution_count": 113,
   "metadata": {},
   "outputs": [
    {
     "name": "stdout",
     "output_type": "stream",
     "text": [
      "0\n",
      "20000\n",
      "40000\n",
      "60000\n",
      "80000\n",
      "100000\n",
      "120000\n",
      "140000\n",
      "160000\n",
      "180000\n",
      "200000\n",
      "220000\n",
      "240000\n",
      "260000\n",
      "280000\n",
      "300000\n",
      "320000\n",
      "340000\n",
      "360000\n",
      "380000\n",
      "400000\n",
      "420000\n",
      "440000\n",
      "460000\n",
      "480000\n",
      "500000\n",
      "520000\n",
      "540000\n",
      "560000\n",
      "580000\n",
      "600000\n",
      "620000\n",
      "640000\n",
      "660000\n",
      "680000\n",
      "700000\n",
      "720000\n",
      "740000\n",
      "760000\n",
      "780000\n",
      "800000\n",
      "820000\n",
      "840000\n"
     ]
    }
   ],
   "source": [
    "minute = 10\n",
    "t = np.arange(60*minute) # track the first 10 minutes after an null order\n",
    "missed_rider_being_picked_up_num = np.zeros(t.shape)\n",
    "\n",
    "missed_rider_timestamp = {}\n",
    "\n",
    "### key: missed rider's hash value\n",
    "### value: the first time_stamp of an null order \n",
    "\n",
    "for i in range(order_id_num / 10):\n",
    "    dri_id = driver_id.iloc[i]\n",
    "    rid_id = passenger_id.iloc[i]\n",
    "    tim_stp = time_stamp.iloc[i]\n",
    "    if type(dri_id) == float and math.isnan(dri_id):\n",
    "        #if rid_id not in missed_rider_timestamp.keys():\n",
    "        missed_rider_timestamp[rid_id] = time_stamp.iloc[i]   ### notice the difference here!!\n",
    "    elif rid_id in missed_rider_timestamp.keys():\n",
    "        delta_time = time_stamp.iloc[i] - missed_rider_timestamp[rid_id]\n",
    "        delta_second = int(delta_time.total_seconds())\n",
    "        if delta_second < 60 * minute and delta_second > 0:\n",
    "            missed_rider_being_picked_up_num[delta_second] += 1\n",
    "        missed_rider_timestamp.pop(rid_id, None)\n",
    "    if i % 20000 == 0:\n",
    "        print i"
   ]
  },
  {
   "cell_type": "code",
   "execution_count": 114,
   "metadata": {},
   "outputs": [
    {
     "data": {
      "image/png": "[encoded data removed]",
      "text/plain": [
       "<matplotlib.figure.Figure at 0x10c501990>"
      ]
     },
     "metadata": {},
     "output_type": "display_data"
    }
   ],
   "source": [
    "plt.plot(t,missed_rider_being_picked_up_num)\n",
    "plt.xlabel('time / s')\n",
    "plt.ylabel('#missed riders being picked up')\n",
    "plt.show()"
   ]
  }
 ],
 "metadata": {
  "kernelspec": {
   "display_name": "Python 2",
   "language": "python",
   "name": "python2"
  },
  "language_info": {
   "codemirror_mode": {
    "name": "ipython",
    "version": 2
   },
   "file_extension": ".py",
   "mimetype": "text/x-python",
   "name": "python",
   "nbconvert_exporter": "python",
   "pygments_lexer": "ipython2",
   "version": "2.7.11"
  }
 },
 "nbformat": 4,
 "nbformat_minor": 2
}
