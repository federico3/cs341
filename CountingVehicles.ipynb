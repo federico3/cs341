{
 "cells": [
  {
   "cell_type": "code",
   "execution_count": 1,
   "metadata": {
    "collapsed": true
   },
   "outputs": [],
   "source": [
    "import math\n",
    "import numpy as np\n",
    "import pandas as pd\n",
    "import os\n",
    "import tempfile\n",
    "\n",
    "from scipy.spatial.distance import pdist, squareform\n",
    "import scipy.io as sio\n",
    "\n",
    "import matplotlib.pyplot as plt\n",
    "\n",
    "%matplotlib inline"
   ]
  },
  {
   "cell_type": "code",
   "execution_count": 2,
   "metadata": {
    "collapsed": true
   },
   "outputs": [],
   "source": [
    "orderdf = pd.read_csv('ignored_assets/orders.csv', parse_dates = [6])"
   ]
  },
  {
   "cell_type": "code",
   "execution_count": 3,
   "metadata": {
    "collapsed": true
   },
   "outputs": [],
   "source": [
    "# Create map of driver IDs\n",
    "driver_ids=orderdf['driver_id'].unique()\n",
    "\n",
    "# create map of core stations\n",
    "core_stations = orderdf['start_district_hash'].unique()"
   ]
  },
  {
   "cell_type": "code",
   "execution_count": 4,
   "metadata": {},
   "outputs": [
    {
     "name": "stdout",
     "output_type": "stream",
     "text": [
      "CPU times: user 27.1 ms, sys: 1.38 ms, total: 28.5 ms\n",
      "Wall time: 31.9 ms\n"
     ]
    },
    {
     "data": {
      "text/html": [
       "<div>\n",
       "<style>\n",
       "    .dataframe thead tr:only-child th {\n",
       "        text-align: right;\n",
       "    }\n",
       "\n",
       "    .dataframe thead th {\n",
       "        text-align: left;\n",
       "    }\n",
       "\n",
       "    .dataframe tbody tr th {\n",
       "        vertical-align: top;\n",
       "    }\n",
       "</style>\n",
       "<table border=\"1\" class=\"dataframe\">\n",
       "  <thead>\n",
       "    <tr style=\"text-align: right;\">\n",
       "      <th></th>\n",
       "      <th>order_id</th>\n",
       "      <th>driver_id</th>\n",
       "      <th>passenger_id</th>\n",
       "      <th>start_district_hash</th>\n",
       "      <th>dest_district_hash</th>\n",
       "      <th>price</th>\n",
       "      <th>timestamp</th>\n",
       "      <th>hour</th>\n",
       "      <th>dayofweek</th>\n",
       "      <th>driver_cluster</th>\n",
       "      <th>expected_travel_time</th>\n",
       "    </tr>\n",
       "    <tr>\n",
       "      <th>timestamp</th>\n",
       "      <th></th>\n",
       "      <th></th>\n",
       "      <th></th>\n",
       "      <th></th>\n",
       "      <th></th>\n",
       "      <th></th>\n",
       "      <th></th>\n",
       "      <th></th>\n",
       "      <th></th>\n",
       "      <th></th>\n",
       "      <th></th>\n",
       "    </tr>\n",
       "  </thead>\n",
       "  <tbody>\n",
       "    <tr>\n",
       "      <th>2016-01-01 09:22:58</th>\n",
       "      <td>236c00d175a2295ade03ab6ea4b9689a</td>\n",
       "      <td>dd65fa250fca2833a3a8c16d2cf0457c</td>\n",
       "      <td>ce27cf85aaa48764f650414d71f3674e</td>\n",
       "      <td>62afaf3288e236b389af9cfdc5206415</td>\n",
       "      <td>62afaf3288e236b389af9cfdc5206415</td>\n",
       "      <td>6.0</td>\n",
       "      <td>2016-01-01 09:22:58</td>\n",
       "      <td>9</td>\n",
       "      <td>4</td>\n",
       "      <td>1.0</td>\n",
       "      <td>2.799474</td>\n",
       "    </tr>\n",
       "    <tr>\n",
       "      <th>2016-01-01 09:35:26</th>\n",
       "      <td>a741062b69f6f1828d69a3f771aab6d5</td>\n",
       "      <td>dd65fa250fca2833a3a8c16d2cf0457c</td>\n",
       "      <td>1dc3e244fdef29a3299722f9aa26720f</td>\n",
       "      <td>62afaf3288e236b389af9cfdc5206415</td>\n",
       "      <td>62afaf3288e236b389af9cfdc5206415</td>\n",
       "      <td>6.0</td>\n",
       "      <td>2016-01-01 09:35:26</td>\n",
       "      <td>9</td>\n",
       "      <td>4</td>\n",
       "      <td>1.0</td>\n",
       "      <td>2.799474</td>\n",
       "    </tr>\n",
       "    <tr>\n",
       "      <th>2016-01-01 09:43:39</th>\n",
       "      <td>c88282a71e988c5fb7eb11e33d5ca512</td>\n",
       "      <td>dd65fa250fca2833a3a8c16d2cf0457c</td>\n",
       "      <td>adbd59353c4651fc77405876d9e92638</td>\n",
       "      <td>62afaf3288e236b389af9cfdc5206415</td>\n",
       "      <td>d4ec2125aff74eded207d2d915ef682f</td>\n",
       "      <td>11.0</td>\n",
       "      <td>2016-01-01 09:43:39</td>\n",
       "      <td>9</td>\n",
       "      <td>4</td>\n",
       "      <td>1.0</td>\n",
       "      <td>5.132369</td>\n",
       "    </tr>\n",
       "    <tr>\n",
       "      <th>2016-01-01 10:02:40</th>\n",
       "      <td>8fd177882b51161c854dbd1745a54c0c</td>\n",
       "      <td>dd65fa250fca2833a3a8c16d2cf0457c</td>\n",
       "      <td>2cf11c2f409e7c4503e0b47c6f7d2ba9</td>\n",
       "      <td>d4ec2125aff74eded207d2d915ef682f</td>\n",
       "      <td>4f4041f7db0c7f69892d9b74c1a7efa1</td>\n",
       "      <td>41.0</td>\n",
       "      <td>2016-01-01 10:02:40</td>\n",
       "      <td>10</td>\n",
       "      <td>4</td>\n",
       "      <td>1.0</td>\n",
       "      <td>19.129739</td>\n",
       "    </tr>\n",
       "    <tr>\n",
       "      <th>2016-01-01 10:04:50</th>\n",
       "      <td>a174cc46d34b2b73bbb9b94a6d022b80</td>\n",
       "      <td>dd65fa250fca2833a3a8c16d2cf0457c</td>\n",
       "      <td>5d8886092bbb717e0ccf37cb2d7a9661</td>\n",
       "      <td>d4ec2125aff74eded207d2d915ef682f</td>\n",
       "      <td>d4ec2125aff74eded207d2d915ef682f</td>\n",
       "      <td>9.7</td>\n",
       "      <td>2016-01-01 10:04:50</td>\n",
       "      <td>10</td>\n",
       "      <td>4</td>\n",
       "      <td>1.0</td>\n",
       "      <td>4.525816</td>\n",
       "    </tr>\n",
       "    <tr>\n",
       "      <th>2016-01-01 10:28:18</th>\n",
       "      <td>80559050428f704e024376a9d7306db9</td>\n",
       "      <td>dd65fa250fca2833a3a8c16d2cf0457c</td>\n",
       "      <td>4c5946a01d3764886040ba18fac717d6</td>\n",
       "      <td>d4ec2125aff74eded207d2d915ef682f</td>\n",
       "      <td>929ec6c160e6f52c20a4217c7978f681</td>\n",
       "      <td>11.0</td>\n",
       "      <td>2016-01-01 10:28:18</td>\n",
       "      <td>10</td>\n",
       "      <td>4</td>\n",
       "      <td>1.0</td>\n",
       "      <td>5.132369</td>\n",
       "    </tr>\n",
       "    <tr>\n",
       "      <th>2016-01-01 10:30:13</th>\n",
       "      <td>5e03c747494657155b21320fa49144a9</td>\n",
       "      <td>dd65fa250fca2833a3a8c16d2cf0457c</td>\n",
       "      <td>da8ccb4ff0f510e46bb4643b8a785242</td>\n",
       "      <td>d4ec2125aff74eded207d2d915ef682f</td>\n",
       "      <td>929ec6c160e6f52c20a4217c7978f681</td>\n",
       "      <td>26.0</td>\n",
       "      <td>2016-01-01 10:30:13</td>\n",
       "      <td>10</td>\n",
       "      <td>4</td>\n",
       "      <td>1.0</td>\n",
       "      <td>12.131054</td>\n",
       "    </tr>\n",
       "    <tr>\n",
       "      <th>2016-01-01 13:37:23</th>\n",
       "      <td>97ebd0c6680f7c0535dbfdead6e51b4b</td>\n",
       "      <td>dd65fa250fca2833a3a8c16d2cf0457c</td>\n",
       "      <td>ed180d7daf639d936f1aeae4f7fb482f</td>\n",
       "      <td>4725c39a5e5f4c188d382da3910b3f3f</td>\n",
       "      <td>3e12208dd0be281c92a6ab57d9a6fb32</td>\n",
       "      <td>24.0</td>\n",
       "      <td>2016-01-01 13:37:23</td>\n",
       "      <td>13</td>\n",
       "      <td>4</td>\n",
       "      <td>1.0</td>\n",
       "      <td>11.197896</td>\n",
       "    </tr>\n",
       "    <tr>\n",
       "      <th>2016-01-01 14:10:40</th>\n",
       "      <td>d48bb6f68f10e71c358347f8d4014705</td>\n",
       "      <td>dd65fa250fca2833a3a8c16d2cf0457c</td>\n",
       "      <td>88505970b8a7039e07575480c221386d</td>\n",
       "      <td>3e12208dd0be281c92a6ab57d9a6fb32</td>\n",
       "      <td>38d5ad2d22b61109fd8e7b43cd0e8901</td>\n",
       "      <td>20.1</td>\n",
       "      <td>2016-01-01 14:10:40</td>\n",
       "      <td>14</td>\n",
       "      <td>4</td>\n",
       "      <td>1.0</td>\n",
       "      <td>9.378238</td>\n",
       "    </tr>\n",
       "    <tr>\n",
       "      <th>2016-01-02 10:57:40</th>\n",
       "      <td>0324b89ad8110089bcd1032280ba9cb3</td>\n",
       "      <td>dd65fa250fca2833a3a8c16d2cf0457c</td>\n",
       "      <td>0385c382b1436fa5d3b0874e5c9be200</td>\n",
       "      <td>ca064c2682ca48c6a21de012e87c0df5</td>\n",
       "      <td>52a4e8aaa12f70020e889aed8fd5ddbc</td>\n",
       "      <td>10.0</td>\n",
       "      <td>2016-01-02 10:57:40</td>\n",
       "      <td>10</td>\n",
       "      <td>5</td>\n",
       "      <td>1.0</td>\n",
       "      <td>4.665790</td>\n",
       "    </tr>\n",
       "    <tr>\n",
       "      <th>2016-01-02 11:02:19</th>\n",
       "      <td>cbf1a749fcec0f88ea24c71835fbaf89</td>\n",
       "      <td>dd65fa250fca2833a3a8c16d2cf0457c</td>\n",
       "      <td>f545fbb1de11c2db267e59ab6d9c7e58</td>\n",
       "      <td>ca064c2682ca48c6a21de012e87c0df5</td>\n",
       "      <td>2301bc920194c95cf0c7486e5675243c</td>\n",
       "      <td>20.2</td>\n",
       "      <td>2016-01-02 11:02:19</td>\n",
       "      <td>11</td>\n",
       "      <td>5</td>\n",
       "      <td>1.0</td>\n",
       "      <td>9.424896</td>\n",
       "    </tr>\n",
       "    <tr>\n",
       "      <th>2016-01-02 12:47:45</th>\n",
       "      <td>46699e0ca7670201c3b341499f92724a</td>\n",
       "      <td>dd65fa250fca2833a3a8c16d2cf0457c</td>\n",
       "      <td>7de2f1bc90eee499b183ef0a4e9dcd05</td>\n",
       "      <td>52a4e8aaa12f70020e889aed8fd5ddbc</td>\n",
       "      <td>ca064c2682ca48c6a21de012e87c0df5</td>\n",
       "      <td>18.0</td>\n",
       "      <td>2016-01-02 12:47:45</td>\n",
       "      <td>12</td>\n",
       "      <td>5</td>\n",
       "      <td>1.0</td>\n",
       "      <td>8.398422</td>\n",
       "    </tr>\n",
       "    <tr>\n",
       "      <th>2016-01-02 13:16:27</th>\n",
       "      <td>ac7f7885a2ecbd2394f1a3c0e8c9c502</td>\n",
       "      <td>dd65fa250fca2833a3a8c16d2cf0457c</td>\n",
       "      <td>0dc8a8f09c6b080d0d07629693e1e947</td>\n",
       "      <td>ca064c2682ca48c6a21de012e87c0df5</td>\n",
       "      <td>ca064c2682ca48c6a21de012e87c0df5</td>\n",
       "      <td>7.0</td>\n",
       "      <td>2016-01-02 13:16:27</td>\n",
       "      <td>13</td>\n",
       "      <td>5</td>\n",
       "      <td>1.0</td>\n",
       "      <td>3.266053</td>\n",
       "    </tr>\n",
       "    <tr>\n",
       "      <th>2016-01-03 05:26:29</th>\n",
       "      <td>12c2f111489a06d3cddf6faa839e0dec</td>\n",
       "      <td>dd65fa250fca2833a3a8c16d2cf0457c</td>\n",
       "      <td>e64a8bec6b6a0b7fca9c88bbdbb88817</td>\n",
       "      <td>62afaf3288e236b389af9cfdc5206415</td>\n",
       "      <td>62afaf3288e236b389af9cfdc5206415</td>\n",
       "      <td>11.0</td>\n",
       "      <td>2016-01-03 05:26:29</td>\n",
       "      <td>5</td>\n",
       "      <td>6</td>\n",
       "      <td>1.0</td>\n",
       "      <td>5.132369</td>\n",
       "    </tr>\n",
       "    <tr>\n",
       "      <th>2016-01-03 05:38:28</th>\n",
       "      <td>7cbe93771a7c268e61bdebc03e6c3197</td>\n",
       "      <td>dd65fa250fca2833a3a8c16d2cf0457c</td>\n",
       "      <td>e5784a5e29b85597fd433a945550b103</td>\n",
       "      <td>62afaf3288e236b389af9cfdc5206415</td>\n",
       "      <td>62afaf3288e236b389af9cfdc5206415</td>\n",
       "      <td>9.0</td>\n",
       "      <td>2016-01-03 05:38:28</td>\n",
       "      <td>5</td>\n",
       "      <td>6</td>\n",
       "      <td>1.0</td>\n",
       "      <td>4.199211</td>\n",
       "    </tr>\n",
       "    <tr>\n",
       "      <th>2016-01-03 05:52:14</th>\n",
       "      <td>da290dc3a3f0347bcbb63ad6b1303a2a</td>\n",
       "      <td>dd65fa250fca2833a3a8c16d2cf0457c</td>\n",
       "      <td>913a8dfa1bfef70d158da1c43cdbd581</td>\n",
       "      <td>62afaf3288e236b389af9cfdc5206415</td>\n",
       "      <td>d4ec2125aff74eded207d2d915ef682f</td>\n",
       "      <td>9.0</td>\n",
       "      <td>2016-01-03 05:52:14</td>\n",
       "      <td>5</td>\n",
       "      <td>6</td>\n",
       "      <td>1.0</td>\n",
       "      <td>4.199211</td>\n",
       "    </tr>\n",
       "    <tr>\n",
       "      <th>2016-01-03 06:09:52</th>\n",
       "      <td>6705b1beddb2196f66abcf06e3596cd3</td>\n",
       "      <td>dd65fa250fca2833a3a8c16d2cf0457c</td>\n",
       "      <td>717d28f48491af824597dd1af265e99b</td>\n",
       "      <td>62afaf3288e236b389af9cfdc5206415</td>\n",
       "      <td>d4ec2125aff74eded207d2d915ef682f</td>\n",
       "      <td>11.0</td>\n",
       "      <td>2016-01-03 06:09:52</td>\n",
       "      <td>6</td>\n",
       "      <td>6</td>\n",
       "      <td>1.0</td>\n",
       "      <td>5.132369</td>\n",
       "    </tr>\n",
       "    <tr>\n",
       "      <th>2016-01-03 06:10:41</th>\n",
       "      <td>970d64ebb3bc6a8529d40040a32f9a30</td>\n",
       "      <td>dd65fa250fca2833a3a8c16d2cf0457c</td>\n",
       "      <td>c71253aedf39f69cabe5719fcf889fa4</td>\n",
       "      <td>d4ec2125aff74eded207d2d915ef682f</td>\n",
       "      <td>1afd7afbc81ecc1b13886a569d869e8a</td>\n",
       "      <td>30.0</td>\n",
       "      <td>2016-01-03 06:10:41</td>\n",
       "      <td>6</td>\n",
       "      <td>6</td>\n",
       "      <td>1.0</td>\n",
       "      <td>13.997370</td>\n",
       "    </tr>\n",
       "    <tr>\n",
       "      <th>2016-01-03 07:21:36</th>\n",
       "      <td>f72713211a118fee4007005e15fe517f</td>\n",
       "      <td>dd65fa250fca2833a3a8c16d2cf0457c</td>\n",
       "      <td>20d7086f53f955577530442c809d1bcb</td>\n",
       "      <td>1afd7afbc81ecc1b13886a569d869e8a</td>\n",
       "      <td>d4ec2125aff74eded207d2d915ef682f</td>\n",
       "      <td>21.0</td>\n",
       "      <td>2016-01-03 07:21:36</td>\n",
       "      <td>7</td>\n",
       "      <td>6</td>\n",
       "      <td>1.0</td>\n",
       "      <td>9.798159</td>\n",
       "    </tr>\n",
       "    <tr>\n",
       "      <th>2016-01-03 08:06:17</th>\n",
       "      <td>349cbbb0a9a226fb9696cecbc4f86805</td>\n",
       "      <td>dd65fa250fca2833a3a8c16d2cf0457c</td>\n",
       "      <td>816d249293b7edf8dfc85bc7a4c5df7a</td>\n",
       "      <td>62afaf3288e236b389af9cfdc5206415</td>\n",
       "      <td>d4ec2125aff74eded207d2d915ef682f</td>\n",
       "      <td>22.0</td>\n",
       "      <td>2016-01-03 08:06:17</td>\n",
       "      <td>8</td>\n",
       "      <td>6</td>\n",
       "      <td>1.0</td>\n",
       "      <td>10.264738</td>\n",
       "    </tr>\n",
       "    <tr>\n",
       "      <th>2016-01-03 08:31:55</th>\n",
       "      <td>5263a0956fb5fdd2fbf74d37de9f0db5</td>\n",
       "      <td>dd65fa250fca2833a3a8c16d2cf0457c</td>\n",
       "      <td>2191a136cbb00f663ff14e70b95a1401</td>\n",
       "      <td>4725c39a5e5f4c188d382da3910b3f3f</td>\n",
       "      <td>d4ec2125aff74eded207d2d915ef682f</td>\n",
       "      <td>16.0</td>\n",
       "      <td>2016-01-03 08:31:55</td>\n",
       "      <td>8</td>\n",
       "      <td>6</td>\n",
       "      <td>1.0</td>\n",
       "      <td>7.465264</td>\n",
       "    </tr>\n",
       "    <tr>\n",
       "      <th>2016-01-03 08:55:54</th>\n",
       "      <td>272ee3a50821b5050071559ac1b9af77</td>\n",
       "      <td>dd65fa250fca2833a3a8c16d2cf0457c</td>\n",
       "      <td>83bd91f5b3b118d80c032661bb7a547e</td>\n",
       "      <td>d4ec2125aff74eded207d2d915ef682f</td>\n",
       "      <td>62afaf3288e236b389af9cfdc5206415</td>\n",
       "      <td>6.0</td>\n",
       "      <td>2016-01-03 08:55:54</td>\n",
       "      <td>8</td>\n",
       "      <td>6</td>\n",
       "      <td>1.0</td>\n",
       "      <td>2.799474</td>\n",
       "    </tr>\n",
       "    <tr>\n",
       "      <th>2016-01-03 09:49:34</th>\n",
       "      <td>6b7c4c83cdd91d6b7c58bd61505371fd</td>\n",
       "      <td>dd65fa250fca2833a3a8c16d2cf0457c</td>\n",
       "      <td>a1358875e79442067c619f3ade732902</td>\n",
       "      <td>62afaf3288e236b389af9cfdc5206415</td>\n",
       "      <td>62afaf3288e236b389af9cfdc5206415</td>\n",
       "      <td>7.0</td>\n",
       "      <td>2016-01-03 09:49:34</td>\n",
       "      <td>9</td>\n",
       "      <td>6</td>\n",
       "      <td>1.0</td>\n",
       "      <td>3.266053</td>\n",
       "    </tr>\n",
       "    <tr>\n",
       "      <th>2016-01-03 10:06:56</th>\n",
       "      <td>faa5b813dedc7e4576c08489f76f35eb</td>\n",
       "      <td>dd65fa250fca2833a3a8c16d2cf0457c</td>\n",
       "      <td>239bb26279c627fc247d7f295464654b</td>\n",
       "      <td>62afaf3288e236b389af9cfdc5206415</td>\n",
       "      <td>2920ece99323b4c111d6f9affc7ea034</td>\n",
       "      <td>30.0</td>\n",
       "      <td>2016-01-03 10:06:56</td>\n",
       "      <td>10</td>\n",
       "      <td>6</td>\n",
       "      <td>1.0</td>\n",
       "      <td>13.997370</td>\n",
       "    </tr>\n",
       "    <tr>\n",
       "      <th>2016-01-03 10:32:45</th>\n",
       "      <td>1853c7f2088cc7e0c300f10227c0d93c</td>\n",
       "      <td>dd65fa250fca2833a3a8c16d2cf0457c</td>\n",
       "      <td>5602f9465ebda4134f3e3833df4678b1</td>\n",
       "      <td>1afd7afbc81ecc1b13886a569d869e8a</td>\n",
       "      <td>74ec84f1cf75cf89ae176c8c6ceec5ba</td>\n",
       "      <td>20.1</td>\n",
       "      <td>2016-01-03 10:32:45</td>\n",
       "      <td>10</td>\n",
       "      <td>6</td>\n",
       "      <td>1.0</td>\n",
       "      <td>9.378238</td>\n",
       "    </tr>\n",
       "    <tr>\n",
       "      <th>2016-01-03 11:36:12</th>\n",
       "      <td>ac667342c337a13464765605fc749389</td>\n",
       "      <td>dd65fa250fca2833a3a8c16d2cf0457c</td>\n",
       "      <td>bf668829d5621ac535e0bf95c522a4ca</td>\n",
       "      <td>f9280c5dab6910ed44e518248048b9fe</td>\n",
       "      <td>f9280c5dab6910ed44e518248048b9fe</td>\n",
       "      <td>3.0</td>\n",
       "      <td>2016-01-03 11:36:12</td>\n",
       "      <td>11</td>\n",
       "      <td>6</td>\n",
       "      <td>1.0</td>\n",
       "      <td>1.399737</td>\n",
       "    </tr>\n",
       "    <tr>\n",
       "      <th>2016-01-03 11:44:46</th>\n",
       "      <td>4687e17f630d4840c2d79ae7a9e7bfa8</td>\n",
       "      <td>dd65fa250fca2833a3a8c16d2cf0457c</td>\n",
       "      <td>05b33f12ab9df67d7a16ce7b517b2e0c</td>\n",
       "      <td>f9280c5dab6910ed44e518248048b9fe</td>\n",
       "      <td>1afd7afbc81ecc1b13886a569d869e8a</td>\n",
       "      <td>30.0</td>\n",
       "      <td>2016-01-03 11:44:46</td>\n",
       "      <td>11</td>\n",
       "      <td>6</td>\n",
       "      <td>1.0</td>\n",
       "      <td>13.997370</td>\n",
       "    </tr>\n",
       "    <tr>\n",
       "      <th>2016-01-03 12:48:45</th>\n",
       "      <td>dd672f3e8b39971eff0d5f2458425d84</td>\n",
       "      <td>dd65fa250fca2833a3a8c16d2cf0457c</td>\n",
       "      <td>63df15c3c07df88559ee084f3c2eff40</td>\n",
       "      <td>1afd7afbc81ecc1b13886a569d869e8a</td>\n",
       "      <td>2920ece99323b4c111d6f9affc7ea034</td>\n",
       "      <td>7.0</td>\n",
       "      <td>2016-01-03 12:48:45</td>\n",
       "      <td>12</td>\n",
       "      <td>6</td>\n",
       "      <td>1.0</td>\n",
       "      <td>3.266053</td>\n",
       "    </tr>\n",
       "    <tr>\n",
       "      <th>2016-01-03 13:03:09</th>\n",
       "      <td>36609eea7b80598394b398fd51c25b08</td>\n",
       "      <td>dd65fa250fca2833a3a8c16d2cf0457c</td>\n",
       "      <td>7492438e3b5d380116fbb540243e95bd</td>\n",
       "      <td>2920ece99323b4c111d6f9affc7ea034</td>\n",
       "      <td>2407d482f0ffa22a947068f2551fe62c</td>\n",
       "      <td>21.0</td>\n",
       "      <td>2016-01-03 13:03:09</td>\n",
       "      <td>13</td>\n",
       "      <td>6</td>\n",
       "      <td>1.0</td>\n",
       "      <td>9.798159</td>\n",
       "    </tr>\n",
       "    <tr>\n",
       "      <th>2016-01-03 13:33:36</th>\n",
       "      <td>eb76cf12e521555b89fdd6a4571379ab</td>\n",
       "      <td>dd65fa250fca2833a3a8c16d2cf0457c</td>\n",
       "      <td>4e4c87fb354ee221222a73fbcbd8fee4</td>\n",
       "      <td>2407d482f0ffa22a947068f2551fe62c</td>\n",
       "      <td>2920ece99323b4c111d6f9affc7ea034</td>\n",
       "      <td>24.0</td>\n",
       "      <td>2016-01-03 13:33:36</td>\n",
       "      <td>13</td>\n",
       "      <td>6</td>\n",
       "      <td>1.0</td>\n",
       "      <td>11.197896</td>\n",
       "    </tr>\n",
       "    <tr>\n",
       "      <th>...</th>\n",
       "      <td>...</td>\n",
       "      <td>...</td>\n",
       "      <td>...</td>\n",
       "      <td>...</td>\n",
       "      <td>...</td>\n",
       "      <td>...</td>\n",
       "      <td>...</td>\n",
       "      <td>...</td>\n",
       "      <td>...</td>\n",
       "      <td>...</td>\n",
       "      <td>...</td>\n",
       "    </tr>\n",
       "    <tr>\n",
       "      <th>2016-01-18 16:32:40</th>\n",
       "      <td>7d03056f90cf54c537e96753705f3b16</td>\n",
       "      <td>dd65fa250fca2833a3a8c16d2cf0457c</td>\n",
       "      <td>56018323b921dd2c5444f98fb45509de</td>\n",
       "      <td>62afaf3288e236b389af9cfdc5206415</td>\n",
       "      <td>62afaf3288e236b389af9cfdc5206415</td>\n",
       "      <td>17.0</td>\n",
       "      <td>2016-01-18 16:32:40</td>\n",
       "      <td>16</td>\n",
       "      <td>0</td>\n",
       "      <td>1.0</td>\n",
       "      <td>7.931843</td>\n",
       "    </tr>\n",
       "    <tr>\n",
       "      <th>2016-01-18 16:33:59</th>\n",
       "      <td>b3e23341ffd45f150a674714f93beca1</td>\n",
       "      <td>dd65fa250fca2833a3a8c16d2cf0457c</td>\n",
       "      <td>df7d2b1e820fb704794f2693c9442b85</td>\n",
       "      <td>62afaf3288e236b389af9cfdc5206415</td>\n",
       "      <td>62afaf3288e236b389af9cfdc5206415</td>\n",
       "      <td>10.0</td>\n",
       "      <td>2016-01-18 16:33:59</td>\n",
       "      <td>16</td>\n",
       "      <td>0</td>\n",
       "      <td>1.0</td>\n",
       "      <td>4.665790</td>\n",
       "    </tr>\n",
       "    <tr>\n",
       "      <th>2016-01-18 16:58:38</th>\n",
       "      <td>041abb9010534d3247375f748307ed9a</td>\n",
       "      <td>dd65fa250fca2833a3a8c16d2cf0457c</td>\n",
       "      <td>2b21491c9c6ce7f3401740ad491b7e3e</td>\n",
       "      <td>62afaf3288e236b389af9cfdc5206415</td>\n",
       "      <td>62afaf3288e236b389af9cfdc5206415</td>\n",
       "      <td>9.6</td>\n",
       "      <td>2016-01-18 16:58:38</td>\n",
       "      <td>16</td>\n",
       "      <td>0</td>\n",
       "      <td>1.0</td>\n",
       "      <td>4.479158</td>\n",
       "    </tr>\n",
       "    <tr>\n",
       "      <th>2016-01-18 17:07:18</th>\n",
       "      <td>85f50cedb44efce17e3b6440e9f40227</td>\n",
       "      <td>dd65fa250fca2833a3a8c16d2cf0457c</td>\n",
       "      <td>472afed86b7cab67f846a9fb5dcf9e69</td>\n",
       "      <td>62afaf3288e236b389af9cfdc5206415</td>\n",
       "      <td>2407d482f0ffa22a947068f2551fe62c</td>\n",
       "      <td>21.0</td>\n",
       "      <td>2016-01-18 17:07:18</td>\n",
       "      <td>17</td>\n",
       "      <td>0</td>\n",
       "      <td>1.0</td>\n",
       "      <td>9.798159</td>\n",
       "    </tr>\n",
       "    <tr>\n",
       "      <th>2016-01-18 18:05:00</th>\n",
       "      <td>4802ee4e6d39b00c76f4c715c5ff930a</td>\n",
       "      <td>dd65fa250fca2833a3a8c16d2cf0457c</td>\n",
       "      <td>535bd8735c8d1a8d5372bda0fa2036af</td>\n",
       "      <td>91690261186ae5bee8f83808ea1e4a01</td>\n",
       "      <td>b05379ac3f9b7d99370d443cfd5dcc28</td>\n",
       "      <td>57.0</td>\n",
       "      <td>2016-01-18 18:05:00</td>\n",
       "      <td>18</td>\n",
       "      <td>0</td>\n",
       "      <td>1.0</td>\n",
       "      <td>26.595004</td>\n",
       "    </tr>\n",
       "    <tr>\n",
       "      <th>2016-01-18 19:20:20</th>\n",
       "      <td>96208870abc13cb4e3150ee9e1599e01</td>\n",
       "      <td>dd65fa250fca2833a3a8c16d2cf0457c</td>\n",
       "      <td>7bdb55b90b48eb131afdce4fd3f91056</td>\n",
       "      <td>b05379ac3f9b7d99370d443cfd5dcc28</td>\n",
       "      <td>82cc4851f9e4faa4e54309f8bb73fd7c</td>\n",
       "      <td>15.6</td>\n",
       "      <td>2016-01-18 19:20:20</td>\n",
       "      <td>19</td>\n",
       "      <td>0</td>\n",
       "      <td>1.0</td>\n",
       "      <td>7.278633</td>\n",
       "    </tr>\n",
       "    <tr>\n",
       "      <th>2016-01-19 06:05:15</th>\n",
       "      <td>7c17dd626bb976f7e2e8a546e1af8101</td>\n",
       "      <td>dd65fa250fca2833a3a8c16d2cf0457c</td>\n",
       "      <td>57001e8b8129c11bb8a007cd30a33da3</td>\n",
       "      <td>ca064c2682ca48c6a21de012e87c0df5</td>\n",
       "      <td>52a4e8aaa12f70020e889aed8fd5ddbc</td>\n",
       "      <td>11.0</td>\n",
       "      <td>2016-01-19 06:05:15</td>\n",
       "      <td>6</td>\n",
       "      <td>1</td>\n",
       "      <td>1.0</td>\n",
       "      <td>5.132369</td>\n",
       "    </tr>\n",
       "    <tr>\n",
       "      <th>2016-01-19 06:16:31</th>\n",
       "      <td>65bc1ae9da067b44f7086be51baf544c</td>\n",
       "      <td>dd65fa250fca2833a3a8c16d2cf0457c</td>\n",
       "      <td>da28f2e6ee0c665ea7fd0a92a8d32534</td>\n",
       "      <td>ca064c2682ca48c6a21de012e87c0df5</td>\n",
       "      <td>62afaf3288e236b389af9cfdc5206415</td>\n",
       "      <td>30.0</td>\n",
       "      <td>2016-01-19 06:16:31</td>\n",
       "      <td>6</td>\n",
       "      <td>1</td>\n",
       "      <td>1.0</td>\n",
       "      <td>13.997370</td>\n",
       "    </tr>\n",
       "    <tr>\n",
       "      <th>2016-01-19 08:12:59</th>\n",
       "      <td>3693ac525af51a87d6dd7e7b93f1ba32</td>\n",
       "      <td>dd65fa250fca2833a3a8c16d2cf0457c</td>\n",
       "      <td>91eb52db96410fc3012d2ebb407d0179</td>\n",
       "      <td>d4ec2125aff74eded207d2d915ef682f</td>\n",
       "      <td>fc34648599753c9e74ab238e9a4a07ad</td>\n",
       "      <td>59.0</td>\n",
       "      <td>2016-01-19 08:12:59</td>\n",
       "      <td>8</td>\n",
       "      <td>1</td>\n",
       "      <td>1.0</td>\n",
       "      <td>27.528162</td>\n",
       "    </tr>\n",
       "    <tr>\n",
       "      <th>2016-01-19 09:46:16</th>\n",
       "      <td>2a32f9ab50848f83985bf73eb8c77584</td>\n",
       "      <td>dd65fa250fca2833a3a8c16d2cf0457c</td>\n",
       "      <td>10290113be0d2e93c4cbdb32fa23294e</td>\n",
       "      <td>2301bc920194c95cf0c7486e5675243c</td>\n",
       "      <td>87285a66236346350541b8815c5fae94</td>\n",
       "      <td>8.0</td>\n",
       "      <td>2016-01-19 09:46:16</td>\n",
       "      <td>9</td>\n",
       "      <td>1</td>\n",
       "      <td>1.0</td>\n",
       "      <td>3.732632</td>\n",
       "    </tr>\n",
       "    <tr>\n",
       "      <th>2016-01-19 09:59:58</th>\n",
       "      <td>f720d3008ee5b2a2c2bcbb79b214c260</td>\n",
       "      <td>dd65fa250fca2833a3a8c16d2cf0457c</td>\n",
       "      <td>68cab11f2da7fcf5d39305178581678d</td>\n",
       "      <td>87285a66236346350541b8815c5fae94</td>\n",
       "      <td>87285a66236346350541b8815c5fae94</td>\n",
       "      <td>10.0</td>\n",
       "      <td>2016-01-19 09:59:58</td>\n",
       "      <td>9</td>\n",
       "      <td>1</td>\n",
       "      <td>1.0</td>\n",
       "      <td>4.665790</td>\n",
       "    </tr>\n",
       "    <tr>\n",
       "      <th>2016-01-19 10:52:03</th>\n",
       "      <td>c8a90c9d748c1749a4124a3fa33ce042</td>\n",
       "      <td>dd65fa250fca2833a3a8c16d2cf0457c</td>\n",
       "      <td>e1de09f34ff84afed14217c8df6b320b</td>\n",
       "      <td>ca064c2682ca48c6a21de012e87c0df5</td>\n",
       "      <td>ca064c2682ca48c6a21de012e87c0df5</td>\n",
       "      <td>4.0</td>\n",
       "      <td>2016-01-19 10:52:03</td>\n",
       "      <td>10</td>\n",
       "      <td>1</td>\n",
       "      <td>1.0</td>\n",
       "      <td>1.866316</td>\n",
       "    </tr>\n",
       "    <tr>\n",
       "      <th>2016-01-19 13:05:28</th>\n",
       "      <td>dcc787726b4dc914da84d40501269b89</td>\n",
       "      <td>dd65fa250fca2833a3a8c16d2cf0457c</td>\n",
       "      <td>f731cbe7b3990e2ea8fa79f44f2a108b</td>\n",
       "      <td>ca064c2682ca48c6a21de012e87c0df5</td>\n",
       "      <td>52a4e8aaa12f70020e889aed8fd5ddbc</td>\n",
       "      <td>9.9</td>\n",
       "      <td>2016-01-19 13:05:28</td>\n",
       "      <td>13</td>\n",
       "      <td>1</td>\n",
       "      <td>1.0</td>\n",
       "      <td>4.619132</td>\n",
       "    </tr>\n",
       "    <tr>\n",
       "      <th>2016-01-19 13:28:41</th>\n",
       "      <td>7e67429d3fb0d8dd51ee39faad776094</td>\n",
       "      <td>dd65fa250fca2833a3a8c16d2cf0457c</td>\n",
       "      <td>e3ea51eb44c95841a56716b018accbad</td>\n",
       "      <td>52a4e8aaa12f70020e889aed8fd5ddbc</td>\n",
       "      <td>52a4e8aaa12f70020e889aed8fd5ddbc</td>\n",
       "      <td>14.0</td>\n",
       "      <td>2016-01-19 13:28:41</td>\n",
       "      <td>13</td>\n",
       "      <td>1</td>\n",
       "      <td>1.0</td>\n",
       "      <td>6.532106</td>\n",
       "    </tr>\n",
       "    <tr>\n",
       "      <th>2016-01-19 13:41:24</th>\n",
       "      <td>cce63701e76a5c89a50d414fb21826fe</td>\n",
       "      <td>dd65fa250fca2833a3a8c16d2cf0457c</td>\n",
       "      <td>516c3265b11f13d42b3647ce4615e100</td>\n",
       "      <td>52a4e8aaa12f70020e889aed8fd5ddbc</td>\n",
       "      <td>ca064c2682ca48c6a21de012e87c0df5</td>\n",
       "      <td>9.0</td>\n",
       "      <td>2016-01-19 13:41:24</td>\n",
       "      <td>13</td>\n",
       "      <td>1</td>\n",
       "      <td>1.0</td>\n",
       "      <td>4.199211</td>\n",
       "    </tr>\n",
       "    <tr>\n",
       "      <th>2016-01-19 13:58:37</th>\n",
       "      <td>549f7ca594da9ff391a2206a2243b995</td>\n",
       "      <td>dd65fa250fca2833a3a8c16d2cf0457c</td>\n",
       "      <td>410142489fbb21648819dcef2086c0b0</td>\n",
       "      <td>ca064c2682ca48c6a21de012e87c0df5</td>\n",
       "      <td>ca064c2682ca48c6a21de012e87c0df5</td>\n",
       "      <td>15.6</td>\n",
       "      <td>2016-01-19 13:58:37</td>\n",
       "      <td>13</td>\n",
       "      <td>1</td>\n",
       "      <td>1.0</td>\n",
       "      <td>7.278633</td>\n",
       "    </tr>\n",
       "    <tr>\n",
       "      <th>2016-01-19 14:09:40</th>\n",
       "      <td>daad3d2a69dec763c1160a7bf7729041</td>\n",
       "      <td>dd65fa250fca2833a3a8c16d2cf0457c</td>\n",
       "      <td>7292ef1bcc53a83fe6d311c69983bed5</td>\n",
       "      <td>ca064c2682ca48c6a21de012e87c0df5</td>\n",
       "      <td>d4ec2125aff74eded207d2d915ef682f</td>\n",
       "      <td>34.1</td>\n",
       "      <td>2016-01-19 14:09:40</td>\n",
       "      <td>14</td>\n",
       "      <td>1</td>\n",
       "      <td>1.0</td>\n",
       "      <td>15.910344</td>\n",
       "    </tr>\n",
       "    <tr>\n",
       "      <th>2016-01-19 18:15:40</th>\n",
       "      <td>b8a71a0786c062da36abe84cd2dcc6a6</td>\n",
       "      <td>dd65fa250fca2833a3a8c16d2cf0457c</td>\n",
       "      <td>28cf9fc5441bd26d5909088ae13b6ec7</td>\n",
       "      <td>ca064c2682ca48c6a21de012e87c0df5</td>\n",
       "      <td>52a4e8aaa12f70020e889aed8fd5ddbc</td>\n",
       "      <td>11.8</td>\n",
       "      <td>2016-01-19 18:15:40</td>\n",
       "      <td>18</td>\n",
       "      <td>1</td>\n",
       "      <td>1.0</td>\n",
       "      <td>5.505632</td>\n",
       "    </tr>\n",
       "    <tr>\n",
       "      <th>2016-01-19 18:22:32</th>\n",
       "      <td>aa4422b5be6a81c4c68fe876845c3811</td>\n",
       "      <td>dd65fa250fca2833a3a8c16d2cf0457c</td>\n",
       "      <td>28cf9fc5441bd26d5909088ae13b6ec7</td>\n",
       "      <td>ca064c2682ca48c6a21de012e87c0df5</td>\n",
       "      <td>52a4e8aaa12f70020e889aed8fd5ddbc</td>\n",
       "      <td>11.8</td>\n",
       "      <td>2016-01-19 18:22:32</td>\n",
       "      <td>18</td>\n",
       "      <td>1</td>\n",
       "      <td>1.0</td>\n",
       "      <td>5.505632</td>\n",
       "    </tr>\n",
       "    <tr>\n",
       "      <th>2016-01-19 19:06:41</th>\n",
       "      <td>b9e419088a22d09da5cd0bb8c2a75d3d</td>\n",
       "      <td>dd65fa250fca2833a3a8c16d2cf0457c</td>\n",
       "      <td>4f1ed81217fb962bfc8e875bbf3e991b</td>\n",
       "      <td>ca064c2682ca48c6a21de012e87c0df5</td>\n",
       "      <td>ca064c2682ca48c6a21de012e87c0df5</td>\n",
       "      <td>8.0</td>\n",
       "      <td>2016-01-19 19:06:41</td>\n",
       "      <td>19</td>\n",
       "      <td>1</td>\n",
       "      <td>1.0</td>\n",
       "      <td>3.732632</td>\n",
       "    </tr>\n",
       "    <tr>\n",
       "      <th>2016-01-19 19:15:52</th>\n",
       "      <td>c93eba5e3ea6ce2dbf5a198147d3ce02</td>\n",
       "      <td>dd65fa250fca2833a3a8c16d2cf0457c</td>\n",
       "      <td>0c0d50cc51b732ccf70382c74bdd099d</td>\n",
       "      <td>ca064c2682ca48c6a21de012e87c0df5</td>\n",
       "      <td>58c7a4888306d8ff3a641d1c0feccbe3</td>\n",
       "      <td>36.5</td>\n",
       "      <td>2016-01-19 19:15:52</td>\n",
       "      <td>19</td>\n",
       "      <td>1</td>\n",
       "      <td>1.0</td>\n",
       "      <td>17.030134</td>\n",
       "    </tr>\n",
       "    <tr>\n",
       "      <th>2016-01-19 19:58:04</th>\n",
       "      <td>282872e4002b4949bf00a78e1fb20155</td>\n",
       "      <td>dd65fa250fca2833a3a8c16d2cf0457c</td>\n",
       "      <td>7f3ae2d072fe1fc41b2ae06fd096adbc</td>\n",
       "      <td>2301bc920194c95cf0c7486e5675243c</td>\n",
       "      <td>2301bc920194c95cf0c7486e5675243c</td>\n",
       "      <td>4.0</td>\n",
       "      <td>2016-01-19 19:58:04</td>\n",
       "      <td>19</td>\n",
       "      <td>1</td>\n",
       "      <td>1.0</td>\n",
       "      <td>1.866316</td>\n",
       "    </tr>\n",
       "    <tr>\n",
       "      <th>2016-01-21 12:27:22</th>\n",
       "      <td>341d66824da4dc99343e0147e1d462c4</td>\n",
       "      <td>dd65fa250fca2833a3a8c16d2cf0457c</td>\n",
       "      <td>1bd51083762182d88eb38ae7c5e3663d</td>\n",
       "      <td>82cc4851f9e4faa4e54309f8bb73fd7c</td>\n",
       "      <td>4725c39a5e5f4c188d382da3910b3f3f</td>\n",
       "      <td>21.0</td>\n",
       "      <td>2016-01-21 12:27:22</td>\n",
       "      <td>12</td>\n",
       "      <td>3</td>\n",
       "      <td>1.0</td>\n",
       "      <td>9.798159</td>\n",
       "    </tr>\n",
       "    <tr>\n",
       "      <th>2016-01-21 16:42:31</th>\n",
       "      <td>ade19a9d28a4e6ec08df1557fa220251</td>\n",
       "      <td>dd65fa250fca2833a3a8c16d2cf0457c</td>\n",
       "      <td>ae4781e3199e515b13b27e12d1224e54</td>\n",
       "      <td>ca064c2682ca48c6a21de012e87c0df5</td>\n",
       "      <td>ca064c2682ca48c6a21de012e87c0df5</td>\n",
       "      <td>10.0</td>\n",
       "      <td>2016-01-21 16:42:31</td>\n",
       "      <td>16</td>\n",
       "      <td>3</td>\n",
       "      <td>1.0</td>\n",
       "      <td>4.665790</td>\n",
       "    </tr>\n",
       "    <tr>\n",
       "      <th>2016-01-21 17:05:24</th>\n",
       "      <td>6b73abe54b8979c0d75078cf548a3bc9</td>\n",
       "      <td>dd65fa250fca2833a3a8c16d2cf0457c</td>\n",
       "      <td>f9dd2c0ec5868866d8761337ab29291a</td>\n",
       "      <td>ca064c2682ca48c6a21de012e87c0df5</td>\n",
       "      <td>ca064c2682ca48c6a21de012e87c0df5</td>\n",
       "      <td>3.0</td>\n",
       "      <td>2016-01-21 17:05:24</td>\n",
       "      <td>17</td>\n",
       "      <td>3</td>\n",
       "      <td>1.0</td>\n",
       "      <td>1.399737</td>\n",
       "    </tr>\n",
       "    <tr>\n",
       "      <th>2016-01-21 18:18:35</th>\n",
       "      <td>c8b0bc760ae22ac760caabae25e24fe1</td>\n",
       "      <td>dd65fa250fca2833a3a8c16d2cf0457c</td>\n",
       "      <td>95597f013eb0983c52e0bd35476b3c79</td>\n",
       "      <td>ca064c2682ca48c6a21de012e87c0df5</td>\n",
       "      <td>52a4e8aaa12f70020e889aed8fd5ddbc</td>\n",
       "      <td>21.0</td>\n",
       "      <td>2016-01-21 18:18:35</td>\n",
       "      <td>18</td>\n",
       "      <td>3</td>\n",
       "      <td>1.0</td>\n",
       "      <td>9.798159</td>\n",
       "    </tr>\n",
       "    <tr>\n",
       "      <th>2016-01-21 18:31:05</th>\n",
       "      <td>2b0cc151f6be67e2c18155f18d2c4b1b</td>\n",
       "      <td>dd65fa250fca2833a3a8c16d2cf0457c</td>\n",
       "      <td>56018323b921dd2c5444f98fb45509de</td>\n",
       "      <td>52a4e8aaa12f70020e889aed8fd5ddbc</td>\n",
       "      <td>ca064c2682ca48c6a21de012e87c0df5</td>\n",
       "      <td>11.0</td>\n",
       "      <td>2016-01-21 18:31:05</td>\n",
       "      <td>18</td>\n",
       "      <td>3</td>\n",
       "      <td>1.0</td>\n",
       "      <td>5.132369</td>\n",
       "    </tr>\n",
       "    <tr>\n",
       "      <th>2016-01-22 13:05:55</th>\n",
       "      <td>2ced666aa7c3e59a3fe4b736eedbe9ab</td>\n",
       "      <td>dd65fa250fca2833a3a8c16d2cf0457c</td>\n",
       "      <td>3ac033f44b40bf8d268bbe8122fe2c83</td>\n",
       "      <td>82cc4851f9e4faa4e54309f8bb73fd7c</td>\n",
       "      <td>a5609739c6b5c2719a3752327c5e33a7</td>\n",
       "      <td>67.0</td>\n",
       "      <td>2016-01-22 13:05:55</td>\n",
       "      <td>13</td>\n",
       "      <td>4</td>\n",
       "      <td>1.0</td>\n",
       "      <td>31.260794</td>\n",
       "    </tr>\n",
       "    <tr>\n",
       "      <th>2016-01-27 07:24:06</th>\n",
       "      <td>bdf12fc4824679ae07d79157b3669d44</td>\n",
       "      <td>dd65fa250fca2833a3a8c16d2cf0457c</td>\n",
       "      <td>20264244d8473f30f7d5ad703a43d54f</td>\n",
       "      <td>2407d482f0ffa22a947068f2551fe62c</td>\n",
       "      <td>929ec6c160e6f52c20a4217c7978f681</td>\n",
       "      <td>29.3</td>\n",
       "      <td>2016-01-27 07:24:06</td>\n",
       "      <td>7</td>\n",
       "      <td>2</td>\n",
       "      <td>1.0</td>\n",
       "      <td>13.670765</td>\n",
       "    </tr>\n",
       "    <tr>\n",
       "      <th>2016-01-27 09:04:37</th>\n",
       "      <td>824d824fb7bcdece0f5eeefff7ffc388</td>\n",
       "      <td>dd65fa250fca2833a3a8c16d2cf0457c</td>\n",
       "      <td>b051ff0582a2d87f6bcc24346480af10</td>\n",
       "      <td>38d5ad2d22b61109fd8e7b43cd0e8901</td>\n",
       "      <td>b26a240205c852804ff8758628c0a86a</td>\n",
       "      <td>38.0</td>\n",
       "      <td>2016-01-27 09:04:37</td>\n",
       "      <td>9</td>\n",
       "      <td>2</td>\n",
       "      <td>1.0</td>\n",
       "      <td>17.730002</td>\n",
       "    </tr>\n",
       "  </tbody>\n",
       "</table>\n",
       "<p>257 rows × 11 columns</p>\n",
       "</div>"
      ],
      "text/plain": [
       "                                             order_id  \\\n",
       "timestamp                                               \n",
       "2016-01-01 09:22:58  236c00d175a2295ade03ab6ea4b9689a   \n",
       "2016-01-01 09:35:26  a741062b69f6f1828d69a3f771aab6d5   \n",
       "2016-01-01 09:43:39  c88282a71e988c5fb7eb11e33d5ca512   \n",
       "2016-01-01 10:02:40  8fd177882b51161c854dbd1745a54c0c   \n",
       "2016-01-01 10:04:50  a174cc46d34b2b73bbb9b94a6d022b80   \n",
       "2016-01-01 10:28:18  80559050428f704e024376a9d7306db9   \n",
       "2016-01-01 10:30:13  5e03c747494657155b21320fa49144a9   \n",
       "2016-01-01 13:37:23  97ebd0c6680f7c0535dbfdead6e51b4b   \n",
       "2016-01-01 14:10:40  d48bb6f68f10e71c358347f8d4014705   \n",
       "2016-01-02 10:57:40  0324b89ad8110089bcd1032280ba9cb3   \n",
       "2016-01-02 11:02:19  cbf1a749fcec0f88ea24c71835fbaf89   \n",
       "2016-01-02 12:47:45  46699e0ca7670201c3b341499f92724a   \n",
       "2016-01-02 13:16:27  ac7f7885a2ecbd2394f1a3c0e8c9c502   \n",
       "2016-01-03 05:26:29  12c2f111489a06d3cddf6faa839e0dec   \n",
       "2016-01-03 05:38:28  7cbe93771a7c268e61bdebc03e6c3197   \n",
       "2016-01-03 05:52:14  da290dc3a3f0347bcbb63ad6b1303a2a   \n",
       "2016-01-03 06:09:52  6705b1beddb2196f66abcf06e3596cd3   \n",
       "2016-01-03 06:10:41  970d64ebb3bc6a8529d40040a32f9a30   \n",
       "2016-01-03 07:21:36  f72713211a118fee4007005e15fe517f   \n",
       "2016-01-03 08:06:17  349cbbb0a9a226fb9696cecbc4f86805   \n",
       "2016-01-03 08:31:55  5263a0956fb5fdd2fbf74d37de9f0db5   \n",
       "2016-01-03 08:55:54  272ee3a50821b5050071559ac1b9af77   \n",
       "2016-01-03 09:49:34  6b7c4c83cdd91d6b7c58bd61505371fd   \n",
       "2016-01-03 10:06:56  faa5b813dedc7e4576c08489f76f35eb   \n",
       "2016-01-03 10:32:45  1853c7f2088cc7e0c300f10227c0d93c   \n",
       "2016-01-03 11:36:12  ac667342c337a13464765605fc749389   \n",
       "2016-01-03 11:44:46  4687e17f630d4840c2d79ae7a9e7bfa8   \n",
       "2016-01-03 12:48:45  dd672f3e8b39971eff0d5f2458425d84   \n",
       "2016-01-03 13:03:09  36609eea7b80598394b398fd51c25b08   \n",
       "2016-01-03 13:33:36  eb76cf12e521555b89fdd6a4571379ab   \n",
       "...                                               ...   \n",
       "2016-01-18 16:32:40  7d03056f90cf54c537e96753705f3b16   \n",
       "2016-01-18 16:33:59  b3e23341ffd45f150a674714f93beca1   \n",
       "2016-01-18 16:58:38  041abb9010534d3247375f748307ed9a   \n",
       "2016-01-18 17:07:18  85f50cedb44efce17e3b6440e9f40227   \n",
       "2016-01-18 18:05:00  4802ee4e6d39b00c76f4c715c5ff930a   \n",
       "2016-01-18 19:20:20  96208870abc13cb4e3150ee9e1599e01   \n",
       "2016-01-19 06:05:15  7c17dd626bb976f7e2e8a546e1af8101   \n",
       "2016-01-19 06:16:31  65bc1ae9da067b44f7086be51baf544c   \n",
       "2016-01-19 08:12:59  3693ac525af51a87d6dd7e7b93f1ba32   \n",
       "2016-01-19 09:46:16  2a32f9ab50848f83985bf73eb8c77584   \n",
       "2016-01-19 09:59:58  f720d3008ee5b2a2c2bcbb79b214c260   \n",
       "2016-01-19 10:52:03  c8a90c9d748c1749a4124a3fa33ce042   \n",
       "2016-01-19 13:05:28  dcc787726b4dc914da84d40501269b89   \n",
       "2016-01-19 13:28:41  7e67429d3fb0d8dd51ee39faad776094   \n",
       "2016-01-19 13:41:24  cce63701e76a5c89a50d414fb21826fe   \n",
       "2016-01-19 13:58:37  549f7ca594da9ff391a2206a2243b995   \n",
       "2016-01-19 14:09:40  daad3d2a69dec763c1160a7bf7729041   \n",
       "2016-01-19 18:15:40  b8a71a0786c062da36abe84cd2dcc6a6   \n",
       "2016-01-19 18:22:32  aa4422b5be6a81c4c68fe876845c3811   \n",
       "2016-01-19 19:06:41  b9e419088a22d09da5cd0bb8c2a75d3d   \n",
       "2016-01-19 19:15:52  c93eba5e3ea6ce2dbf5a198147d3ce02   \n",
       "2016-01-19 19:58:04  282872e4002b4949bf00a78e1fb20155   \n",
       "2016-01-21 12:27:22  341d66824da4dc99343e0147e1d462c4   \n",
       "2016-01-21 16:42:31  ade19a9d28a4e6ec08df1557fa220251   \n",
       "2016-01-21 17:05:24  6b73abe54b8979c0d75078cf548a3bc9   \n",
       "2016-01-21 18:18:35  c8b0bc760ae22ac760caabae25e24fe1   \n",
       "2016-01-21 18:31:05  2b0cc151f6be67e2c18155f18d2c4b1b   \n",
       "2016-01-22 13:05:55  2ced666aa7c3e59a3fe4b736eedbe9ab   \n",
       "2016-01-27 07:24:06  bdf12fc4824679ae07d79157b3669d44   \n",
       "2016-01-27 09:04:37  824d824fb7bcdece0f5eeefff7ffc388   \n",
       "\n",
       "                                            driver_id  \\\n",
       "timestamp                                               \n",
       "2016-01-01 09:22:58  dd65fa250fca2833a3a8c16d2cf0457c   \n",
       "2016-01-01 09:35:26  dd65fa250fca2833a3a8c16d2cf0457c   \n",
       "2016-01-01 09:43:39  dd65fa250fca2833a3a8c16d2cf0457c   \n",
       "2016-01-01 10:02:40  dd65fa250fca2833a3a8c16d2cf0457c   \n",
       "2016-01-01 10:04:50  dd65fa250fca2833a3a8c16d2cf0457c   \n",
       "2016-01-01 10:28:18  dd65fa250fca2833a3a8c16d2cf0457c   \n",
       "2016-01-01 10:30:13  dd65fa250fca2833a3a8c16d2cf0457c   \n",
       "2016-01-01 13:37:23  dd65fa250fca2833a3a8c16d2cf0457c   \n",
       "2016-01-01 14:10:40  dd65fa250fca2833a3a8c16d2cf0457c   \n",
       "2016-01-02 10:57:40  dd65fa250fca2833a3a8c16d2cf0457c   \n",
       "2016-01-02 11:02:19  dd65fa250fca2833a3a8c16d2cf0457c   \n",
       "2016-01-02 12:47:45  dd65fa250fca2833a3a8c16d2cf0457c   \n",
       "2016-01-02 13:16:27  dd65fa250fca2833a3a8c16d2cf0457c   \n",
       "2016-01-03 05:26:29  dd65fa250fca2833a3a8c16d2cf0457c   \n",
       "2016-01-03 05:38:28  dd65fa250fca2833a3a8c16d2cf0457c   \n",
       "2016-01-03 05:52:14  dd65fa250fca2833a3a8c16d2cf0457c   \n",
       "2016-01-03 06:09:52  dd65fa250fca2833a3a8c16d2cf0457c   \n",
       "2016-01-03 06:10:41  dd65fa250fca2833a3a8c16d2cf0457c   \n",
       "2016-01-03 07:21:36  dd65fa250fca2833a3a8c16d2cf0457c   \n",
       "2016-01-03 08:06:17  dd65fa250fca2833a3a8c16d2cf0457c   \n",
       "2016-01-03 08:31:55  dd65fa250fca2833a3a8c16d2cf0457c   \n",
       "2016-01-03 08:55:54  dd65fa250fca2833a3a8c16d2cf0457c   \n",
       "2016-01-03 09:49:34  dd65fa250fca2833a3a8c16d2cf0457c   \n",
       "2016-01-03 10:06:56  dd65fa250fca2833a3a8c16d2cf0457c   \n",
       "2016-01-03 10:32:45  dd65fa250fca2833a3a8c16d2cf0457c   \n",
       "2016-01-03 11:36:12  dd65fa250fca2833a3a8c16d2cf0457c   \n",
       "2016-01-03 11:44:46  dd65fa250fca2833a3a8c16d2cf0457c   \n",
       "2016-01-03 12:48:45  dd65fa250fca2833a3a8c16d2cf0457c   \n",
       "2016-01-03 13:03:09  dd65fa250fca2833a3a8c16d2cf0457c   \n",
       "2016-01-03 13:33:36  dd65fa250fca2833a3a8c16d2cf0457c   \n",
       "...                                               ...   \n",
       "2016-01-18 16:32:40  dd65fa250fca2833a3a8c16d2cf0457c   \n",
       "2016-01-18 16:33:59  dd65fa250fca2833a3a8c16d2cf0457c   \n",
       "2016-01-18 16:58:38  dd65fa250fca2833a3a8c16d2cf0457c   \n",
       "2016-01-18 17:07:18  dd65fa250fca2833a3a8c16d2cf0457c   \n",
       "2016-01-18 18:05:00  dd65fa250fca2833a3a8c16d2cf0457c   \n",
       "2016-01-18 19:20:20  dd65fa250fca2833a3a8c16d2cf0457c   \n",
       "2016-01-19 06:05:15  dd65fa250fca2833a3a8c16d2cf0457c   \n",
       "2016-01-19 06:16:31  dd65fa250fca2833a3a8c16d2cf0457c   \n",
       "2016-01-19 08:12:59  dd65fa250fca2833a3a8c16d2cf0457c   \n",
       "2016-01-19 09:46:16  dd65fa250fca2833a3a8c16d2cf0457c   \n",
       "2016-01-19 09:59:58  dd65fa250fca2833a3a8c16d2cf0457c   \n",
       "2016-01-19 10:52:03  dd65fa250fca2833a3a8c16d2cf0457c   \n",
       "2016-01-19 13:05:28  dd65fa250fca2833a3a8c16d2cf0457c   \n",
       "2016-01-19 13:28:41  dd65fa250fca2833a3a8c16d2cf0457c   \n",
       "2016-01-19 13:41:24  dd65fa250fca2833a3a8c16d2cf0457c   \n",
       "2016-01-19 13:58:37  dd65fa250fca2833a3a8c16d2cf0457c   \n",
       "2016-01-19 14:09:40  dd65fa250fca2833a3a8c16d2cf0457c   \n",
       "2016-01-19 18:15:40  dd65fa250fca2833a3a8c16d2cf0457c   \n",
       "2016-01-19 18:22:32  dd65fa250fca2833a3a8c16d2cf0457c   \n",
       "2016-01-19 19:06:41  dd65fa250fca2833a3a8c16d2cf0457c   \n",
       "2016-01-19 19:15:52  dd65fa250fca2833a3a8c16d2cf0457c   \n",
       "2016-01-19 19:58:04  dd65fa250fca2833a3a8c16d2cf0457c   \n",
       "2016-01-21 12:27:22  dd65fa250fca2833a3a8c16d2cf0457c   \n",
       "2016-01-21 16:42:31  dd65fa250fca2833a3a8c16d2cf0457c   \n",
       "2016-01-21 17:05:24  dd65fa250fca2833a3a8c16d2cf0457c   \n",
       "2016-01-21 18:18:35  dd65fa250fca2833a3a8c16d2cf0457c   \n",
       "2016-01-21 18:31:05  dd65fa250fca2833a3a8c16d2cf0457c   \n",
       "2016-01-22 13:05:55  dd65fa250fca2833a3a8c16d2cf0457c   \n",
       "2016-01-27 07:24:06  dd65fa250fca2833a3a8c16d2cf0457c   \n",
       "2016-01-27 09:04:37  dd65fa250fca2833a3a8c16d2cf0457c   \n",
       "\n",
       "                                         passenger_id  \\\n",
       "timestamp                                               \n",
       "2016-01-01 09:22:58  ce27cf85aaa48764f650414d71f3674e   \n",
       "2016-01-01 09:35:26  1dc3e244fdef29a3299722f9aa26720f   \n",
       "2016-01-01 09:43:39  adbd59353c4651fc77405876d9e92638   \n",
       "2016-01-01 10:02:40  2cf11c2f409e7c4503e0b47c6f7d2ba9   \n",
       "2016-01-01 10:04:50  5d8886092bbb717e0ccf37cb2d7a9661   \n",
       "2016-01-01 10:28:18  4c5946a01d3764886040ba18fac717d6   \n",
       "2016-01-01 10:30:13  da8ccb4ff0f510e46bb4643b8a785242   \n",
       "2016-01-01 13:37:23  ed180d7daf639d936f1aeae4f7fb482f   \n",
       "2016-01-01 14:10:40  88505970b8a7039e07575480c221386d   \n",
       "2016-01-02 10:57:40  0385c382b1436fa5d3b0874e5c9be200   \n",
       "2016-01-02 11:02:19  f545fbb1de11c2db267e59ab6d9c7e58   \n",
       "2016-01-02 12:47:45  7de2f1bc90eee499b183ef0a4e9dcd05   \n",
       "2016-01-02 13:16:27  0dc8a8f09c6b080d0d07629693e1e947   \n",
       "2016-01-03 05:26:29  e64a8bec6b6a0b7fca9c88bbdbb88817   \n",
       "2016-01-03 05:38:28  e5784a5e29b85597fd433a945550b103   \n",
       "2016-01-03 05:52:14  913a8dfa1bfef70d158da1c43cdbd581   \n",
       "2016-01-03 06:09:52  717d28f48491af824597dd1af265e99b   \n",
       "2016-01-03 06:10:41  c71253aedf39f69cabe5719fcf889fa4   \n",
       "2016-01-03 07:21:36  20d7086f53f955577530442c809d1bcb   \n",
       "2016-01-03 08:06:17  816d249293b7edf8dfc85bc7a4c5df7a   \n",
       "2016-01-03 08:31:55  2191a136cbb00f663ff14e70b95a1401   \n",
       "2016-01-03 08:55:54  83bd91f5b3b118d80c032661bb7a547e   \n",
       "2016-01-03 09:49:34  a1358875e79442067c619f3ade732902   \n",
       "2016-01-03 10:06:56  239bb26279c627fc247d7f295464654b   \n",
       "2016-01-03 10:32:45  5602f9465ebda4134f3e3833df4678b1   \n",
       "2016-01-03 11:36:12  bf668829d5621ac535e0bf95c522a4ca   \n",
       "2016-01-03 11:44:46  05b33f12ab9df67d7a16ce7b517b2e0c   \n",
       "2016-01-03 12:48:45  63df15c3c07df88559ee084f3c2eff40   \n",
       "2016-01-03 13:03:09  7492438e3b5d380116fbb540243e95bd   \n",
       "2016-01-03 13:33:36  4e4c87fb354ee221222a73fbcbd8fee4   \n",
       "...                                               ...   \n",
       "2016-01-18 16:32:40  56018323b921dd2c5444f98fb45509de   \n",
       "2016-01-18 16:33:59  df7d2b1e820fb704794f2693c9442b85   \n",
       "2016-01-18 16:58:38  2b21491c9c6ce7f3401740ad491b7e3e   \n",
       "2016-01-18 17:07:18  472afed86b7cab67f846a9fb5dcf9e69   \n",
       "2016-01-18 18:05:00  535bd8735c8d1a8d5372bda0fa2036af   \n",
       "2016-01-18 19:20:20  7bdb55b90b48eb131afdce4fd3f91056   \n",
       "2016-01-19 06:05:15  57001e8b8129c11bb8a007cd30a33da3   \n",
       "2016-01-19 06:16:31  da28f2e6ee0c665ea7fd0a92a8d32534   \n",
       "2016-01-19 08:12:59  91eb52db96410fc3012d2ebb407d0179   \n",
       "2016-01-19 09:46:16  10290113be0d2e93c4cbdb32fa23294e   \n",
       "2016-01-19 09:59:58  68cab11f2da7fcf5d39305178581678d   \n",
       "2016-01-19 10:52:03  e1de09f34ff84afed14217c8df6b320b   \n",
       "2016-01-19 13:05:28  f731cbe7b3990e2ea8fa79f44f2a108b   \n",
       "2016-01-19 13:28:41  e3ea51eb44c95841a56716b018accbad   \n",
       "2016-01-19 13:41:24  516c3265b11f13d42b3647ce4615e100   \n",
       "2016-01-19 13:58:37  410142489fbb21648819dcef2086c0b0   \n",
       "2016-01-19 14:09:40  7292ef1bcc53a83fe6d311c69983bed5   \n",
       "2016-01-19 18:15:40  28cf9fc5441bd26d5909088ae13b6ec7   \n",
       "2016-01-19 18:22:32  28cf9fc5441bd26d5909088ae13b6ec7   \n",
       "2016-01-19 19:06:41  4f1ed81217fb962bfc8e875bbf3e991b   \n",
       "2016-01-19 19:15:52  0c0d50cc51b732ccf70382c74bdd099d   \n",
       "2016-01-19 19:58:04  7f3ae2d072fe1fc41b2ae06fd096adbc   \n",
       "2016-01-21 12:27:22  1bd51083762182d88eb38ae7c5e3663d   \n",
       "2016-01-21 16:42:31  ae4781e3199e515b13b27e12d1224e54   \n",
       "2016-01-21 17:05:24  f9dd2c0ec5868866d8761337ab29291a   \n",
       "2016-01-21 18:18:35  95597f013eb0983c52e0bd35476b3c79   \n",
       "2016-01-21 18:31:05  56018323b921dd2c5444f98fb45509de   \n",
       "2016-01-22 13:05:55  3ac033f44b40bf8d268bbe8122fe2c83   \n",
       "2016-01-27 07:24:06  20264244d8473f30f7d5ad703a43d54f   \n",
       "2016-01-27 09:04:37  b051ff0582a2d87f6bcc24346480af10   \n",
       "\n",
       "                                  start_district_hash  \\\n",
       "timestamp                                               \n",
       "2016-01-01 09:22:58  62afaf3288e236b389af9cfdc5206415   \n",
       "2016-01-01 09:35:26  62afaf3288e236b389af9cfdc5206415   \n",
       "2016-01-01 09:43:39  62afaf3288e236b389af9cfdc5206415   \n",
       "2016-01-01 10:02:40  d4ec2125aff74eded207d2d915ef682f   \n",
       "2016-01-01 10:04:50  d4ec2125aff74eded207d2d915ef682f   \n",
       "2016-01-01 10:28:18  d4ec2125aff74eded207d2d915ef682f   \n",
       "2016-01-01 10:30:13  d4ec2125aff74eded207d2d915ef682f   \n",
       "2016-01-01 13:37:23  4725c39a5e5f4c188d382da3910b3f3f   \n",
       "2016-01-01 14:10:40  3e12208dd0be281c92a6ab57d9a6fb32   \n",
       "2016-01-02 10:57:40  ca064c2682ca48c6a21de012e87c0df5   \n",
       "2016-01-02 11:02:19  ca064c2682ca48c6a21de012e87c0df5   \n",
       "2016-01-02 12:47:45  52a4e8aaa12f70020e889aed8fd5ddbc   \n",
       "2016-01-02 13:16:27  ca064c2682ca48c6a21de012e87c0df5   \n",
       "2016-01-03 05:26:29  62afaf3288e236b389af9cfdc5206415   \n",
       "2016-01-03 05:38:28  62afaf3288e236b389af9cfdc5206415   \n",
       "2016-01-03 05:52:14  62afaf3288e236b389af9cfdc5206415   \n",
       "2016-01-03 06:09:52  62afaf3288e236b389af9cfdc5206415   \n",
       "2016-01-03 06:10:41  d4ec2125aff74eded207d2d915ef682f   \n",
       "2016-01-03 07:21:36  1afd7afbc81ecc1b13886a569d869e8a   \n",
       "2016-01-03 08:06:17  62afaf3288e236b389af9cfdc5206415   \n",
       "2016-01-03 08:31:55  4725c39a5e5f4c188d382da3910b3f3f   \n",
       "2016-01-03 08:55:54  d4ec2125aff74eded207d2d915ef682f   \n",
       "2016-01-03 09:49:34  62afaf3288e236b389af9cfdc5206415   \n",
       "2016-01-03 10:06:56  62afaf3288e236b389af9cfdc5206415   \n",
       "2016-01-03 10:32:45  1afd7afbc81ecc1b13886a569d869e8a   \n",
       "2016-01-03 11:36:12  f9280c5dab6910ed44e518248048b9fe   \n",
       "2016-01-03 11:44:46  f9280c5dab6910ed44e518248048b9fe   \n",
       "2016-01-03 12:48:45  1afd7afbc81ecc1b13886a569d869e8a   \n",
       "2016-01-03 13:03:09  2920ece99323b4c111d6f9affc7ea034   \n",
       "2016-01-03 13:33:36  2407d482f0ffa22a947068f2551fe62c   \n",
       "...                                               ...   \n",
       "2016-01-18 16:32:40  62afaf3288e236b389af9cfdc5206415   \n",
       "2016-01-18 16:33:59  62afaf3288e236b389af9cfdc5206415   \n",
       "2016-01-18 16:58:38  62afaf3288e236b389af9cfdc5206415   \n",
       "2016-01-18 17:07:18  62afaf3288e236b389af9cfdc5206415   \n",
       "2016-01-18 18:05:00  91690261186ae5bee8f83808ea1e4a01   \n",
       "2016-01-18 19:20:20  b05379ac3f9b7d99370d443cfd5dcc28   \n",
       "2016-01-19 06:05:15  ca064c2682ca48c6a21de012e87c0df5   \n",
       "2016-01-19 06:16:31  ca064c2682ca48c6a21de012e87c0df5   \n",
       "2016-01-19 08:12:59  d4ec2125aff74eded207d2d915ef682f   \n",
       "2016-01-19 09:46:16  2301bc920194c95cf0c7486e5675243c   \n",
       "2016-01-19 09:59:58  87285a66236346350541b8815c5fae94   \n",
       "2016-01-19 10:52:03  ca064c2682ca48c6a21de012e87c0df5   \n",
       "2016-01-19 13:05:28  ca064c2682ca48c6a21de012e87c0df5   \n",
       "2016-01-19 13:28:41  52a4e8aaa12f70020e889aed8fd5ddbc   \n",
       "2016-01-19 13:41:24  52a4e8aaa12f70020e889aed8fd5ddbc   \n",
       "2016-01-19 13:58:37  ca064c2682ca48c6a21de012e87c0df5   \n",
       "2016-01-19 14:09:40  ca064c2682ca48c6a21de012e87c0df5   \n",
       "2016-01-19 18:15:40  ca064c2682ca48c6a21de012e87c0df5   \n",
       "2016-01-19 18:22:32  ca064c2682ca48c6a21de012e87c0df5   \n",
       "2016-01-19 19:06:41  ca064c2682ca48c6a21de012e87c0df5   \n",
       "2016-01-19 19:15:52  ca064c2682ca48c6a21de012e87c0df5   \n",
       "2016-01-19 19:58:04  2301bc920194c95cf0c7486e5675243c   \n",
       "2016-01-21 12:27:22  82cc4851f9e4faa4e54309f8bb73fd7c   \n",
       "2016-01-21 16:42:31  ca064c2682ca48c6a21de012e87c0df5   \n",
       "2016-01-21 17:05:24  ca064c2682ca48c6a21de012e87c0df5   \n",
       "2016-01-21 18:18:35  ca064c2682ca48c6a21de012e87c0df5   \n",
       "2016-01-21 18:31:05  52a4e8aaa12f70020e889aed8fd5ddbc   \n",
       "2016-01-22 13:05:55  82cc4851f9e4faa4e54309f8bb73fd7c   \n",
       "2016-01-27 07:24:06  2407d482f0ffa22a947068f2551fe62c   \n",
       "2016-01-27 09:04:37  38d5ad2d22b61109fd8e7b43cd0e8901   \n",
       "\n",
       "                                   dest_district_hash  price  \\\n",
       "timestamp                                                      \n",
       "2016-01-01 09:22:58  62afaf3288e236b389af9cfdc5206415    6.0   \n",
       "2016-01-01 09:35:26  62afaf3288e236b389af9cfdc5206415    6.0   \n",
       "2016-01-01 09:43:39  d4ec2125aff74eded207d2d915ef682f   11.0   \n",
       "2016-01-01 10:02:40  4f4041f7db0c7f69892d9b74c1a7efa1   41.0   \n",
       "2016-01-01 10:04:50  d4ec2125aff74eded207d2d915ef682f    9.7   \n",
       "2016-01-01 10:28:18  929ec6c160e6f52c20a4217c7978f681   11.0   \n",
       "2016-01-01 10:30:13  929ec6c160e6f52c20a4217c7978f681   26.0   \n",
       "2016-01-01 13:37:23  3e12208dd0be281c92a6ab57d9a6fb32   24.0   \n",
       "2016-01-01 14:10:40  38d5ad2d22b61109fd8e7b43cd0e8901   20.1   \n",
       "2016-01-02 10:57:40  52a4e8aaa12f70020e889aed8fd5ddbc   10.0   \n",
       "2016-01-02 11:02:19  2301bc920194c95cf0c7486e5675243c   20.2   \n",
       "2016-01-02 12:47:45  ca064c2682ca48c6a21de012e87c0df5   18.0   \n",
       "2016-01-02 13:16:27  ca064c2682ca48c6a21de012e87c0df5    7.0   \n",
       "2016-01-03 05:26:29  62afaf3288e236b389af9cfdc5206415   11.0   \n",
       "2016-01-03 05:38:28  62afaf3288e236b389af9cfdc5206415    9.0   \n",
       "2016-01-03 05:52:14  d4ec2125aff74eded207d2d915ef682f    9.0   \n",
       "2016-01-03 06:09:52  d4ec2125aff74eded207d2d915ef682f   11.0   \n",
       "2016-01-03 06:10:41  1afd7afbc81ecc1b13886a569d869e8a   30.0   \n",
       "2016-01-03 07:21:36  d4ec2125aff74eded207d2d915ef682f   21.0   \n",
       "2016-01-03 08:06:17  d4ec2125aff74eded207d2d915ef682f   22.0   \n",
       "2016-01-03 08:31:55  d4ec2125aff74eded207d2d915ef682f   16.0   \n",
       "2016-01-03 08:55:54  62afaf3288e236b389af9cfdc5206415    6.0   \n",
       "2016-01-03 09:49:34  62afaf3288e236b389af9cfdc5206415    7.0   \n",
       "2016-01-03 10:06:56  2920ece99323b4c111d6f9affc7ea034   30.0   \n",
       "2016-01-03 10:32:45  74ec84f1cf75cf89ae176c8c6ceec5ba   20.1   \n",
       "2016-01-03 11:36:12  f9280c5dab6910ed44e518248048b9fe    3.0   \n",
       "2016-01-03 11:44:46  1afd7afbc81ecc1b13886a569d869e8a   30.0   \n",
       "2016-01-03 12:48:45  2920ece99323b4c111d6f9affc7ea034    7.0   \n",
       "2016-01-03 13:03:09  2407d482f0ffa22a947068f2551fe62c   21.0   \n",
       "2016-01-03 13:33:36  2920ece99323b4c111d6f9affc7ea034   24.0   \n",
       "...                                               ...    ...   \n",
       "2016-01-18 16:32:40  62afaf3288e236b389af9cfdc5206415   17.0   \n",
       "2016-01-18 16:33:59  62afaf3288e236b389af9cfdc5206415   10.0   \n",
       "2016-01-18 16:58:38  62afaf3288e236b389af9cfdc5206415    9.6   \n",
       "2016-01-18 17:07:18  2407d482f0ffa22a947068f2551fe62c   21.0   \n",
       "2016-01-18 18:05:00  b05379ac3f9b7d99370d443cfd5dcc28   57.0   \n",
       "2016-01-18 19:20:20  82cc4851f9e4faa4e54309f8bb73fd7c   15.6   \n",
       "2016-01-19 06:05:15  52a4e8aaa12f70020e889aed8fd5ddbc   11.0   \n",
       "2016-01-19 06:16:31  62afaf3288e236b389af9cfdc5206415   30.0   \n",
       "2016-01-19 08:12:59  fc34648599753c9e74ab238e9a4a07ad   59.0   \n",
       "2016-01-19 09:46:16  87285a66236346350541b8815c5fae94    8.0   \n",
       "2016-01-19 09:59:58  87285a66236346350541b8815c5fae94   10.0   \n",
       "2016-01-19 10:52:03  ca064c2682ca48c6a21de012e87c0df5    4.0   \n",
       "2016-01-19 13:05:28  52a4e8aaa12f70020e889aed8fd5ddbc    9.9   \n",
       "2016-01-19 13:28:41  52a4e8aaa12f70020e889aed8fd5ddbc   14.0   \n",
       "2016-01-19 13:41:24  ca064c2682ca48c6a21de012e87c0df5    9.0   \n",
       "2016-01-19 13:58:37  ca064c2682ca48c6a21de012e87c0df5   15.6   \n",
       "2016-01-19 14:09:40  d4ec2125aff74eded207d2d915ef682f   34.1   \n",
       "2016-01-19 18:15:40  52a4e8aaa12f70020e889aed8fd5ddbc   11.8   \n",
       "2016-01-19 18:22:32  52a4e8aaa12f70020e889aed8fd5ddbc   11.8   \n",
       "2016-01-19 19:06:41  ca064c2682ca48c6a21de012e87c0df5    8.0   \n",
       "2016-01-19 19:15:52  58c7a4888306d8ff3a641d1c0feccbe3   36.5   \n",
       "2016-01-19 19:58:04  2301bc920194c95cf0c7486e5675243c    4.0   \n",
       "2016-01-21 12:27:22  4725c39a5e5f4c188d382da3910b3f3f   21.0   \n",
       "2016-01-21 16:42:31  ca064c2682ca48c6a21de012e87c0df5   10.0   \n",
       "2016-01-21 17:05:24  ca064c2682ca48c6a21de012e87c0df5    3.0   \n",
       "2016-01-21 18:18:35  52a4e8aaa12f70020e889aed8fd5ddbc   21.0   \n",
       "2016-01-21 18:31:05  ca064c2682ca48c6a21de012e87c0df5   11.0   \n",
       "2016-01-22 13:05:55  a5609739c6b5c2719a3752327c5e33a7   67.0   \n",
       "2016-01-27 07:24:06  929ec6c160e6f52c20a4217c7978f681   29.3   \n",
       "2016-01-27 09:04:37  b26a240205c852804ff8758628c0a86a   38.0   \n",
       "\n",
       "                              timestamp  hour  dayofweek  driver_cluster  \\\n",
       "timestamp                                                                  \n",
       "2016-01-01 09:22:58 2016-01-01 09:22:58     9          4             1.0   \n",
       "2016-01-01 09:35:26 2016-01-01 09:35:26     9          4             1.0   \n",
       "2016-01-01 09:43:39 2016-01-01 09:43:39     9          4             1.0   \n",
       "2016-01-01 10:02:40 2016-01-01 10:02:40    10          4             1.0   \n",
       "2016-01-01 10:04:50 2016-01-01 10:04:50    10          4             1.0   \n",
       "2016-01-01 10:28:18 2016-01-01 10:28:18    10          4             1.0   \n",
       "2016-01-01 10:30:13 2016-01-01 10:30:13    10          4             1.0   \n",
       "2016-01-01 13:37:23 2016-01-01 13:37:23    13          4             1.0   \n",
       "2016-01-01 14:10:40 2016-01-01 14:10:40    14          4             1.0   \n",
       "2016-01-02 10:57:40 2016-01-02 10:57:40    10          5             1.0   \n",
       "2016-01-02 11:02:19 2016-01-02 11:02:19    11          5             1.0   \n",
       "2016-01-02 12:47:45 2016-01-02 12:47:45    12          5             1.0   \n",
       "2016-01-02 13:16:27 2016-01-02 13:16:27    13          5             1.0   \n",
       "2016-01-03 05:26:29 2016-01-03 05:26:29     5          6             1.0   \n",
       "2016-01-03 05:38:28 2016-01-03 05:38:28     5          6             1.0   \n",
       "2016-01-03 05:52:14 2016-01-03 05:52:14     5          6             1.0   \n",
       "2016-01-03 06:09:52 2016-01-03 06:09:52     6          6             1.0   \n",
       "2016-01-03 06:10:41 2016-01-03 06:10:41     6          6             1.0   \n",
       "2016-01-03 07:21:36 2016-01-03 07:21:36     7          6             1.0   \n",
       "2016-01-03 08:06:17 2016-01-03 08:06:17     8          6             1.0   \n",
       "2016-01-03 08:31:55 2016-01-03 08:31:55     8          6             1.0   \n",
       "2016-01-03 08:55:54 2016-01-03 08:55:54     8          6             1.0   \n",
       "2016-01-03 09:49:34 2016-01-03 09:49:34     9          6             1.0   \n",
       "2016-01-03 10:06:56 2016-01-03 10:06:56    10          6             1.0   \n",
       "2016-01-03 10:32:45 2016-01-03 10:32:45    10          6             1.0   \n",
       "2016-01-03 11:36:12 2016-01-03 11:36:12    11          6             1.0   \n",
       "2016-01-03 11:44:46 2016-01-03 11:44:46    11          6             1.0   \n",
       "2016-01-03 12:48:45 2016-01-03 12:48:45    12          6             1.0   \n",
       "2016-01-03 13:03:09 2016-01-03 13:03:09    13          6             1.0   \n",
       "2016-01-03 13:33:36 2016-01-03 13:33:36    13          6             1.0   \n",
       "...                                 ...   ...        ...             ...   \n",
       "2016-01-18 16:32:40 2016-01-18 16:32:40    16          0             1.0   \n",
       "2016-01-18 16:33:59 2016-01-18 16:33:59    16          0             1.0   \n",
       "2016-01-18 16:58:38 2016-01-18 16:58:38    16          0             1.0   \n",
       "2016-01-18 17:07:18 2016-01-18 17:07:18    17          0             1.0   \n",
       "2016-01-18 18:05:00 2016-01-18 18:05:00    18          0             1.0   \n",
       "2016-01-18 19:20:20 2016-01-18 19:20:20    19          0             1.0   \n",
       "2016-01-19 06:05:15 2016-01-19 06:05:15     6          1             1.0   \n",
       "2016-01-19 06:16:31 2016-01-19 06:16:31     6          1             1.0   \n",
       "2016-01-19 08:12:59 2016-01-19 08:12:59     8          1             1.0   \n",
       "2016-01-19 09:46:16 2016-01-19 09:46:16     9          1             1.0   \n",
       "2016-01-19 09:59:58 2016-01-19 09:59:58     9          1             1.0   \n",
       "2016-01-19 10:52:03 2016-01-19 10:52:03    10          1             1.0   \n",
       "2016-01-19 13:05:28 2016-01-19 13:05:28    13          1             1.0   \n",
       "2016-01-19 13:28:41 2016-01-19 13:28:41    13          1             1.0   \n",
       "2016-01-19 13:41:24 2016-01-19 13:41:24    13          1             1.0   \n",
       "2016-01-19 13:58:37 2016-01-19 13:58:37    13          1             1.0   \n",
       "2016-01-19 14:09:40 2016-01-19 14:09:40    14          1             1.0   \n",
       "2016-01-19 18:15:40 2016-01-19 18:15:40    18          1             1.0   \n",
       "2016-01-19 18:22:32 2016-01-19 18:22:32    18          1             1.0   \n",
       "2016-01-19 19:06:41 2016-01-19 19:06:41    19          1             1.0   \n",
       "2016-01-19 19:15:52 2016-01-19 19:15:52    19          1             1.0   \n",
       "2016-01-19 19:58:04 2016-01-19 19:58:04    19          1             1.0   \n",
       "2016-01-21 12:27:22 2016-01-21 12:27:22    12          3             1.0   \n",
       "2016-01-21 16:42:31 2016-01-21 16:42:31    16          3             1.0   \n",
       "2016-01-21 17:05:24 2016-01-21 17:05:24    17          3             1.0   \n",
       "2016-01-21 18:18:35 2016-01-21 18:18:35    18          3             1.0   \n",
       "2016-01-21 18:31:05 2016-01-21 18:31:05    18          3             1.0   \n",
       "2016-01-22 13:05:55 2016-01-22 13:05:55    13          4             1.0   \n",
       "2016-01-27 07:24:06 2016-01-27 07:24:06     7          2             1.0   \n",
       "2016-01-27 09:04:37 2016-01-27 09:04:37     9          2             1.0   \n",
       "\n",
       "                     expected_travel_time  \n",
       "timestamp                                  \n",
       "2016-01-01 09:22:58              2.799474  \n",
       "2016-01-01 09:35:26              2.799474  \n",
       "2016-01-01 09:43:39              5.132369  \n",
       "2016-01-01 10:02:40             19.129739  \n",
       "2016-01-01 10:04:50              4.525816  \n",
       "2016-01-01 10:28:18              5.132369  \n",
       "2016-01-01 10:30:13             12.131054  \n",
       "2016-01-01 13:37:23             11.197896  \n",
       "2016-01-01 14:10:40              9.378238  \n",
       "2016-01-02 10:57:40              4.665790  \n",
       "2016-01-02 11:02:19              9.424896  \n",
       "2016-01-02 12:47:45              8.398422  \n",
       "2016-01-02 13:16:27              3.266053  \n",
       "2016-01-03 05:26:29              5.132369  \n",
       "2016-01-03 05:38:28              4.199211  \n",
       "2016-01-03 05:52:14              4.199211  \n",
       "2016-01-03 06:09:52              5.132369  \n",
       "2016-01-03 06:10:41             13.997370  \n",
       "2016-01-03 07:21:36              9.798159  \n",
       "2016-01-03 08:06:17             10.264738  \n",
       "2016-01-03 08:31:55              7.465264  \n",
       "2016-01-03 08:55:54              2.799474  \n",
       "2016-01-03 09:49:34              3.266053  \n",
       "2016-01-03 10:06:56             13.997370  \n",
       "2016-01-03 10:32:45              9.378238  \n",
       "2016-01-03 11:36:12              1.399737  \n",
       "2016-01-03 11:44:46             13.997370  \n",
       "2016-01-03 12:48:45              3.266053  \n",
       "2016-01-03 13:03:09              9.798159  \n",
       "2016-01-03 13:33:36             11.197896  \n",
       "...                                   ...  \n",
       "2016-01-18 16:32:40              7.931843  \n",
       "2016-01-18 16:33:59              4.665790  \n",
       "2016-01-18 16:58:38              4.479158  \n",
       "2016-01-18 17:07:18              9.798159  \n",
       "2016-01-18 18:05:00             26.595004  \n",
       "2016-01-18 19:20:20              7.278633  \n",
       "2016-01-19 06:05:15              5.132369  \n",
       "2016-01-19 06:16:31             13.997370  \n",
       "2016-01-19 08:12:59             27.528162  \n",
       "2016-01-19 09:46:16              3.732632  \n",
       "2016-01-19 09:59:58              4.665790  \n",
       "2016-01-19 10:52:03              1.866316  \n",
       "2016-01-19 13:05:28              4.619132  \n",
       "2016-01-19 13:28:41              6.532106  \n",
       "2016-01-19 13:41:24              4.199211  \n",
       "2016-01-19 13:58:37              7.278633  \n",
       "2016-01-19 14:09:40             15.910344  \n",
       "2016-01-19 18:15:40              5.505632  \n",
       "2016-01-19 18:22:32              5.505632  \n",
       "2016-01-19 19:06:41              3.732632  \n",
       "2016-01-19 19:15:52             17.030134  \n",
       "2016-01-19 19:58:04              1.866316  \n",
       "2016-01-21 12:27:22              9.798159  \n",
       "2016-01-21 16:42:31              4.665790  \n",
       "2016-01-21 17:05:24              1.399737  \n",
       "2016-01-21 18:18:35              9.798159  \n",
       "2016-01-21 18:31:05              5.132369  \n",
       "2016-01-22 13:05:55             31.260794  \n",
       "2016-01-27 07:24:06             13.670765  \n",
       "2016-01-27 09:04:37             17.730002  \n",
       "\n",
       "[257 rows x 11 columns]"
      ]
     },
     "execution_count": 4,
     "metadata": {},
     "output_type": "execute_result"
    }
   ],
   "source": [
    "#Index stuff\n",
    "orderdf_f=orderdf[(~pd.isnull(orderdf['driver_id'])) & orderdf['dest_district_hash'].isin(core_stations)]\n",
    "myindex=pd.MultiIndex.from_arrays([orderdf_f['driver_id'],orderdf_f['timestamp']],names=('driver_id','timestamp'))\n",
    "\n",
    "orderdf2=orderdf_f.set_index(myindex)\n",
    "orderdf_s=orderdf2.sort_index()\n",
    "\n",
    "%time orderdf_s.loc[driver_ids[0]]"
   ]
  },
  {
   "cell_type": "code",
   "execution_count": 5,
   "metadata": {
    "collapsed": true
   },
   "outputs": [],
   "source": [
    "#Index empty trips\n",
    "orderdf_s['prev_timestamp']=orderdf_s['timestamp'].shift(+1)\n",
    "orderdf_s['next_timestamp']=orderdf_s['timestamp'].shift(-1)\n",
    "orderdf_s['next_start_district_hash']=orderdf_s['start_district_hash'].shift(-1)\n",
    "orderdf_s['next_driver_id']=orderdf_s['driver_id'].shift(-1)\n",
    "orderdf_s['prev_driver_id']=orderdf_s['driver_id'].shift(+1)\n",
    "\n",
    "break_threshold=pd.Timedelta('1 hour')\n",
    "\n",
    "orderdf_s['break']=((orderdf_s['next_timestamp']-orderdf_s['timestamp'])>break_threshold) | (orderdf_s['next_driver_id']!=orderdf_s['driver_id'])\n",
    "orderdf_s['start']=((orderdf_s['timestamp']-orderdf_s['prev_timestamp'])>break_threshold) | (orderdf_s['prev_driver_id']!=orderdf_s['driver_id'])\n",
    "orderdf_s['emptytrip']=(orderdf_s['dest_district_hash']!=orderdf_s['next_start_district_hash'])\n",
    "orderdf_s['last_ride']=(orderdf_s['next_driver_id']!=orderdf_s['driver_id'])\n",
    "orderdf_s['stayed'] = (orderdf_s['dest_district_hash']==orderdf_s['next_start_district_hash']) & ~orderdf_s['break']\n"
   ]
  },
  {
   "cell_type": "code",
   "execution_count": 6,
   "metadata": {},
   "outputs": [
    {
     "name": "stdout",
     "output_type": "stream",
     "text": [
      "Rebalancing trips:  0.232453756797 of total\n"
     ]
    }
   ],
   "source": [
    "#Compute number of rebalancing trips\n",
    "num_reb_trips=sum(orderdf_s['emptytrip'] & ~orderdf_s['break'] & ~orderdf_s['last_ride'])\n",
    "frac_reb_trips=float(num_reb_trips)/float(len(orderdf_s))\n",
    "print 'Rebalancing trips: ', frac_reb_trips, 'of total'"
   ]
  },
  {
   "cell_type": "code",
   "execution_count": 7,
   "metadata": {
    "collapsed": true
   },
   "outputs": [],
   "source": [
    "#Output actual reb trips\n",
    "\n",
    "reb_trips=orderdf_s[orderdf_s['emptytrip'] & ~orderdf_s['break'] & ~orderdf_s['last_ride']].copy()"
   ]
  },
  {
   "cell_type": "code",
   "execution_count": 8,
   "metadata": {
    "collapsed": true
   },
   "outputs": [],
   "source": [
    "breaks = orderdf_s[orderdf_s['emptytrip'] & orderdf_s['break'] & ~orderdf_s['last_ride']]"
   ]
  },
  {
   "cell_type": "code",
   "execution_count": 9,
   "metadata": {},
   "outputs": [
    {
     "data": {
      "text/html": [
       "<div>\n",
       "<style>\n",
       "    .dataframe thead tr:only-child th {\n",
       "        text-align: right;\n",
       "    }\n",
       "\n",
       "    .dataframe thead th {\n",
       "        text-align: left;\n",
       "    }\n",
       "\n",
       "    .dataframe tbody tr th {\n",
       "        vertical-align: top;\n",
       "    }\n",
       "</style>\n",
       "<table border=\"1\" class=\"dataframe\">\n",
       "  <thead>\n",
       "    <tr style=\"text-align: right;\">\n",
       "      <th></th>\n",
       "      <th></th>\n",
       "      <th>order_id</th>\n",
       "      <th>driver_id</th>\n",
       "      <th>passenger_id</th>\n",
       "      <th>start_district_hash</th>\n",
       "      <th>dest_district_hash</th>\n",
       "      <th>price</th>\n",
       "      <th>timestamp</th>\n",
       "      <th>hour</th>\n",
       "      <th>dayofweek</th>\n",
       "      <th>driver_cluster</th>\n",
       "      <th>...</th>\n",
       "      <th>prev_timestamp</th>\n",
       "      <th>next_timestamp</th>\n",
       "      <th>next_start_district_hash</th>\n",
       "      <th>next_driver_id</th>\n",
       "      <th>prev_driver_id</th>\n",
       "      <th>break</th>\n",
       "      <th>start</th>\n",
       "      <th>emptytrip</th>\n",
       "      <th>last_ride</th>\n",
       "      <th>stayed</th>\n",
       "    </tr>\n",
       "    <tr>\n",
       "      <th>driver_id</th>\n",
       "      <th>timestamp</th>\n",
       "      <th></th>\n",
       "      <th></th>\n",
       "      <th></th>\n",
       "      <th></th>\n",
       "      <th></th>\n",
       "      <th></th>\n",
       "      <th></th>\n",
       "      <th></th>\n",
       "      <th></th>\n",
       "      <th></th>\n",
       "      <th></th>\n",
       "      <th></th>\n",
       "      <th></th>\n",
       "      <th></th>\n",
       "      <th></th>\n",
       "      <th></th>\n",
       "      <th></th>\n",
       "      <th></th>\n",
       "      <th></th>\n",
       "      <th></th>\n",
       "      <th></th>\n",
       "    </tr>\n",
       "  </thead>\n",
       "  <tbody>\n",
       "    <tr>\n",
       "      <th>0000764e702cb5b1f4a27b6681ddf4d2</th>\n",
       "      <th>2016-01-07 13:24:44</th>\n",
       "      <td>bd6e66f80f0e128586197e6996359b5b</td>\n",
       "      <td>0000764e702cb5b1f4a27b6681ddf4d2</td>\n",
       "      <td>19a334849a9f73e10b48ba2c191254c3</td>\n",
       "      <td>d4ec2125aff74eded207d2d915ef682f</td>\n",
       "      <td>82cc4851f9e4faa4e54309f8bb73fd7c</td>\n",
       "      <td>10.0</td>\n",
       "      <td>2016-01-07 13:24:44</td>\n",
       "      <td>13</td>\n",
       "      <td>3</td>\n",
       "      <td>0.0</td>\n",
       "      <td>...</td>\n",
       "      <td>NaT</td>\n",
       "      <td>2016-01-07 13:33:10</td>\n",
       "      <td>929ec6c160e6f52c20a4217c7978f681</td>\n",
       "      <td>0000764e702cb5b1f4a27b6681ddf4d2</td>\n",
       "      <td>NaN</td>\n",
       "      <td>False</td>\n",
       "      <td>True</td>\n",
       "      <td>True</td>\n",
       "      <td>False</td>\n",
       "      <td>False</td>\n",
       "    </tr>\n",
       "    <tr>\n",
       "      <th rowspan=\"4\" valign=\"top\">000126baf2f8839eed1df6a726f79549</th>\n",
       "      <th>2016-01-01 00:36:55</th>\n",
       "      <td>9cc4f12aafe4b797db9af25288cd3a12</td>\n",
       "      <td>000126baf2f8839eed1df6a726f79549</td>\n",
       "      <td>89a2e7bf7b7aa228448f5db13ce47c85</td>\n",
       "      <td>1afd7afbc81ecc1b13886a569d869e8a</td>\n",
       "      <td>1afd7afbc81ecc1b13886a569d869e8a</td>\n",
       "      <td>11.0</td>\n",
       "      <td>2016-01-01 00:36:55</td>\n",
       "      <td>0</td>\n",
       "      <td>4</td>\n",
       "      <td>1.0</td>\n",
       "      <td>...</td>\n",
       "      <td>2016-01-02 23:44:03</td>\n",
       "      <td>2016-01-01 01:06:09</td>\n",
       "      <td>2407d482f0ffa22a947068f2551fe62c</td>\n",
       "      <td>000126baf2f8839eed1df6a726f79549</td>\n",
       "      <td>00009bb3943c93c994ff8df30a3d8e1f</td>\n",
       "      <td>False</td>\n",
       "      <td>True</td>\n",
       "      <td>True</td>\n",
       "      <td>False</td>\n",
       "      <td>False</td>\n",
       "    </tr>\n",
       "    <tr>\n",
       "      <th>2016-01-01 09:05:13</th>\n",
       "      <td>ccc8e6c38e01cd29940e80477e689075</td>\n",
       "      <td>000126baf2f8839eed1df6a726f79549</td>\n",
       "      <td>585c3c484f1a82ee681655fa73819a25</td>\n",
       "      <td>1afd7afbc81ecc1b13886a569d869e8a</td>\n",
       "      <td>2407d482f0ffa22a947068f2551fe62c</td>\n",
       "      <td>6.0</td>\n",
       "      <td>2016-01-01 09:05:13</td>\n",
       "      <td>9</td>\n",
       "      <td>4</td>\n",
       "      <td>1.0</td>\n",
       "      <td>...</td>\n",
       "      <td>2016-01-01 08:52:34</td>\n",
       "      <td>2016-01-01 09:15:55</td>\n",
       "      <td>1afd7afbc81ecc1b13886a569d869e8a</td>\n",
       "      <td>000126baf2f8839eed1df6a726f79549</td>\n",
       "      <td>000126baf2f8839eed1df6a726f79549</td>\n",
       "      <td>False</td>\n",
       "      <td>False</td>\n",
       "      <td>True</td>\n",
       "      <td>False</td>\n",
       "      <td>False</td>\n",
       "    </tr>\n",
       "    <tr>\n",
       "      <th>2016-01-01 11:05:33</th>\n",
       "      <td>f1ab4820b4a05f7324bafcc90ed2c7b3</td>\n",
       "      <td>000126baf2f8839eed1df6a726f79549</td>\n",
       "      <td>e1a200ac67d11647e1e14125b03693d1</td>\n",
       "      <td>62afaf3288e236b389af9cfdc5206415</td>\n",
       "      <td>2920ece99323b4c111d6f9affc7ea034</td>\n",
       "      <td>17.7</td>\n",
       "      <td>2016-01-01 11:05:33</td>\n",
       "      <td>11</td>\n",
       "      <td>4</td>\n",
       "      <td>1.0</td>\n",
       "      <td>...</td>\n",
       "      <td>2016-01-01 10:48:57</td>\n",
       "      <td>2016-01-01 11:23:17</td>\n",
       "      <td>62afaf3288e236b389af9cfdc5206415</td>\n",
       "      <td>000126baf2f8839eed1df6a726f79549</td>\n",
       "      <td>000126baf2f8839eed1df6a726f79549</td>\n",
       "      <td>False</td>\n",
       "      <td>False</td>\n",
       "      <td>True</td>\n",
       "      <td>False</td>\n",
       "      <td>False</td>\n",
       "    </tr>\n",
       "    <tr>\n",
       "      <th>2016-01-01 11:23:17</th>\n",
       "      <td>1b3df6bed6435972a3a7d8741e030b61</td>\n",
       "      <td>000126baf2f8839eed1df6a726f79549</td>\n",
       "      <td>4f2fc849be56a913de37851c00c5b1cd</td>\n",
       "      <td>62afaf3288e236b389af9cfdc5206415</td>\n",
       "      <td>2407d482f0ffa22a947068f2551fe62c</td>\n",
       "      <td>11.9</td>\n",
       "      <td>2016-01-01 11:23:17</td>\n",
       "      <td>11</td>\n",
       "      <td>4</td>\n",
       "      <td>1.0</td>\n",
       "      <td>...</td>\n",
       "      <td>2016-01-01 11:05:33</td>\n",
       "      <td>2016-01-01 11:40:11</td>\n",
       "      <td>2920ece99323b4c111d6f9affc7ea034</td>\n",
       "      <td>000126baf2f8839eed1df6a726f79549</td>\n",
       "      <td>000126baf2f8839eed1df6a726f79549</td>\n",
       "      <td>False</td>\n",
       "      <td>False</td>\n",
       "      <td>True</td>\n",
       "      <td>False</td>\n",
       "      <td>False</td>\n",
       "    </tr>\n",
       "  </tbody>\n",
       "</table>\n",
       "<p>5 rows × 21 columns</p>\n",
       "</div>"
      ],
      "text/plain": [
       "                                                                              order_id  \\\n",
       "driver_id                        timestamp                                               \n",
       "0000764e702cb5b1f4a27b6681ddf4d2 2016-01-07 13:24:44  bd6e66f80f0e128586197e6996359b5b   \n",
       "000126baf2f8839eed1df6a726f79549 2016-01-01 00:36:55  9cc4f12aafe4b797db9af25288cd3a12   \n",
       "                                 2016-01-01 09:05:13  ccc8e6c38e01cd29940e80477e689075   \n",
       "                                 2016-01-01 11:05:33  f1ab4820b4a05f7324bafcc90ed2c7b3   \n",
       "                                 2016-01-01 11:23:17  1b3df6bed6435972a3a7d8741e030b61   \n",
       "\n",
       "                                                                             driver_id  \\\n",
       "driver_id                        timestamp                                               \n",
       "0000764e702cb5b1f4a27b6681ddf4d2 2016-01-07 13:24:44  0000764e702cb5b1f4a27b6681ddf4d2   \n",
       "000126baf2f8839eed1df6a726f79549 2016-01-01 00:36:55  000126baf2f8839eed1df6a726f79549   \n",
       "                                 2016-01-01 09:05:13  000126baf2f8839eed1df6a726f79549   \n",
       "                                 2016-01-01 11:05:33  000126baf2f8839eed1df6a726f79549   \n",
       "                                 2016-01-01 11:23:17  000126baf2f8839eed1df6a726f79549   \n",
       "\n",
       "                                                                          passenger_id  \\\n",
       "driver_id                        timestamp                                               \n",
       "0000764e702cb5b1f4a27b6681ddf4d2 2016-01-07 13:24:44  19a334849a9f73e10b48ba2c191254c3   \n",
       "000126baf2f8839eed1df6a726f79549 2016-01-01 00:36:55  89a2e7bf7b7aa228448f5db13ce47c85   \n",
       "                                 2016-01-01 09:05:13  585c3c484f1a82ee681655fa73819a25   \n",
       "                                 2016-01-01 11:05:33  e1a200ac67d11647e1e14125b03693d1   \n",
       "                                 2016-01-01 11:23:17  4f2fc849be56a913de37851c00c5b1cd   \n",
       "\n",
       "                                                                   start_district_hash  \\\n",
       "driver_id                        timestamp                                               \n",
       "0000764e702cb5b1f4a27b6681ddf4d2 2016-01-07 13:24:44  d4ec2125aff74eded207d2d915ef682f   \n",
       "000126baf2f8839eed1df6a726f79549 2016-01-01 00:36:55  1afd7afbc81ecc1b13886a569d869e8a   \n",
       "                                 2016-01-01 09:05:13  1afd7afbc81ecc1b13886a569d869e8a   \n",
       "                                 2016-01-01 11:05:33  62afaf3288e236b389af9cfdc5206415   \n",
       "                                 2016-01-01 11:23:17  62afaf3288e236b389af9cfdc5206415   \n",
       "\n",
       "                                                                    dest_district_hash  \\\n",
       "driver_id                        timestamp                                               \n",
       "0000764e702cb5b1f4a27b6681ddf4d2 2016-01-07 13:24:44  82cc4851f9e4faa4e54309f8bb73fd7c   \n",
       "000126baf2f8839eed1df6a726f79549 2016-01-01 00:36:55  1afd7afbc81ecc1b13886a569d869e8a   \n",
       "                                 2016-01-01 09:05:13  2407d482f0ffa22a947068f2551fe62c   \n",
       "                                 2016-01-01 11:05:33  2920ece99323b4c111d6f9affc7ea034   \n",
       "                                 2016-01-01 11:23:17  2407d482f0ffa22a947068f2551fe62c   \n",
       "\n",
       "                                                      price  \\\n",
       "driver_id                        timestamp                    \n",
       "0000764e702cb5b1f4a27b6681ddf4d2 2016-01-07 13:24:44   10.0   \n",
       "000126baf2f8839eed1df6a726f79549 2016-01-01 00:36:55   11.0   \n",
       "                                 2016-01-01 09:05:13    6.0   \n",
       "                                 2016-01-01 11:05:33   17.7   \n",
       "                                 2016-01-01 11:23:17   11.9   \n",
       "\n",
       "                                                               timestamp  \\\n",
       "driver_id                        timestamp                                 \n",
       "0000764e702cb5b1f4a27b6681ddf4d2 2016-01-07 13:24:44 2016-01-07 13:24:44   \n",
       "000126baf2f8839eed1df6a726f79549 2016-01-01 00:36:55 2016-01-01 00:36:55   \n",
       "                                 2016-01-01 09:05:13 2016-01-01 09:05:13   \n",
       "                                 2016-01-01 11:05:33 2016-01-01 11:05:33   \n",
       "                                 2016-01-01 11:23:17 2016-01-01 11:23:17   \n",
       "\n",
       "                                                      hour  dayofweek  \\\n",
       "driver_id                        timestamp                              \n",
       "0000764e702cb5b1f4a27b6681ddf4d2 2016-01-07 13:24:44    13          3   \n",
       "000126baf2f8839eed1df6a726f79549 2016-01-01 00:36:55     0          4   \n",
       "                                 2016-01-01 09:05:13     9          4   \n",
       "                                 2016-01-01 11:05:33    11          4   \n",
       "                                 2016-01-01 11:23:17    11          4   \n",
       "\n",
       "                                                      driver_cluster   ...    \\\n",
       "driver_id                        timestamp                             ...     \n",
       "0000764e702cb5b1f4a27b6681ddf4d2 2016-01-07 13:24:44             0.0   ...     \n",
       "000126baf2f8839eed1df6a726f79549 2016-01-01 00:36:55             1.0   ...     \n",
       "                                 2016-01-01 09:05:13             1.0   ...     \n",
       "                                 2016-01-01 11:05:33             1.0   ...     \n",
       "                                 2016-01-01 11:23:17             1.0   ...     \n",
       "\n",
       "                                                          prev_timestamp  \\\n",
       "driver_id                        timestamp                                 \n",
       "0000764e702cb5b1f4a27b6681ddf4d2 2016-01-07 13:24:44                 NaT   \n",
       "000126baf2f8839eed1df6a726f79549 2016-01-01 00:36:55 2016-01-02 23:44:03   \n",
       "                                 2016-01-01 09:05:13 2016-01-01 08:52:34   \n",
       "                                 2016-01-01 11:05:33 2016-01-01 10:48:57   \n",
       "                                 2016-01-01 11:23:17 2016-01-01 11:05:33   \n",
       "\n",
       "                                                          next_timestamp  \\\n",
       "driver_id                        timestamp                                 \n",
       "0000764e702cb5b1f4a27b6681ddf4d2 2016-01-07 13:24:44 2016-01-07 13:33:10   \n",
       "000126baf2f8839eed1df6a726f79549 2016-01-01 00:36:55 2016-01-01 01:06:09   \n",
       "                                 2016-01-01 09:05:13 2016-01-01 09:15:55   \n",
       "                                 2016-01-01 11:05:33 2016-01-01 11:23:17   \n",
       "                                 2016-01-01 11:23:17 2016-01-01 11:40:11   \n",
       "\n",
       "                                                              next_start_district_hash  \\\n",
       "driver_id                        timestamp                                               \n",
       "0000764e702cb5b1f4a27b6681ddf4d2 2016-01-07 13:24:44  929ec6c160e6f52c20a4217c7978f681   \n",
       "000126baf2f8839eed1df6a726f79549 2016-01-01 00:36:55  2407d482f0ffa22a947068f2551fe62c   \n",
       "                                 2016-01-01 09:05:13  1afd7afbc81ecc1b13886a569d869e8a   \n",
       "                                 2016-01-01 11:05:33  62afaf3288e236b389af9cfdc5206415   \n",
       "                                 2016-01-01 11:23:17  2920ece99323b4c111d6f9affc7ea034   \n",
       "\n",
       "                                                                        next_driver_id  \\\n",
       "driver_id                        timestamp                                               \n",
       "0000764e702cb5b1f4a27b6681ddf4d2 2016-01-07 13:24:44  0000764e702cb5b1f4a27b6681ddf4d2   \n",
       "000126baf2f8839eed1df6a726f79549 2016-01-01 00:36:55  000126baf2f8839eed1df6a726f79549   \n",
       "                                 2016-01-01 09:05:13  000126baf2f8839eed1df6a726f79549   \n",
       "                                 2016-01-01 11:05:33  000126baf2f8839eed1df6a726f79549   \n",
       "                                 2016-01-01 11:23:17  000126baf2f8839eed1df6a726f79549   \n",
       "\n",
       "                                                                        prev_driver_id  \\\n",
       "driver_id                        timestamp                                               \n",
       "0000764e702cb5b1f4a27b6681ddf4d2 2016-01-07 13:24:44                               NaN   \n",
       "000126baf2f8839eed1df6a726f79549 2016-01-01 00:36:55  00009bb3943c93c994ff8df30a3d8e1f   \n",
       "                                 2016-01-01 09:05:13  000126baf2f8839eed1df6a726f79549   \n",
       "                                 2016-01-01 11:05:33  000126baf2f8839eed1df6a726f79549   \n",
       "                                 2016-01-01 11:23:17  000126baf2f8839eed1df6a726f79549   \n",
       "\n",
       "                                                      break  start  emptytrip  \\\n",
       "driver_id                        timestamp                                      \n",
       "0000764e702cb5b1f4a27b6681ddf4d2 2016-01-07 13:24:44  False   True       True   \n",
       "000126baf2f8839eed1df6a726f79549 2016-01-01 00:36:55  False   True       True   \n",
       "                                 2016-01-01 09:05:13  False  False       True   \n",
       "                                 2016-01-01 11:05:33  False  False       True   \n",
       "                                 2016-01-01 11:23:17  False  False       True   \n",
       "\n",
       "                                                      last_ride  stayed  \n",
       "driver_id                        timestamp                               \n",
       "0000764e702cb5b1f4a27b6681ddf4d2 2016-01-07 13:24:44      False   False  \n",
       "000126baf2f8839eed1df6a726f79549 2016-01-01 00:36:55      False   False  \n",
       "                                 2016-01-01 09:05:13      False   False  \n",
       "                                 2016-01-01 11:05:33      False   False  \n",
       "                                 2016-01-01 11:23:17      False   False  \n",
       "\n",
       "[5 rows x 21 columns]"
      ]
     },
     "execution_count": 9,
     "metadata": {},
     "output_type": "execute_result"
    }
   ],
   "source": [
    "reb_trips.head()"
   ]
  },
  {
   "cell_type": "markdown",
   "metadata": {},
   "source": [
    "## Using Flow Balance to estimate number of cars by time/station"
   ]
  },
  {
   "cell_type": "markdown",
   "metadata": {},
   "source": [
    "Variables:\n",
    "- $v_{start,i,t}$: Number of vehicles starting their shift at station i, time t.\n",
    "- $v_{pax_{in},i,t}$: Number of passenger vehicles arriving at station i, time t\n",
    "- $v_{reb_{in},i,t}$: Number of rebalancing vehicles arriving at station i, time t\n",
    "- $v_{reb_{in},i,t}$: Number of rebalancing vehicles arriving at station i, time t\n",
    "- $v_{break,i,t}$: Number of rebalancing vehicles stopping their shift at station i, time t\n",
    "- $v_{pax_{out},i,t}$: Number of passenger vehicles leaving at station i, time t\n",
    "- $v_{reb_{out},i,t}$: Number of rebalancing vehicles leaving at station i, time t\n",
    "\n",
    "at any given point in time, the following should hold\n",
    "$$\n",
    " v_{start,i,t} + v_{pax_{in},i,t} + v_{reb_{in},i,t} - v_{break,i,t} - v_{pax_{out},i,t} - v_{reb_{out},i,t} = 0 \\, ,\n",
    "$$\n",
    "\n",
    "additionally, the number of vehicles available for serving passengers is \n",
    "$$\n",
    "v_{available,i,t} = v_{start,i,t} + v_{pax_{in},i,t} + v_{reb_{in},i,t} - v_{break,i,t} - v_{reb_{out},i,t} \\, .\n",
    "$$"
   ]
  },
  {
   "cell_type": "markdown",
   "metadata": {},
   "source": [
    "**Assumption 1**: Rebalancing and breaks happen _immidiately_ after completion of the last trip.\n",
    "\n",
    "**Assumption 2**: Starts happen _exactly_ at the time of the first pickup.\n",
    "\n",
    "**Assumption 3**: Passenger travel time is equal to _expected travel time_ as computed by price\n",
    "\n",
    "**Assumption 4**: Rebalancing travel time is equal to the _average_ travel time between stations as per the distance matrix."
   ]
  },
  {
   "cell_type": "markdown",
   "metadata": {},
   "source": [
    "### Get the distance matrix"
   ]
  },
  {
   "cell_type": "code",
   "execution_count": 10,
   "metadata": {
    "collapsed": true
   },
   "outputs": [],
   "source": [
    "station_locations = pd.read_csv('inferred_locations.csv')"
   ]
  },
  {
   "cell_type": "code",
   "execution_count": 11,
   "metadata": {
    "collapsed": true
   },
   "outputs": [],
   "source": [
    "D = squareform(pdist(station_locations[['x','y']].as_matrix()))"
   ]
  },
  {
   "cell_type": "code",
   "execution_count": 12,
   "metadata": {
    "collapsed": true
   },
   "outputs": [],
   "source": [
    "stations = list(station_locations['start_district_hash'])"
   ]
  },
  {
   "cell_type": "code",
   "execution_count": 13,
   "metadata": {},
   "outputs": [
    {
     "data": {
      "text/plain": [
       "<matplotlib.image.AxesImage at 0x11b9d5190>"
      ]
     },
     "execution_count": 13,
     "metadata": {},
     "output_type": "execute_result"
    },
    {
     "data": {
      "image/png": "[encoded data removed]",
      "text/plain": [
       "<matplotlib.figure.Figure at 0x10aad3790>"
      ]
     },
     "metadata": {},
     "output_type": "display_data"
    }
   ],
   "source": [
    "plt.imshow(D)"
   ]
  },
  {
   "cell_type": "markdown",
   "metadata": {},
   "source": [
    "### Get Starts ins and outs by hour/place"
   ]
  },
  {
   "cell_type": "code",
   "execution_count": 14,
   "metadata": {
    "collapsed": true,
    "scrolled": true
   },
   "outputs": [],
   "source": [
    "# get $v_{start,i,t}$ in the form of a DF with times buckets as rows and stations as columns\n",
    "\n",
    "starts = orderdf_s[orderdf_s['start']].copy()\n",
    "starts.loc[:,'time_bucket'] = starts['timestamp'].dt.round('5min')"
   ]
  },
  {
   "cell_type": "code",
   "execution_count": 15,
   "metadata": {
    "collapsed": true
   },
   "outputs": [],
   "source": [
    "starts_table = pd.pivot_table(starts, index='time_bucket', \n",
    "               columns=['start_district_hash'], aggfunc=len, \n",
    "               values='order_id', fill_value=0)"
   ]
  },
  {
   "cell_type": "markdown",
   "metadata": {},
   "source": [
    "### Get Pax Ins"
   ]
  },
  {
   "cell_type": "code",
   "execution_count": 16,
   "metadata": {
    "collapsed": true
   },
   "outputs": [],
   "source": [
    "# This should be pushed UP\n",
    "orderdf_s['pax_arrival_time'] = orderdf_s['timestamp'] + orderdf_s['expected_travel_time'] * pd.Timedelta('1 minute')"
   ]
  },
  {
   "cell_type": "code",
   "execution_count": 17,
   "metadata": {
    "collapsed": true
   },
   "outputs": [],
   "source": [
    "# for cases where arrival estimate is infeasible , assume simply that it arrives exactly when the next rider departs\n",
    "# there are ~697,519 cases of this happening, or ~8% of all trips\n",
    "\n",
    "infeasible = (orderdf_s['pax_arrival_time'] > orderdf_s['next_timestamp']) & ~orderdf_s['last_ride']\n",
    "orderdf_s.loc[infeasible,'pax_arrival_time'] = orderdf_s[infeasible]['next_timestamp'].copy()"
   ]
  },
  {
   "cell_type": "code",
   "execution_count": 18,
   "metadata": {
    "collapsed": true
   },
   "outputs": [],
   "source": [
    "# get $v_{pax_{in},i,t}$ in the form of a DF with times buckets as rows and stations as columns\n",
    "\n",
    "#temporary, will remove\n",
    "orderdf_s['time_bucket'] = orderdf_s['pax_arrival_time'].dt.round('5min')\n",
    "\n",
    "paxin_table = pd.pivot_table(orderdf_s, index='time_bucket', \n",
    "               columns=['dest_district_hash'], aggfunc=len, \n",
    "               values='order_id', fill_value=0)"
   ]
  },
  {
   "cell_type": "markdown",
   "metadata": {},
   "source": [
    "### Get Reb Ins"
   ]
  },
  {
   "cell_type": "code",
   "execution_count": 19,
   "metadata": {
    "collapsed": true
   },
   "outputs": [],
   "source": [
    "# we need this function to estimate the tarvel time for rebalancing\n",
    "\n",
    "def get_rebalancing_time(series):\n",
    "    start_ix = stations.index(series['dest_district_hash'])\n",
    "    end_ix = stations.index(series['next_start_district_hash'])\n",
    "    travel_time = D[start_ix][end_ix]\n",
    "    return travel_time"
   ]
  },
  {
   "cell_type": "code",
   "execution_count": 20,
   "metadata": {
    "collapsed": true
   },
   "outputs": [],
   "source": [
    "rebs = orderdf_s[orderdf_s['emptytrip'] & ~orderdf_s['break'] & ~orderdf_s['last_ride']].copy()\n",
    "rebs['reb_travel_time'] = rebs.apply(get_rebalancing_time, axis=1)"
   ]
  },
  {
   "cell_type": "code",
   "execution_count": 21,
   "metadata": {
    "collapsed": true
   },
   "outputs": [],
   "source": [
    "rebs['reb_arrival_time'] = rebs['pax_arrival_time'] + rebs['reb_travel_time'] * pd.Timedelta('1 minute')"
   ]
  },
  {
   "cell_type": "code",
   "execution_count": 22,
   "metadata": {
    "collapsed": true
   },
   "outputs": [],
   "source": [
    "# for cases where arrival estimate is infeasible , assume simply that it arrives exactly when the next rider departs\n",
    "\n",
    "infeasible = rebs['reb_arrival_time'] > rebs['next_timestamp']\n",
    "rebs.loc[infeasible,'reb_arrival_time'] = rebs[infeasible]['next_timestamp'].copy()"
   ]
  },
  {
   "cell_type": "code",
   "execution_count": 23,
   "metadata": {
    "collapsed": true
   },
   "outputs": [],
   "source": [
    "# get $v_{reb_{in},i,t}$ in the form of a DF with times buckets as rows and stations as columns\n",
    "\n",
    "#temporary, will remove\n",
    "rebs['time_bucket'] = rebs['reb_arrival_time'].dt.round('5min')\n",
    "\n",
    "rebin_table = pd.pivot_table(rebs, index='time_bucket', \n",
    "               columns=['next_start_district_hash'], aggfunc=len, \n",
    "               values='order_id', fill_value=0)"
   ]
  },
  {
   "cell_type": "markdown",
   "metadata": {},
   "source": [
    "### Get Breaks"
   ]
  },
  {
   "cell_type": "code",
   "execution_count": 24,
   "metadata": {
    "collapsed": true
   },
   "outputs": [],
   "source": [
    "breaks = orderdf_s[orderdf_s['break']].copy()"
   ]
  },
  {
   "cell_type": "code",
   "execution_count": 25,
   "metadata": {
    "collapsed": true
   },
   "outputs": [],
   "source": [
    "breaks['time_bucket'] = breaks['pax_arrival_time'].dt.round('5min')"
   ]
  },
  {
   "cell_type": "code",
   "execution_count": 26,
   "metadata": {
    "collapsed": true
   },
   "outputs": [],
   "source": [
    "breaks_table = pd.pivot_table(breaks, index='time_bucket', \n",
    "               columns=['dest_district_hash'], aggfunc=len, \n",
    "               values='order_id', fill_value=0)"
   ]
  },
  {
   "cell_type": "markdown",
   "metadata": {},
   "source": [
    "### Get Reb Outs"
   ]
  },
  {
   "cell_type": "code",
   "execution_count": 27,
   "metadata": {
    "collapsed": true
   },
   "outputs": [],
   "source": [
    "# get $v_{reb_{in},i,t}$ in the form of a DF with times buckets as rows and stations as columns\n",
    "\n",
    "#temporary, will remove\n",
    "rebs['time_bucket'] = rebs['pax_arrival_time'].dt.round('5min')\n",
    "\n",
    "rebout_table = pd.pivot_table(rebs, index='time_bucket', \n",
    "               columns=['dest_district_hash'], aggfunc=len, \n",
    "               values='order_id', fill_value=0)"
   ]
  },
  {
   "cell_type": "markdown",
   "metadata": {},
   "source": [
    "### Get Pax Outs"
   ]
  },
  {
   "cell_type": "code",
   "execution_count": 28,
   "metadata": {
    "collapsed": true
   },
   "outputs": [],
   "source": [
    "# get $v_{pax_{in},i,t}$ in the form of a DF with times buckets as rows and stations as columns\n",
    "\n",
    "#temporary, will remove\n",
    "orderdf_s['time_bucket'] = orderdf_s['timestamp'].dt.round('5min')\n",
    "\n",
    "paxout_table = pd.pivot_table(orderdf_s, index='time_bucket', \n",
    "               columns=['start_district_hash'], aggfunc=len, \n",
    "               values='order_id', fill_value=0)"
   ]
  },
  {
   "cell_type": "code",
   "execution_count": 29,
   "metadata": {},
   "outputs": [
    {
     "name": "stdout",
     "output_type": "stream",
     "text": [
      "starts shape (6651, 66) total 2545784\n",
      "paxins shape (7748, 66) total 6659303\n",
      "rebins shape (6648, 66) total 1547980\n",
      "breaks shape (7747, 66) total 2545784\n",
      "paxouts shape (6651, 66) total 6659303\n",
      "rebouts shape (6649, 66) total 1547980\n"
     ]
    }
   ],
   "source": [
    "print 'starts shape', starts_table.shape, 'total', starts_table.sum().sum()\n",
    "print 'paxins shape', paxin_table.shape, 'total', paxin_table.sum().sum()\n",
    "print 'rebins shape', rebin_table.shape, 'total', rebin_table.sum().sum()\n",
    "print 'breaks shape', breaks_table.shape, 'total', breaks_table.sum().sum()\n",
    "print 'paxouts shape', paxout_table.shape, 'total', paxout_table.sum().sum()\n",
    "print 'rebouts shape', rebout_table.shape, 'total', rebout_table.sum().sum()"
   ]
  },
  {
   "cell_type": "code",
   "execution_count": 30,
   "metadata": {
    "collapsed": true
   },
   "outputs": [],
   "source": [
    "balance = starts_table + paxin_table + rebin_table - breaks_table - paxout_table - rebout_table\n",
    "balance_c = balance.cumsum()\n",
    "balance_a = starts_table + paxin_table + rebin_table - breaks_table\n",
    "av_veh = balance_c.shift(+1) + balance_a"
   ]
  },
  {
   "cell_type": "code",
   "execution_count": 31,
   "metadata": {},
   "outputs": [
    {
     "data": {
      "text/plain": [
       "[<matplotlib.lines.Line2D at 0x1153a1ed0>]"
      ]
     },
     "execution_count": 31,
     "metadata": {},
     "output_type": "execute_result"
    },
    {
     "data": {
      "image/png": "[encoded data removed]",
      "text/plain": [
       "<matplotlib.figure.Figure at 0x1b0d8f510>"
      ]
     },
     "metadata": {},
     "output_type": "display_data"
    }
   ],
   "source": [
    "plt.plot(av_veh.min(axis=1).iloc[:1000])"
   ]
  },
  {
   "cell_type": "code",
   "execution_count": 32,
   "metadata": {},
   "outputs": [
    {
     "data": {
      "text/plain": [
       "<matplotlib.axes._subplots.AxesSubplot at 0x119a4b810>"
      ]
     },
     "execution_count": 32,
     "metadata": {},
     "output_type": "execute_result"
    },
    {
     "data": {
      "image/png": "[encoded data removed]",
      "text/plain": [
       "<matplotlib.figure.Figure at 0x13d774210>"
      ]
     },
     "metadata": {},
     "output_type": "display_data"
    }
   ],
   "source": [
    "s = 9\n",
    "av_veh[stations[s]].plot()"
   ]
  },
  {
   "cell_type": "code",
   "execution_count": 33,
   "metadata": {},
   "outputs": [
    {
     "data": {
      "text/plain": [
       "<matplotlib.axes._subplots.AxesSubplot at 0x110865550>"
      ]
     },
     "execution_count": 33,
     "metadata": {},
     "output_type": "execute_result"
    },
    {
     "data": {
      "image/png": "[encoded data removed]",
      "text/plain": [
       "<matplotlib.figure.Figure at 0x122ae1190>"
      ]
     },
     "metadata": {},
     "output_type": "display_data"
    }
   ],
   "source": [
    "av_veh.sum(axis=1).plot()"
   ]
  },
  {
   "cell_type": "code",
   "execution_count": 34,
   "metadata": {},
   "outputs": [
    {
     "data": {
      "text/plain": [
       "<matplotlib.axes._subplots.AxesSubplot at 0x11331ec90>"
      ]
     },
     "execution_count": 34,
     "metadata": {},
     "output_type": "execute_result"
    },
    {
     "data": {
      "image/png": "[encoded data removed]",
      "text/plain": [
       "<matplotlib.figure.Figure at 0x11331e710>"
      ]
     },
     "metadata": {},
     "output_type": "display_data"
    }
   ],
   "source": [
    "s = paxout_table.max().argmax()\n",
    "t0 = 1000\n",
    "t1 = 2000\n",
    "av_veh.iloc[t0:t1][s].plot(alpha=0.5, legend = True)\n",
    "balance_c.shift(+1)[s].iloc[t0:t1].plot(alpha=0.5)\n",
    "(rebin_table[s]).iloc[t0:t1].plot(alpha=0.5)\n",
    "(starts_table[s]).iloc[t0:t1].plot(alpha=0.5)\n",
    "(paxin_table[s]).iloc[t0:t1].plot(alpha=0.5)\n",
    "#(paxout_table[s]).iloc[t0:t1].plot(alpha=0.5)"
   ]
  },
  {
   "cell_type": "code",
   "execution_count": 35,
   "metadata": {},
   "outputs": [
    {
     "name": "stdout",
     "output_type": "stream",
     "text": [
      "d4ec2125aff74eded207d2d915ef682f d4ec2125aff74eded207d2d915ef682f\n"
     ]
    }
   ],
   "source": [
    "print paxout_table.max().argmax(), av_veh.max().argmax()"
   ]
  },
  {
   "cell_type": "code",
   "execution_count": 36,
   "metadata": {
    "collapsed": true
   },
   "outputs": [],
   "source": [
    "frac_reb = rebin_table / av_veh\n",
    "frac_stayin = balance_c.shift(+1) / av_veh\n",
    "frac_paxin = paxin_table / av_veh\n",
    "frac_starts = starts_table / av_veh\n",
    "\n",
    "frac_paxout = paxout_table / av_veh\n",
    "frac_rebout = rebout_table / av_veh"
   ]
  },
  {
   "cell_type": "code",
   "execution_count": 37,
   "metadata": {},
   "outputs": [
    {
     "data": {
      "text/plain": [
       "<matplotlib.axes._subplots.AxesSubplot at 0x119e520d0>"
      ]
     },
     "execution_count": 37,
     "metadata": {},
     "output_type": "execute_result"
    },
    {
     "data": {
      "image/png": "[encoded data removed]",
      "text/plain": [
       "<matplotlib.figure.Figure at 0x1245fba90>"
      ]
     },
     "metadata": {},
     "output_type": "display_data"
    }
   ],
   "source": [
    "s = frac_paxout.max().argmax()\n",
    "\n",
    "#frac_reb.iloc[t0:t1][s].plot(alpha=0.5, legend=True)\n",
    "#frac_stayin.iloc[t0:t1][s].plot(alpha=0.5, legend = True)\n",
    "#frac_paxin.iloc[t0:t1][s].plot(alpha=0.5, legend = True)\n",
    "#frac_starts.iloc[t0:t1][s].plot(alpha=0.5, legend = True)\n",
    "\n",
    "\n",
    "frac_paxout.iloc[t0:t1][s].plot(alpha=0.5, legend = True)\n",
    "#frac_rebout.iloc[t0:t1][s].plot(alpha=0.5, legend = True)"
   ]
  },
  {
   "cell_type": "markdown",
   "metadata": {},
   "source": [
    "### Get table with mismatches"
   ]
  },
  {
   "cell_type": "code",
   "execution_count": 38,
   "metadata": {
    "collapsed": true
   },
   "outputs": [],
   "source": [
    "# get a table with mismatches by station\n",
    "\n",
    "miss = orderdf[(pd.isnull(orderdf['driver_id'])) & orderdf['dest_district_hash'].isin(core_stations)].copy()\n",
    "\n",
    "miss['time_bucket'] = miss['timestamp'].dt.round('5min')\n",
    "\n",
    "miss_table = pd.pivot_table(miss, index='time_bucket', \n",
    "               columns=['start_district_hash'], aggfunc=len, \n",
    "               values='order_id', fill_value=0)"
   ]
  },
  {
   "cell_type": "code",
   "execution_count": 39,
   "metadata": {
    "collapsed": true
   },
   "outputs": [],
   "source": [
    "frac_miss = (miss_table / (miss_table + paxout_table)) + av_veh - av_veh"
   ]
  },
  {
   "cell_type": "code",
   "execution_count": 40,
   "metadata": {},
   "outputs": [
    {
     "data": {
      "text/plain": [
       "<matplotlib.axes._subplots.AxesSubplot at 0x11bbb2bd0>"
      ]
     },
     "execution_count": 40,
     "metadata": {},
     "output_type": "execute_result"
    },
    {
     "data": {
      "image/png": "[encoded data removed]",
      "text/plain": [
       "<matplotlib.figure.Figure at 0x11ac6fdd0>"
      ]
     },
     "metadata": {},
     "output_type": "display_data"
    }
   ],
   "source": [
    "s = frac_miss.max().argmax()\n",
    "\n",
    "#frac_reb.iloc[t0:t1][s].plot(alpha=0.5, legend=True)\n",
    "#frac_stayin.iloc[t0:t1][s].plot(alpha=0.5, legend = True)\n",
    "#frac_paxin.iloc[t0:t1][s].plot(alpha=0.5, legend = True)\n",
    "#frac_starts.iloc[t0:t1][s].plot(alpha=0.5, legend = True)\n",
    "\n",
    "\n",
    "frac_paxout.iloc[t0:t1][s].plot(alpha=0.5, legend = True)\n",
    "#frac_rebout.iloc[t0:t1][s].plot(alpha=0.5, legend = True)\n",
    "\n",
    "frac_miss.iloc[t0:t1][s].plot(alpha=0.5, legend = True)"
   ]
  },
  {
   "cell_type": "markdown",
   "metadata": {},
   "source": [
    "Of the available vehicles how many were _not_ devoted to passenger requests?"
   ]
  },
  {
   "cell_type": "code",
   "execution_count": 41,
   "metadata": {
    "collapsed": true
   },
   "outputs": [],
   "source": [
    "request_table = (miss_table + paxout_table)\n",
    "nonreq_table = rebout_table\n",
    "\n",
    "req_frac = request_table / (av_veh)\n",
    "nonr_frac = nonreq_table / av_veh"
   ]
  },
  {
   "cell_type": "code",
   "execution_count": 42,
   "metadata": {},
   "outputs": [
    {
     "data": {
      "text/plain": [
       "<matplotlib.axes._subplots.AxesSubplot at 0x110c57f50>"
      ]
     },
     "execution_count": 42,
     "metadata": {},
     "output_type": "execute_result"
    },
    {
     "data": {
      "image/png": "[encoded data removed]",
      "text/plain": [
       "<matplotlib.figure.Figure at 0x11bc11e10>"
      ]
     },
     "metadata": {},
     "output_type": "display_data"
    }
   ],
   "source": [
    "miss_table.iloc[t0:t1][s].plot(alpha=0.5, legend = True)"
   ]
  },
  {
   "cell_type": "code",
   "execution_count": 43,
   "metadata": {},
   "outputs": [
    {
     "data": {
      "text/plain": [
       "<matplotlib.axes._subplots.AxesSubplot at 0x110c6d050>"
      ]
     },
     "execution_count": 43,
     "metadata": {},
     "output_type": "execute_result"
    },
    {
     "data": {
      "image/png": "[encoded data removed]",
      "text/plain": [
       "<matplotlib.figure.Figure at 0x117825310>"
      ]
     },
     "metadata": {},
     "output_type": "display_data"
    }
   ],
   "source": [
    "#frac_paxout.iloc[t0:t1][s].plot(alpha=0.5, legend = True)\n",
    "#nonr_frac.iloc[t0:t1][s].plot(alpha=0.5, legend = True)\n",
    "req_frac.iloc[:t1][s].plot(alpha=0.5, legend = True)"
   ]
  },
  {
   "cell_type": "code",
   "execution_count": 44,
   "metadata": {},
   "outputs": [
    {
     "data": {
      "text/plain": [
       "(7748, 66)"
      ]
     },
     "execution_count": 44,
     "metadata": {},
     "output_type": "execute_result"
    }
   ],
   "source": [
    "frac_miss.shape"
   ]
  },
  {
   "cell_type": "code",
   "execution_count": 45,
   "metadata": {},
   "outputs": [
    {
     "data": {
      "text/plain": [
       "(7748, 66)"
      ]
     },
     "execution_count": 45,
     "metadata": {},
     "output_type": "execute_result"
    }
   ],
   "source": [
    "req_frac.shape"
   ]
  },
  {
   "cell_type": "code",
   "execution_count": 49,
   "metadata": {},
   "outputs": [
    {
     "name": "stderr",
     "output_type": "stream",
     "text": [
      "/Users/ramoniglesias/development/cs341/venv/lib/python2.7/site-packages/ipykernel_launcher.py:3: RuntimeWarning: invalid value encountered in divide\n",
      "  This is separate from the ipykernel package so we can avoid doing imports until\n"
     ]
    },
    {
     "data": {
      "text/plain": [
       "(0, 1.2)"
      ]
     },
     "execution_count": 49,
     "metadata": {},
     "output_type": "execute_result"
    },
    {
     "data": {
      "image/png": "[encoded data removed]",
      "text/plain": [
       "<matplotlib.figure.Figure at 0x126c93410>"
      ]
     },
     "metadata": {},
     "output_type": "display_data"
    }
   ],
   "source": [
    "maxx = 7\n",
    "lim  = np.arange(0,maxx,0.1) - 1.0\n",
    "lim = ((lim > 0)*lim) / np.arange(0,maxx,0.1)\n",
    "\n",
    "top_val = req_frac[s].value_counts().index[:10]\n",
    "istop = req_frac[s].isin(top_val)\n",
    "\n",
    "plt.scatter(req_frac[s], frac_miss[s], label= 'Fraction of mismatches' )\n",
    "plt.plot(np.arange(0,maxx,0.1), lim, color='red', label = 'lower bound of mismatches')\n",
    "plt.legend()\n",
    "plt.xlabel('Requests / Available Vehicles')\n",
    "plt.ylabel('Mismatches / Total Requests')\n",
    "plt.xlim(0,maxx)\n",
    "plt.ylim(0,1.2)"
   ]
  },
  {
   "cell_type": "code",
   "execution_count": 50,
   "metadata": {},
   "outputs": [
    {
     "data": {
      "text/plain": [
       "<matplotlib.collections.PathCollection at 0x125ef8110>"
      ]
     },
     "execution_count": 50,
     "metadata": {},
     "output_type": "execute_result"
    },
    {
     "data": {
      "image/png": "[encoded data removed]",
      "text/plain": [
       "<matplotlib.figure.Figure at 0x125e4a4d0>"
      ]
     },
     "metadata": {},
     "output_type": "display_data"
    }
   ],
   "source": [
    "plt.scatter(av_veh[s][istop],req_frac[s][istop])"
   ]
  },
  {
   "cell_type": "code",
   "execution_count": 51,
   "metadata": {
    "scrolled": true
   },
   "outputs": [
    {
     "data": {
      "text/plain": [
       "Float64Index([0.0, 1.0, 0.5, inf, 2.0, 0.333333333333, 0.666666666667, 1.5,\n",
       "              3.0, 0.25],\n",
       "             dtype='float64')"
      ]
     },
     "execution_count": 51,
     "metadata": {},
     "output_type": "execute_result"
    }
   ],
   "source": [
    "req_frac[s].value_counts().index[:10]"
   ]
  },
  {
   "cell_type": "markdown",
   "metadata": {},
   "source": [
    "#### Note\n",
    "\n",
    "I might be paranoid, but it seems to me that they have injected fake mismatches "
   ]
  },
  {
   "cell_type": "code",
   "execution_count": 52,
   "metadata": {},
   "outputs": [
    {
     "data": {
      "text/plain": [
       "array([-1. , -0.9, -0.8, -0.7, -0.6, -0.5, -0.4, -0.3, -0.2, -0.1,  0. ,\n",
       "        0.1,  0.2,  0.3,  0.4,  0.5,  0.6,  0.7,  0.8,  0.9,  1. ,  1.1,\n",
       "        1.2,  1.3,  1.4,  1.5,  1.6,  1.7,  1.8,  1.9])"
      ]
     },
     "execution_count": 52,
     "metadata": {},
     "output_type": "execute_result"
    }
   ],
   "source": [
    "np.arange(0,3,0.1) - 1.0"
   ]
  },
  {
   "cell_type": "markdown",
   "metadata": {},
   "source": [
    "## Store the tables"
   ]
  },
  {
   "cell_type": "code",
   "execution_count": 53,
   "metadata": {
    "collapsed": true
   },
   "outputs": [],
   "source": [
    "av_veh.to_csv('ignored_assets/av_veh.csv')\n",
    "paxin_table.to_csv('ignored_assets/paxin_table.csv')\n",
    "paxout_table.to_csv('ignored_assets/paxout_table.csv')\n",
    "rebin_table.to_csv('ignored_assets/rebin_table.csv')\n",
    "rebout_table.to_csv('ignored_assets/rebout_table.csv')\n",
    "starts_table.to_csv('ignored_assets/starts_table.csv')\n",
    "breaks_table.to_csv('ignored_assets/breaks_table.csv')"
   ]
  },
  {
   "cell_type": "markdown",
   "metadata": {},
   "source": [
    "### Number of Rebalancing Cars through Time"
   ]
  },
  {
   "cell_type": "code",
   "execution_count": 54,
   "metadata": {},
   "outputs": [
    {
     "data": {
      "text/plain": [
       "<matplotlib.axes._subplots.AxesSubplot at 0x12627a7d0>"
      ]
     },
     "execution_count": 54,
     "metadata": {},
     "output_type": "execute_result"
    },
    {
     "data": {
      "image/png": "[encoded data removed]",
      "text/plain": [
       "<matplotlib.figure.Figure at 0x126297110>"
      ]
     },
     "metadata": {},
     "output_type": "display_data"
    }
   ],
   "source": [
    "(rebout_table - rebin_table).sum(axis=1).iloc[:t1].cumsum().plot()\n",
    "#(paxout_table - paxin_table).sum(axis=1).iloc[:t1].cumsum().plot()\n",
    "#(balance_c - balance_c.shift(+1)).sum(axis=1).iloc[:t1].cumsum().plot()\n",
    "(starts_table - breaks_table).sum(axis=1).iloc[:t1].cumsum().plot()"
   ]
  },
  {
   "cell_type": "code",
   "execution_count": 55,
   "metadata": {},
   "outputs": [
    {
     "data": {
      "text/plain": [
       "<matplotlib.axes._subplots.AxesSubplot at 0x1270aa950>"
      ]
     },
     "execution_count": 55,
     "metadata": {},
     "output_type": "execute_result"
    },
    {
     "data": {
      "image/png": "[encoded data removed]",
      "text/plain": [
       "<matplotlib.figure.Figure at 0x125ee3fd0>"
      ]
     },
     "metadata": {},
     "output_type": "display_data"
    }
   ],
   "source": [
    "((paxout_table - paxin_table).sum(axis=1).iloc[:t1].cumsum() / (starts_table - breaks_table).sum(axis=1).iloc[:t1].cumsum()).plot()"
   ]
  },
  {
   "cell_type": "markdown",
   "metadata": {},
   "source": [
    "Interesting, rebalancing is not really a thing..."
   ]
  },
  {
   "cell_type": "markdown",
   "metadata": {
    "collapsed": true
   },
   "source": [
    "### Build Matlab setup"
   ]
  },
  {
   "cell_type": "code",
   "execution_count": 60,
   "metadata": {},
   "outputs": [
    {
     "data": {
      "text/plain": [
       "<matplotlib.axes._subplots.AxesSubplot at 0x1261f8210>"
      ]
     },
     "execution_count": 60,
     "metadata": {},
     "output_type": "execute_result"
    },
    {
     "data": {
      "image/png": "[encoded data removed]",
      "text/plain": [
       "<matplotlib.figure.Figure at 0x1258993d0>"
      ]
     },
     "metadata": {},
     "output_type": "display_data"
    }
   ],
   "source": [
    "av_veh.sum(axis=1)[pd.to_datetime('2016-01-21 00:00:00'):pd.to_datetime('2016-01-22 00:00:00')].plot()"
   ]
  },
  {
   "cell_type": "code",
   "execution_count": 58,
   "metadata": {},
   "outputs": [
    {
     "data": {
      "text/plain": [
       "Timestamp('2016-01-21 17:35:00')"
      ]
     },
     "execution_count": 58,
     "metadata": {},
     "output_type": "execute_result"
    }
   ],
   "source": [
    "av_veh.sum(axis=1).argmax()"
   ]
  },
  {
   "cell_type": "code",
   "execution_count": 61,
   "metadata": {
    "collapsed": true
   },
   "outputs": [],
   "source": [
    "t0 = pd.to_datetime('2016-01-21 00:00:00')\n",
    "t1 = pd.to_datetime('2016-01-22 00:00:00')"
   ]
  },
  {
   "cell_type": "code",
   "execution_count": 63,
   "metadata": {
    "collapsed": true
   },
   "outputs": [],
   "source": [
    "T = 24 * 12\n",
    "N = len(stations)"
   ]
  },
  {
   "cell_type": "code",
   "execution_count": 64,
   "metadata": {},
   "outputs": [],
   "source": [
    "adjacencies = np.zeros((N,), dtype=np.object)\n",
    "\n",
    "for i,s in enumerate(stations):\n",
    "    adjacencies[i] = range(1,len(stations) + 1) # matlab friendly"
   ]
  },
  {
   "cell_type": "code",
   "execution_count": 65,
   "metadata": {
    "collapsed": true
   },
   "outputs": [],
   "source": [
    "D2 = np.ceil(D / 5.)"
   ]
  },
  {
   "cell_type": "code",
   "execution_count": 66,
   "metadata": {
    "collapsed": true
   },
   "outputs": [],
   "source": [
    "np.fill_diagonal(D2, 1.)"
   ]
  },
  {
   "cell_type": "code",
   "execution_count": 81,
   "metadata": {
    "collapsed": true
   },
   "outputs": [],
   "source": [
    "flowsout = paxout_table[stations]#[t0:t1].as_matrix()\n",
    "flowsin = paxin_table[stations]#[t0:t1].as_matrix()"
   ]
  },
  {
   "cell_type": "code",
   "execution_count": 82,
   "metadata": {
    "collapsed": true
   },
   "outputs": [],
   "source": [
    "problem  ={\n",
    "        'RoadGraph':adjacencies,     \n",
    "        'TravelTimes': D2,\n",
    "        'T':float(T),\n",
    "        'FlowsIn': flowsin[t0:t1].as_matrix(),\n",
    "        'FlowsOut': flowsout[t0:t1].as_matrix()\n",
    "    }"
   ]
  },
  {
   "cell_type": "code",
   "execution_count": 83,
   "metadata": {
    "collapsed": true
   },
   "outputs": [],
   "source": [
    "\n",
    "sio.savemat('didi.mat',problem)"
   ]
  },
  {
   "cell_type": "code",
   "execution_count": 72,
   "metadata": {
    "collapsed": true
   },
   "outputs": [],
   "source": [
    "results = sio.loadmat('Data.mat')"
   ]
  },
  {
   "cell_type": "code",
   "execution_count": 84,
   "metadata": {
    "collapsed": true
   },
   "outputs": [],
   "source": [
    "rebin = results['RebIn']\n",
    "rebout = results['RebOut']\n",
    "stayin = results['StayIn']\n",
    "stayout = results['StayOut']\n",
    "nvehs = results['nvehs']"
   ]
  },
  {
   "cell_type": "code",
   "execution_count": 93,
   "metadata": {},
   "outputs": [],
   "source": [
    "paxveh = (flowsout.sum(axis=1) - flowsin.sum(axis=1)).cumsum()[t0:t1].as_matrix()[:-1]"
   ]
  },
  {
   "cell_type": "code",
   "execution_count": 99,
   "metadata": {},
   "outputs": [],
   "source": [
    "nveh = ((rebout.sum(axis=1) - rebin.sum(axis=1)).cumsum() + paxveh + (stayout.sum(axis=1) - stayin.sum(axis=1)).cumsum())[0]"
   ]
  },
  {
   "cell_type": "code",
   "execution_count": 101,
   "metadata": {},
   "outputs": [
    {
     "data": {
      "image/png": "[encoded data removed]",
      "text/plain": [
       "<matplotlib.figure.Figure at 0x125dbb350>"
      ]
     },
     "metadata": {},
     "output_type": "display_data"
    }
   ],
   "source": [
    "plt.plot(paxveh, label='Passenger')\n",
    "plt.plot((rebout.sum(axis=1) - rebin.sum(axis=1)).cumsum(), label='Rebalancing')\n",
    "plt.plot((stayout.sum(axis=1) - stayin.sum(axis=1)).cumsum(), label ='Idle')\n",
    "plt.legend()\n",
    "plt.xlabel('Time (5 min interval)')\n",
    "plt.ylabel('Number of Vehicles')\n",
    "plt.title('Optimal Policy, '+ str(nveh) +' Vehicles');"
   ]
  },
  {
   "cell_type": "code",
   "execution_count": 103,
   "metadata": {},
   "outputs": [],
   "source": [
    "# actual rebs\n",
    "rout = rebout_table[stations]\n",
    "rin = rebin_table[stations]\n",
    "\n",
    "rebvehs = (rout.sum(axis=1) - rin.sum(axis=1)).cumsum()[t0:t1].as_matrix()\n",
    "\n",
    "# actual stays\n",
    "\n",
    "sout = balance_c[stations]\n",
    "sin = balance_c.shift(+1)[stations]\n",
    "\n",
    "\n",
    "stayvehs = (sout.sum(axis=1) - sin.sum(axis=1)).cumsum()[t0:t1].as_matrix()"
   ]
  },
  {
   "cell_type": "code",
   "execution_count": 104,
   "metadata": {},
   "outputs": [
    {
     "data": {
      "text/plain": [
       "<matplotlib.text.Text at 0x128499910>"
      ]
     },
     "execution_count": 104,
     "metadata": {},
     "output_type": "execute_result"
    },
    {
     "data": {
      "image/png": "[encoded data removed]",
      "text/plain": [
       "<matplotlib.figure.Figure at 0x12a46b990>"
      ]
     },
     "metadata": {},
     "output_type": "display_data"
    }
   ],
   "source": [
    "plt.plot(paxveh, label='Passenger')\n",
    "plt.plot(rebvehs, label='Rebalancing')\n",
    "plt.plot(stayvehs, label ='Idle')\n",
    "plt.legend()\n",
    "plt.xlabel('Time (5 min interval)')\n",
    "plt.ylabel('Number of Vehicles')\n",
    "plt.title('Actual, 6577 Vehicles')"
   ]
  },
  {
   "cell_type": "code",
   "execution_count": 111,
   "metadata": {},
   "outputs": [],
   "source": [
    "nveh_0 = (paxveh + rebvehs[:-1] + stayvehs[:-1]).max()"
   ]
  },
  {
   "cell_type": "code",
   "execution_count": 112,
   "metadata": {},
   "outputs": [
    {
     "data": {
      "text/plain": [
       "0.65779180676593696"
      ]
     },
     "execution_count": 112,
     "metadata": {},
     "output_type": "execute_result"
    }
   ],
   "source": [
    "(rebout.sum(axis=1) - rebin.sum(axis=1)).cumsum().sum() / rebvehs.sum()"
   ]
  },
  {
   "cell_type": "code",
   "execution_count": 113,
   "metadata": {},
   "outputs": [
    {
     "data": {
      "text/plain": [
       "0.44692381255977048"
      ]
     },
     "execution_count": 113,
     "metadata": {},
     "output_type": "execute_result"
    }
   ],
   "source": [
    "nveh / nveh_0"
   ]
  },
  {
   "cell_type": "code",
   "execution_count": null,
   "metadata": {
    "collapsed": true
   },
   "outputs": [],
   "source": []
  }
 ],
 "metadata": {
  "kernelspec": {
   "display_name": "Python 2",
   "language": "python",
   "name": "python2"
  },
  "language_info": {
   "codemirror_mode": {
    "name": "ipython",
    "version": 2
   },
   "file_extension": ".py",
   "mimetype": "text/x-python",
   "name": "python",
   "nbconvert_exporter": "python",
   "pygments_lexer": "ipython2",
   "version": "2.7.10"
  }
 },
 "nbformat": 4,
 "nbformat_minor": 2
}
