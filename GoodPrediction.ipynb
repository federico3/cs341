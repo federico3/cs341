{
 "cells": [
  {
   "cell_type": "code",
   "execution_count": 1,
   "metadata": {
    "collapsed": true
   },
   "outputs": [],
   "source": [
    "import math\n",
    "import numpy as np\n",
    "import pandas as pd\n",
    "import os\n",
    "import tempfile\n",
    "\n",
    "from scipy.spatial.distance import pdist, squareform\n",
    "import scipy.io as sio\n",
    "\n",
    "import matplotlib.pyplot as plt\n",
    "\n",
    "%matplotlib inline"
   ]
  },
  {
   "cell_type": "code",
   "execution_count": 2,
   "metadata": {
    "collapsed": true
   },
   "outputs": [],
   "source": [
    "trainPredict = np.load('trainPredict.npy')\n",
    "train_result = np.sum(trainPredict, axis=1)\n",
    "testPredict = np.load('testPredict.npy')\n",
    "test_result = np.sum(testPredict, axis=1)"
   ]
  },
  {
   "cell_type": "markdown",
   "metadata": {},
   "source": [
    "##  Get distributions of Dest by Source,Time"
   ]
  },
  {
   "cell_type": "code",
   "execution_count": 3,
   "metadata": {
    "collapsed": true
   },
   "outputs": [],
   "source": [
    "orderdf = pd.read_csv('ignored_assets/orders.csv', parse_dates = [6])"
   ]
  },
  {
   "cell_type": "code",
   "execution_count": 4,
   "metadata": {
    "collapsed": true
   },
   "outputs": [],
   "source": [
    "# Create map of driver IDs\n",
    "driver_ids=orderdf['driver_id'].unique()\n",
    "\n",
    "# create map of core stations\n",
    "core_stations = orderdf['start_district_hash'].unique()\n",
    "core_stations.sort()\n",
    "\n",
    "#Index stuff\n",
    "orderdf_f=orderdf[(~pd.isnull(orderdf['driver_id'])) & orderdf['dest_district_hash'].isin(core_stations)]\n",
    "myindex=pd.MultiIndex.from_arrays([orderdf_f['driver_id'],orderdf_f['timestamp']],names=('driver_id','timestamp'))\n",
    "\n",
    "orderdf2=orderdf_f.set_index(myindex)\n",
    "orderdf_s=orderdf2.sort_index()\n",
    "\n",
    "orderdf_s['time_bucket'] = orderdf_s['timestamp'].dt.round('5min')\n",
    "orderdf_s['pax_arrival_time'] = orderdf_s['timestamp'] + orderdf_s['expected_travel_time'] * pd.Timedelta('1 minute')\n",
    "orderdf_s['time_bucket_arrival'] = orderdf_s['pax_arrival_time'].dt.round('5min')"
   ]
  },
  {
   "cell_type": "code",
   "execution_count": 5,
   "metadata": {
    "collapsed": true
   },
   "outputs": [],
   "source": [
    "stepsize = pd.Timedelta('5 min')\n",
    "horizon = pd.Timedelta('2 hour')\n",
    "start = pd.to_datetime('2016-01-20 00:00:00')\n",
    "end = pd.to_datetime('2016-01-21 00:00:00')"
   ]
  },
  {
   "cell_type": "code",
   "execution_count": 6,
   "metadata": {
    "collapsed": true
   },
   "outputs": [],
   "source": [
    "mask = (orderdf_s['time_bucket'] >= start) & (orderdf_s['time_bucket'] < end)"
   ]
  },
  {
   "cell_type": "code",
   "execution_count": 7,
   "metadata": {
    "collapsed": true
   },
   "outputs": [],
   "source": [
    "dates = [start + j*stepsize for j in range(int(horizon / stepsize))]\n",
    "iterables = [dates, core_stations]\n",
    "mindex = pd.MultiIndex.from_product(iterables, names=['time_bucket', 'start_district_hash'])\n",
    "mcolumns = pd.MultiIndex.from_arrays([core_stations], names=['dest_district_hash'])"
   ]
  },
  {
   "cell_type": "code",
   "execution_count": 8,
   "metadata": {
    "collapsed": true
   },
   "outputs": [],
   "source": [
    "base = pd.DataFrame(index=mindex, columns=mcolumns).fillna(0)"
   ]
  },
  {
   "cell_type": "code",
   "execution_count": 9,
   "metadata": {
    "collapsed": true
   },
   "outputs": [],
   "source": [
    "pt = (base + pd.pivot_table(orderdf_s[mask], index=['time_bucket','start_district_hash'], \n",
    "               columns=['dest_district_hash'], aggfunc=len, \n",
    "               values='order_id', fill_value=0)).fillna(0)"
   ]
  },
  {
   "cell_type": "code",
   "execution_count": 10,
   "metadata": {
    "collapsed": true
   },
   "outputs": [],
   "source": [
    "prior = pd.pivot_table(orderdf_s, index=['start_district_hash'], \n",
    "               columns=['dest_district_hash'], aggfunc=len, \n",
    "               values='order_id', fill_value=0)"
   ]
  },
  {
   "cell_type": "code",
   "execution_count": 11,
   "metadata": {
    "collapsed": true
   },
   "outputs": [],
   "source": [
    "#weight of the prior (based on hours and days of samples)\n",
    "ndays = 20.\n",
    "nhours = 24.\n",
    "w = 1 / (ndays * nhours)\n",
    "\n",
    "# sum both\n",
    "count = pt + w*prior\n",
    "\n",
    "# get posterior\n",
    "posterior = count.div( count.sum(axis=1), axis = 0).fillna(0)"
   ]
  },
  {
   "cell_type": "code",
   "execution_count": 12,
   "metadata": {},
   "outputs": [
    {
     "data": {
      "text/html": [
       "<div>\n",
       "<style>\n",
       "    .dataframe thead tr:only-child th {\n",
       "        text-align: right;\n",
       "    }\n",
       "\n",
       "    .dataframe thead th {\n",
       "        text-align: left;\n",
       "    }\n",
       "\n",
       "    .dataframe tbody tr th {\n",
       "        vertical-align: top;\n",
       "    }\n",
       "</style>\n",
       "<table border=\"1\" class=\"dataframe\">\n",
       "  <thead>\n",
       "    <tr style=\"text-align: right;\">\n",
       "      <th></th>\n",
       "      <th>dest_district_hash</th>\n",
       "      <th>08232402614a9b48895cc3d0aeb0e9f2</th>\n",
       "      <th>08f5b445ec6b29deba62e6fd8b0325a6</th>\n",
       "      <th>0a5fef95db34383403d11cb6af937309</th>\n",
       "      <th>1afd7afbc81ecc1b13886a569d869e8a</th>\n",
       "      <th>1c60154546102e6525f68cb4f31e0657</th>\n",
       "      <th>1cbfbdd079ef93e74405c53fcfff8567</th>\n",
       "      <th>1ecbb52d73c522f184a6fc53128b1ea1</th>\n",
       "      <th>2301bc920194c95cf0c7486e5675243c</th>\n",
       "      <th>2350be163432e42270d2670cb3c02f80</th>\n",
       "      <th>2407d482f0ffa22a947068f2551fe62c</th>\n",
       "      <th>...</th>\n",
       "      <th>d4ec2125aff74eded207d2d915ef682f</th>\n",
       "      <th>d524868ce69cb9db10fc5af177fb9423</th>\n",
       "      <th>d5cb17978de290c56e84c9cf97e63186</th>\n",
       "      <th>dd8d3b9665536d6e05b29c2648c0e69a</th>\n",
       "      <th>de092beab9305613aca8f79d7d7224e7</th>\n",
       "      <th>f2c8c4bb99e6377d21de71275afd6cd2</th>\n",
       "      <th>f47f35242ed40655814bc086d7514046</th>\n",
       "      <th>f9280c5dab6910ed44e518248048b9fe</th>\n",
       "      <th>fc34648599753c9e74ab238e9a4a07ad</th>\n",
       "      <th>fff4e8465d1e12621bc361276b6217cf</th>\n",
       "    </tr>\n",
       "    <tr>\n",
       "      <th>time_bucket</th>\n",
       "      <th>start_district_hash</th>\n",
       "      <th></th>\n",
       "      <th></th>\n",
       "      <th></th>\n",
       "      <th></th>\n",
       "      <th></th>\n",
       "      <th></th>\n",
       "      <th></th>\n",
       "      <th></th>\n",
       "      <th></th>\n",
       "      <th></th>\n",
       "      <th></th>\n",
       "      <th></th>\n",
       "      <th></th>\n",
       "      <th></th>\n",
       "      <th></th>\n",
       "      <th></th>\n",
       "      <th></th>\n",
       "      <th></th>\n",
       "      <th></th>\n",
       "      <th></th>\n",
       "      <th></th>\n",
       "    </tr>\n",
       "  </thead>\n",
       "  <tbody>\n",
       "    <tr>\n",
       "      <th rowspan=\"5\" valign=\"top\">2016-01-20</th>\n",
       "      <th>08232402614a9b48895cc3d0aeb0e9f2</th>\n",
       "      <td>0.123467</td>\n",
       "      <td>0.000000</td>\n",
       "      <td>0.000000</td>\n",
       "      <td>0.001635</td>\n",
       "      <td>0.000000</td>\n",
       "      <td>0.000818</td>\n",
       "      <td>0.000000</td>\n",
       "      <td>0.004906</td>\n",
       "      <td>0.013900</td>\n",
       "      <td>0.001635</td>\n",
       "      <td>...</td>\n",
       "      <td>0.048651</td>\n",
       "      <td>0.025348</td>\n",
       "      <td>0.000000</td>\n",
       "      <td>0.000409</td>\n",
       "      <td>0.035568</td>\n",
       "      <td>0.000000</td>\n",
       "      <td>0.002862</td>\n",
       "      <td>0.000000</td>\n",
       "      <td>0.012265</td>\n",
       "      <td>0.001226</td>\n",
       "    </tr>\n",
       "    <tr>\n",
       "      <th>08f5b445ec6b29deba62e6fd8b0325a6</th>\n",
       "      <td>0.000000</td>\n",
       "      <td>0.042336</td>\n",
       "      <td>0.000000</td>\n",
       "      <td>0.090235</td>\n",
       "      <td>0.000000</td>\n",
       "      <td>0.000618</td>\n",
       "      <td>0.000000</td>\n",
       "      <td>0.000000</td>\n",
       "      <td>0.000000</td>\n",
       "      <td>0.052225</td>\n",
       "      <td>...</td>\n",
       "      <td>0.026885</td>\n",
       "      <td>0.000000</td>\n",
       "      <td>0.000000</td>\n",
       "      <td>0.007417</td>\n",
       "      <td>0.000000</td>\n",
       "      <td>0.000000</td>\n",
       "      <td>0.000000</td>\n",
       "      <td>0.000927</td>\n",
       "      <td>0.000000</td>\n",
       "      <td>0.000000</td>\n",
       "    </tr>\n",
       "    <tr>\n",
       "      <th>0a5fef95db34383403d11cb6af937309</th>\n",
       "      <td>0.000000</td>\n",
       "      <td>0.000000</td>\n",
       "      <td>0.548872</td>\n",
       "      <td>0.000000</td>\n",
       "      <td>0.000000</td>\n",
       "      <td>0.007519</td>\n",
       "      <td>0.000000</td>\n",
       "      <td>0.000000</td>\n",
       "      <td>0.000000</td>\n",
       "      <td>0.000000</td>\n",
       "      <td>...</td>\n",
       "      <td>0.015038</td>\n",
       "      <td>0.000000</td>\n",
       "      <td>0.000000</td>\n",
       "      <td>0.090226</td>\n",
       "      <td>0.007519</td>\n",
       "      <td>0.000000</td>\n",
       "      <td>0.000000</td>\n",
       "      <td>0.000000</td>\n",
       "      <td>0.000000</td>\n",
       "      <td>0.000000</td>\n",
       "    </tr>\n",
       "    <tr>\n",
       "      <th>1afd7afbc81ecc1b13886a569d869e8a</th>\n",
       "      <td>0.000038</td>\n",
       "      <td>0.001509</td>\n",
       "      <td>0.000023</td>\n",
       "      <td>0.332601</td>\n",
       "      <td>0.000034</td>\n",
       "      <td>0.000625</td>\n",
       "      <td>0.000015</td>\n",
       "      <td>0.000079</td>\n",
       "      <td>0.000132</td>\n",
       "      <td>0.207689</td>\n",
       "      <td>...</td>\n",
       "      <td>0.070296</td>\n",
       "      <td>0.000015</td>\n",
       "      <td>0.000151</td>\n",
       "      <td>0.001942</td>\n",
       "      <td>0.000004</td>\n",
       "      <td>0.000026</td>\n",
       "      <td>0.000241</td>\n",
       "      <td>0.006696</td>\n",
       "      <td>0.000094</td>\n",
       "      <td>0.000004</td>\n",
       "    </tr>\n",
       "    <tr>\n",
       "      <th>1c60154546102e6525f68cb4f31e0657</th>\n",
       "      <td>0.000000</td>\n",
       "      <td>0.000000</td>\n",
       "      <td>0.000087</td>\n",
       "      <td>0.000346</td>\n",
       "      <td>0.022684</td>\n",
       "      <td>0.000087</td>\n",
       "      <td>0.000000</td>\n",
       "      <td>0.000693</td>\n",
       "      <td>0.000433</td>\n",
       "      <td>0.000519</td>\n",
       "      <td>...</td>\n",
       "      <td>0.007879</td>\n",
       "      <td>0.000000</td>\n",
       "      <td>0.000000</td>\n",
       "      <td>0.001645</td>\n",
       "      <td>0.000000</td>\n",
       "      <td>0.000000</td>\n",
       "      <td>0.000087</td>\n",
       "      <td>0.000000</td>\n",
       "      <td>0.000952</td>\n",
       "      <td>0.000000</td>\n",
       "    </tr>\n",
       "  </tbody>\n",
       "</table>\n",
       "<p>5 rows × 66 columns</p>\n",
       "</div>"
      ],
      "text/plain": [
       "dest_district_hash                            08232402614a9b48895cc3d0aeb0e9f2  \\\n",
       "time_bucket start_district_hash                                                  \n",
       "2016-01-20  08232402614a9b48895cc3d0aeb0e9f2                          0.123467   \n",
       "            08f5b445ec6b29deba62e6fd8b0325a6                          0.000000   \n",
       "            0a5fef95db34383403d11cb6af937309                          0.000000   \n",
       "            1afd7afbc81ecc1b13886a569d869e8a                          0.000038   \n",
       "            1c60154546102e6525f68cb4f31e0657                          0.000000   \n",
       "\n",
       "dest_district_hash                            08f5b445ec6b29deba62e6fd8b0325a6  \\\n",
       "time_bucket start_district_hash                                                  \n",
       "2016-01-20  08232402614a9b48895cc3d0aeb0e9f2                          0.000000   \n",
       "            08f5b445ec6b29deba62e6fd8b0325a6                          0.042336   \n",
       "            0a5fef95db34383403d11cb6af937309                          0.000000   \n",
       "            1afd7afbc81ecc1b13886a569d869e8a                          0.001509   \n",
       "            1c60154546102e6525f68cb4f31e0657                          0.000000   \n",
       "\n",
       "dest_district_hash                            0a5fef95db34383403d11cb6af937309  \\\n",
       "time_bucket start_district_hash                                                  \n",
       "2016-01-20  08232402614a9b48895cc3d0aeb0e9f2                          0.000000   \n",
       "            08f5b445ec6b29deba62e6fd8b0325a6                          0.000000   \n",
       "            0a5fef95db34383403d11cb6af937309                          0.548872   \n",
       "            1afd7afbc81ecc1b13886a569d869e8a                          0.000023   \n",
       "            1c60154546102e6525f68cb4f31e0657                          0.000087   \n",
       "\n",
       "dest_district_hash                            1afd7afbc81ecc1b13886a569d869e8a  \\\n",
       "time_bucket start_district_hash                                                  \n",
       "2016-01-20  08232402614a9b48895cc3d0aeb0e9f2                          0.001635   \n",
       "            08f5b445ec6b29deba62e6fd8b0325a6                          0.090235   \n",
       "            0a5fef95db34383403d11cb6af937309                          0.000000   \n",
       "            1afd7afbc81ecc1b13886a569d869e8a                          0.332601   \n",
       "            1c60154546102e6525f68cb4f31e0657                          0.000346   \n",
       "\n",
       "dest_district_hash                            1c60154546102e6525f68cb4f31e0657  \\\n",
       "time_bucket start_district_hash                                                  \n",
       "2016-01-20  08232402614a9b48895cc3d0aeb0e9f2                          0.000000   \n",
       "            08f5b445ec6b29deba62e6fd8b0325a6                          0.000000   \n",
       "            0a5fef95db34383403d11cb6af937309                          0.000000   \n",
       "            1afd7afbc81ecc1b13886a569d869e8a                          0.000034   \n",
       "            1c60154546102e6525f68cb4f31e0657                          0.022684   \n",
       "\n",
       "dest_district_hash                            1cbfbdd079ef93e74405c53fcfff8567  \\\n",
       "time_bucket start_district_hash                                                  \n",
       "2016-01-20  08232402614a9b48895cc3d0aeb0e9f2                          0.000818   \n",
       "            08f5b445ec6b29deba62e6fd8b0325a6                          0.000618   \n",
       "            0a5fef95db34383403d11cb6af937309                          0.007519   \n",
       "            1afd7afbc81ecc1b13886a569d869e8a                          0.000625   \n",
       "            1c60154546102e6525f68cb4f31e0657                          0.000087   \n",
       "\n",
       "dest_district_hash                            1ecbb52d73c522f184a6fc53128b1ea1  \\\n",
       "time_bucket start_district_hash                                                  \n",
       "2016-01-20  08232402614a9b48895cc3d0aeb0e9f2                          0.000000   \n",
       "            08f5b445ec6b29deba62e6fd8b0325a6                          0.000000   \n",
       "            0a5fef95db34383403d11cb6af937309                          0.000000   \n",
       "            1afd7afbc81ecc1b13886a569d869e8a                          0.000015   \n",
       "            1c60154546102e6525f68cb4f31e0657                          0.000000   \n",
       "\n",
       "dest_district_hash                            2301bc920194c95cf0c7486e5675243c  \\\n",
       "time_bucket start_district_hash                                                  \n",
       "2016-01-20  08232402614a9b48895cc3d0aeb0e9f2                          0.004906   \n",
       "            08f5b445ec6b29deba62e6fd8b0325a6                          0.000000   \n",
       "            0a5fef95db34383403d11cb6af937309                          0.000000   \n",
       "            1afd7afbc81ecc1b13886a569d869e8a                          0.000079   \n",
       "            1c60154546102e6525f68cb4f31e0657                          0.000693   \n",
       "\n",
       "dest_district_hash                            2350be163432e42270d2670cb3c02f80  \\\n",
       "time_bucket start_district_hash                                                  \n",
       "2016-01-20  08232402614a9b48895cc3d0aeb0e9f2                          0.013900   \n",
       "            08f5b445ec6b29deba62e6fd8b0325a6                          0.000000   \n",
       "            0a5fef95db34383403d11cb6af937309                          0.000000   \n",
       "            1afd7afbc81ecc1b13886a569d869e8a                          0.000132   \n",
       "            1c60154546102e6525f68cb4f31e0657                          0.000433   \n",
       "\n",
       "dest_district_hash                            2407d482f0ffa22a947068f2551fe62c  \\\n",
       "time_bucket start_district_hash                                                  \n",
       "2016-01-20  08232402614a9b48895cc3d0aeb0e9f2                          0.001635   \n",
       "            08f5b445ec6b29deba62e6fd8b0325a6                          0.052225   \n",
       "            0a5fef95db34383403d11cb6af937309                          0.000000   \n",
       "            1afd7afbc81ecc1b13886a569d869e8a                          0.207689   \n",
       "            1c60154546102e6525f68cb4f31e0657                          0.000519   \n",
       "\n",
       "dest_district_hash                                          ...                 \\\n",
       "time_bucket start_district_hash                             ...                  \n",
       "2016-01-20  08232402614a9b48895cc3d0aeb0e9f2                ...                  \n",
       "            08f5b445ec6b29deba62e6fd8b0325a6                ...                  \n",
       "            0a5fef95db34383403d11cb6af937309                ...                  \n",
       "            1afd7afbc81ecc1b13886a569d869e8a                ...                  \n",
       "            1c60154546102e6525f68cb4f31e0657                ...                  \n",
       "\n",
       "dest_district_hash                            d4ec2125aff74eded207d2d915ef682f  \\\n",
       "time_bucket start_district_hash                                                  \n",
       "2016-01-20  08232402614a9b48895cc3d0aeb0e9f2                          0.048651   \n",
       "            08f5b445ec6b29deba62e6fd8b0325a6                          0.026885   \n",
       "            0a5fef95db34383403d11cb6af937309                          0.015038   \n",
       "            1afd7afbc81ecc1b13886a569d869e8a                          0.070296   \n",
       "            1c60154546102e6525f68cb4f31e0657                          0.007879   \n",
       "\n",
       "dest_district_hash                            d524868ce69cb9db10fc5af177fb9423  \\\n",
       "time_bucket start_district_hash                                                  \n",
       "2016-01-20  08232402614a9b48895cc3d0aeb0e9f2                          0.025348   \n",
       "            08f5b445ec6b29deba62e6fd8b0325a6                          0.000000   \n",
       "            0a5fef95db34383403d11cb6af937309                          0.000000   \n",
       "            1afd7afbc81ecc1b13886a569d869e8a                          0.000015   \n",
       "            1c60154546102e6525f68cb4f31e0657                          0.000000   \n",
       "\n",
       "dest_district_hash                            d5cb17978de290c56e84c9cf97e63186  \\\n",
       "time_bucket start_district_hash                                                  \n",
       "2016-01-20  08232402614a9b48895cc3d0aeb0e9f2                          0.000000   \n",
       "            08f5b445ec6b29deba62e6fd8b0325a6                          0.000000   \n",
       "            0a5fef95db34383403d11cb6af937309                          0.000000   \n",
       "            1afd7afbc81ecc1b13886a569d869e8a                          0.000151   \n",
       "            1c60154546102e6525f68cb4f31e0657                          0.000000   \n",
       "\n",
       "dest_district_hash                            dd8d3b9665536d6e05b29c2648c0e69a  \\\n",
       "time_bucket start_district_hash                                                  \n",
       "2016-01-20  08232402614a9b48895cc3d0aeb0e9f2                          0.000409   \n",
       "            08f5b445ec6b29deba62e6fd8b0325a6                          0.007417   \n",
       "            0a5fef95db34383403d11cb6af937309                          0.090226   \n",
       "            1afd7afbc81ecc1b13886a569d869e8a                          0.001942   \n",
       "            1c60154546102e6525f68cb4f31e0657                          0.001645   \n",
       "\n",
       "dest_district_hash                            de092beab9305613aca8f79d7d7224e7  \\\n",
       "time_bucket start_district_hash                                                  \n",
       "2016-01-20  08232402614a9b48895cc3d0aeb0e9f2                          0.035568   \n",
       "            08f5b445ec6b29deba62e6fd8b0325a6                          0.000000   \n",
       "            0a5fef95db34383403d11cb6af937309                          0.007519   \n",
       "            1afd7afbc81ecc1b13886a569d869e8a                          0.000004   \n",
       "            1c60154546102e6525f68cb4f31e0657                          0.000000   \n",
       "\n",
       "dest_district_hash                            f2c8c4bb99e6377d21de71275afd6cd2  \\\n",
       "time_bucket start_district_hash                                                  \n",
       "2016-01-20  08232402614a9b48895cc3d0aeb0e9f2                          0.000000   \n",
       "            08f5b445ec6b29deba62e6fd8b0325a6                          0.000000   \n",
       "            0a5fef95db34383403d11cb6af937309                          0.000000   \n",
       "            1afd7afbc81ecc1b13886a569d869e8a                          0.000026   \n",
       "            1c60154546102e6525f68cb4f31e0657                          0.000000   \n",
       "\n",
       "dest_district_hash                            f47f35242ed40655814bc086d7514046  \\\n",
       "time_bucket start_district_hash                                                  \n",
       "2016-01-20  08232402614a9b48895cc3d0aeb0e9f2                          0.002862   \n",
       "            08f5b445ec6b29deba62e6fd8b0325a6                          0.000000   \n",
       "            0a5fef95db34383403d11cb6af937309                          0.000000   \n",
       "            1afd7afbc81ecc1b13886a569d869e8a                          0.000241   \n",
       "            1c60154546102e6525f68cb4f31e0657                          0.000087   \n",
       "\n",
       "dest_district_hash                            f9280c5dab6910ed44e518248048b9fe  \\\n",
       "time_bucket start_district_hash                                                  \n",
       "2016-01-20  08232402614a9b48895cc3d0aeb0e9f2                          0.000000   \n",
       "            08f5b445ec6b29deba62e6fd8b0325a6                          0.000927   \n",
       "            0a5fef95db34383403d11cb6af937309                          0.000000   \n",
       "            1afd7afbc81ecc1b13886a569d869e8a                          0.006696   \n",
       "            1c60154546102e6525f68cb4f31e0657                          0.000000   \n",
       "\n",
       "dest_district_hash                            fc34648599753c9e74ab238e9a4a07ad  \\\n",
       "time_bucket start_district_hash                                                  \n",
       "2016-01-20  08232402614a9b48895cc3d0aeb0e9f2                          0.012265   \n",
       "            08f5b445ec6b29deba62e6fd8b0325a6                          0.000000   \n",
       "            0a5fef95db34383403d11cb6af937309                          0.000000   \n",
       "            1afd7afbc81ecc1b13886a569d869e8a                          0.000094   \n",
       "            1c60154546102e6525f68cb4f31e0657                          0.000952   \n",
       "\n",
       "dest_district_hash                            fff4e8465d1e12621bc361276b6217cf  \n",
       "time_bucket start_district_hash                                                 \n",
       "2016-01-20  08232402614a9b48895cc3d0aeb0e9f2                          0.001226  \n",
       "            08f5b445ec6b29deba62e6fd8b0325a6                          0.000000  \n",
       "            0a5fef95db34383403d11cb6af937309                          0.000000  \n",
       "            1afd7afbc81ecc1b13886a569d869e8a                          0.000004  \n",
       "            1c60154546102e6525f68cb4f31e0657                          0.000000  \n",
       "\n",
       "[5 rows x 66 columns]"
      ]
     },
     "execution_count": 12,
     "metadata": {},
     "output_type": "execute_result"
    }
   ],
   "source": [
    "posterior.head()"
   ]
  },
  {
   "cell_type": "code",
   "execution_count": 465,
   "metadata": {
    "collapsed": true
   },
   "outputs": [],
   "source": [
    "Y = np.load('ignored_assets/Y.npy')\n",
    "Y_total = np.sum(Y,axis=1)\n",
    "num = Y.shape[0]"
   ]
  },
  {
   "cell_type": "code",
   "execution_count": 304,
   "metadata": {
    "collapsed": true
   },
   "outputs": [],
   "source": [
    "start2 = pd.to_datetime('2016-01-21 00:00:00')\n",
    "end2 = pd.to_datetime('2016-01-22 00:00:00')\n",
    "mask2 = (orderdf_s['time_bucket'] >= start2) & (orderdf_s['time_bucket'] < end2)"
   ]
  },
  {
   "cell_type": "code",
   "execution_count": 305,
   "metadata": {
    "collapsed": true
   },
   "outputs": [],
   "source": [
    "ptable = pd.pivot_table(orderdf_s[mask2], index='time_bucket', \n",
    "               columns=['start_district_hash'], aggfunc=len, \n",
    "               values='order_id', fill_value=0).fillna(0)"
   ]
  },
  {
   "cell_type": "code",
   "execution_count": 496,
   "metadata": {},
   "outputs": [
    {
     "data": {
      "text/plain": [
       "[<matplotlib.lines.Line2D at 0x11f9a07d0>]"
      ]
     },
     "execution_count": 496,
     "metadata": {},
     "output_type": "execute_result"
    },
    {
     "data": {
      "image/png": "[encoded data removed]",
      "text/plain": [
       "<matplotlib.figure.Figure at 0x11f9a0750>"
      ]
     },
     "metadata": {},
     "output_type": "display_data"
    }
   ],
   "source": [
    "order = Y[-288:].sum(axis=0).argsort()\n",
    "cols = ptable.as_matrix().sum(axis=0).argsort()\n",
    "plt.plot(Y[-288:].sum(axis=0)[order])\n",
    "plt.plot(ptable.as_matrix().sum(axis=0)[cols])"
   ]
  },
  {
   "cell_type": "code",
   "execution_count": 497,
   "metadata": {},
   "outputs": [
    {
     "data": {
      "text/plain": [
       "array([ 2, 58, 44, 19,  0, 37,  1, 33, 16, 60, 27, 35, 22, 34, 57, 32, 54,\n",
       "       65, 21,  4, 39, 52, 29, 45, 30,  8, 50, 15, 51, 25,  6, 11, 63, 23,\n",
       "        7, 49,  5, 20, 62, 55, 24, 61, 17, 59, 48, 38, 14, 26, 47, 43, 53,\n",
       "       13, 64, 12, 10, 31,  3, 41, 42, 46, 40, 28,  9, 36, 18, 56])"
      ]
     },
     "execution_count": 497,
     "metadata": {},
     "output_type": "execute_result"
    }
   ],
   "source": [
    "cols"
   ]
  },
  {
   "cell_type": "code",
   "execution_count": 498,
   "metadata": {},
   "outputs": [
    {
     "data": {
      "text/plain": [
       "array([60, 41, 10, 48, 18, 36, 58, 63, 44, 12, 43, 55, 37, 54,  1, 31, 23,\n",
       "       25, 49, 57, 53, 45, 64, 51, 46, 47, 52, 62, 40, 11, 34, 17, 29, 20,\n",
       "       42, 39, 59, 33, 22, 24, 32, 50,  6,  5, 21, 56, 27, 61, 15,  4, 65,\n",
       "        7, 38, 28,  8, 19, 35, 16, 14,  3,  9,  2,  0, 26, 13, 30])"
      ]
     },
     "execution_count": 498,
     "metadata": {},
     "output_type": "execute_result"
    }
   ],
   "source": [
    "order.argsort()"
   ]
  },
  {
   "cell_type": "code",
   "execution_count": 499,
   "metadata": {},
   "outputs": [
    {
     "data": {
      "text/plain": [
       "array([62, 14, 61, 59, 49, 43, 42, 51, 54, 60,  2, 29,  9, 64, 58, 48, 57,\n",
       "       31,  4, 55, 33, 44, 38, 16, 39, 17, 63, 46, 53, 32, 65, 15, 40, 37,\n",
       "       30, 56,  5, 12, 52, 35, 28,  1, 34, 10,  8, 21, 24, 25,  3, 18, 41,\n",
       "       23, 26, 20, 13, 11, 45, 19,  6, 36,  0, 47, 27,  7, 22, 50])"
      ]
     },
     "execution_count": 499,
     "metadata": {},
     "output_type": "execute_result"
    }
   ],
   "source": [
    "order"
   ]
  },
  {
   "cell_type": "code",
   "execution_count": 500,
   "metadata": {
    "collapsed": true
   },
   "outputs": [],
   "source": [
    "sorted_cols = ptable.columns[cols]\n",
    "\n",
    "named_cols = sorted_cols[order.argsort()]"
   ]
  },
  {
   "cell_type": "code",
   "execution_count": 501,
   "metadata": {
    "collapsed": true
   },
   "outputs": [],
   "source": [
    "lastDayPrediction = pd.DataFrame(trainPredict[-288:].clip(min=0).round(), \n",
    "                                 columns = named_cols,\n",
    "                                 index = ptable.index - pd.Timedelta('1 day')\n",
    "                                )"
   ]
  },
  {
   "cell_type": "code",
   "execution_count": 502,
   "metadata": {},
   "outputs": [
    {
     "data": {
      "text/html": [
       "<div>\n",
       "<style>\n",
       "    .dataframe thead tr:only-child th {\n",
       "        text-align: right;\n",
       "    }\n",
       "\n",
       "    .dataframe thead th {\n",
       "        text-align: left;\n",
       "    }\n",
       "\n",
       "    .dataframe tbody tr th {\n",
       "        vertical-align: top;\n",
       "    }\n",
       "</style>\n",
       "<table border=\"1\" class=\"dataframe\">\n",
       "  <thead>\n",
       "    <tr style=\"text-align: right;\">\n",
       "      <th>start_district_hash</th>\n",
       "      <th>90c5a34f06ac86aee0fd70e2adce7d8a</th>\n",
       "      <th>f2c8c4bb99e6377d21de71275afd6cd2</th>\n",
       "      <th>58c7a4888306d8ff3a641d1c0feccbe3</th>\n",
       "      <th>b26a240205c852804ff8758628c0a86a</th>\n",
       "      <th>4b9e4cf2fbdc8281b8a1f9f12b80ce4d</th>\n",
       "      <th>1cbfbdd079ef93e74405c53fcfff8567</th>\n",
       "      <th>929ec6c160e6f52c20a4217c7978f681</th>\n",
       "      <th>82cc4851f9e4faa4e54309f8bb73fd7c</th>\n",
       "      <th>b702e920dcd2765e624dc1ce3a770512</th>\n",
       "      <th>4f4041f7db0c7f69892d9b74c1a7efa1</th>\n",
       "      <th>...</th>\n",
       "      <th>ba32abfc048219e933bee869741da911</th>\n",
       "      <th>cb6041cc08444746caf6039d8b9e43cb</th>\n",
       "      <th>d524868ce69cb9db10fc5af177fb9423</th>\n",
       "      <th>49ac89aa860c27e26c0836cb8dab2df2</th>\n",
       "      <th>de092beab9305613aca8f79d7d7224e7</th>\n",
       "      <th>a735449c5c09df639c35a7d61fad3ee5</th>\n",
       "      <th>0a5fef95db34383403d11cb6af937309</th>\n",
       "      <th>bf44d327f0232325c6d5280926d7b37d</th>\n",
       "      <th>825a21aa308dea206adb49c4b77c7805</th>\n",
       "      <th>1ecbb52d73c522f184a6fc53128b1ea1</th>\n",
       "    </tr>\n",
       "    <tr>\n",
       "      <th>time_bucket</th>\n",
       "      <th></th>\n",
       "      <th></th>\n",
       "      <th></th>\n",
       "      <th></th>\n",
       "      <th></th>\n",
       "      <th></th>\n",
       "      <th></th>\n",
       "      <th></th>\n",
       "      <th></th>\n",
       "      <th></th>\n",
       "      <th></th>\n",
       "      <th></th>\n",
       "      <th></th>\n",
       "      <th></th>\n",
       "      <th></th>\n",
       "      <th></th>\n",
       "      <th></th>\n",
       "      <th></th>\n",
       "      <th></th>\n",
       "      <th></th>\n",
       "      <th></th>\n",
       "    </tr>\n",
       "  </thead>\n",
       "  <tbody>\n",
       "    <tr>\n",
       "      <th>2016-01-20 00:00:00</th>\n",
       "      <td>28.0</td>\n",
       "      <td>2.0</td>\n",
       "      <td>0.0</td>\n",
       "      <td>7.0</td>\n",
       "      <td>0.0</td>\n",
       "      <td>1.0</td>\n",
       "      <td>24.0</td>\n",
       "      <td>35.0</td>\n",
       "      <td>5.0</td>\n",
       "      <td>0.0</td>\n",
       "      <td>...</td>\n",
       "      <td>1.0</td>\n",
       "      <td>0.0</td>\n",
       "      <td>0.0</td>\n",
       "      <td>0.0</td>\n",
       "      <td>0.0</td>\n",
       "      <td>0.0</td>\n",
       "      <td>0.0</td>\n",
       "      <td>1.0</td>\n",
       "      <td>0.0</td>\n",
       "      <td>1.0</td>\n",
       "    </tr>\n",
       "    <tr>\n",
       "      <th>2016-01-20 00:05:00</th>\n",
       "      <td>27.0</td>\n",
       "      <td>2.0</td>\n",
       "      <td>0.0</td>\n",
       "      <td>7.0</td>\n",
       "      <td>0.0</td>\n",
       "      <td>1.0</td>\n",
       "      <td>21.0</td>\n",
       "      <td>33.0</td>\n",
       "      <td>4.0</td>\n",
       "      <td>0.0</td>\n",
       "      <td>...</td>\n",
       "      <td>1.0</td>\n",
       "      <td>0.0</td>\n",
       "      <td>0.0</td>\n",
       "      <td>0.0</td>\n",
       "      <td>0.0</td>\n",
       "      <td>0.0</td>\n",
       "      <td>0.0</td>\n",
       "      <td>1.0</td>\n",
       "      <td>0.0</td>\n",
       "      <td>1.0</td>\n",
       "    </tr>\n",
       "    <tr>\n",
       "      <th>2016-01-20 00:10:00</th>\n",
       "      <td>24.0</td>\n",
       "      <td>2.0</td>\n",
       "      <td>0.0</td>\n",
       "      <td>6.0</td>\n",
       "      <td>0.0</td>\n",
       "      <td>1.0</td>\n",
       "      <td>23.0</td>\n",
       "      <td>32.0</td>\n",
       "      <td>4.0</td>\n",
       "      <td>0.0</td>\n",
       "      <td>...</td>\n",
       "      <td>1.0</td>\n",
       "      <td>0.0</td>\n",
       "      <td>0.0</td>\n",
       "      <td>0.0</td>\n",
       "      <td>0.0</td>\n",
       "      <td>0.0</td>\n",
       "      <td>0.0</td>\n",
       "      <td>1.0</td>\n",
       "      <td>0.0</td>\n",
       "      <td>1.0</td>\n",
       "    </tr>\n",
       "    <tr>\n",
       "      <th>2016-01-20 00:15:00</th>\n",
       "      <td>23.0</td>\n",
       "      <td>1.0</td>\n",
       "      <td>0.0</td>\n",
       "      <td>5.0</td>\n",
       "      <td>0.0</td>\n",
       "      <td>1.0</td>\n",
       "      <td>21.0</td>\n",
       "      <td>31.0</td>\n",
       "      <td>4.0</td>\n",
       "      <td>0.0</td>\n",
       "      <td>...</td>\n",
       "      <td>1.0</td>\n",
       "      <td>0.0</td>\n",
       "      <td>0.0</td>\n",
       "      <td>0.0</td>\n",
       "      <td>0.0</td>\n",
       "      <td>0.0</td>\n",
       "      <td>0.0</td>\n",
       "      <td>1.0</td>\n",
       "      <td>0.0</td>\n",
       "      <td>1.0</td>\n",
       "    </tr>\n",
       "    <tr>\n",
       "      <th>2016-01-20 00:20:00</th>\n",
       "      <td>21.0</td>\n",
       "      <td>1.0</td>\n",
       "      <td>0.0</td>\n",
       "      <td>5.0</td>\n",
       "      <td>0.0</td>\n",
       "      <td>1.0</td>\n",
       "      <td>19.0</td>\n",
       "      <td>29.0</td>\n",
       "      <td>3.0</td>\n",
       "      <td>0.0</td>\n",
       "      <td>...</td>\n",
       "      <td>1.0</td>\n",
       "      <td>0.0</td>\n",
       "      <td>0.0</td>\n",
       "      <td>0.0</td>\n",
       "      <td>0.0</td>\n",
       "      <td>0.0</td>\n",
       "      <td>0.0</td>\n",
       "      <td>1.0</td>\n",
       "      <td>0.0</td>\n",
       "      <td>1.0</td>\n",
       "    </tr>\n",
       "  </tbody>\n",
       "</table>\n",
       "<p>5 rows × 66 columns</p>\n",
       "</div>"
      ],
      "text/plain": [
       "start_district_hash  90c5a34f06ac86aee0fd70e2adce7d8a  \\\n",
       "time_bucket                                             \n",
       "2016-01-20 00:00:00                              28.0   \n",
       "2016-01-20 00:05:00                              27.0   \n",
       "2016-01-20 00:10:00                              24.0   \n",
       "2016-01-20 00:15:00                              23.0   \n",
       "2016-01-20 00:20:00                              21.0   \n",
       "\n",
       "start_district_hash  f2c8c4bb99e6377d21de71275afd6cd2  \\\n",
       "time_bucket                                             \n",
       "2016-01-20 00:00:00                               2.0   \n",
       "2016-01-20 00:05:00                               2.0   \n",
       "2016-01-20 00:10:00                               2.0   \n",
       "2016-01-20 00:15:00                               1.0   \n",
       "2016-01-20 00:20:00                               1.0   \n",
       "\n",
       "start_district_hash  58c7a4888306d8ff3a641d1c0feccbe3  \\\n",
       "time_bucket                                             \n",
       "2016-01-20 00:00:00                               0.0   \n",
       "2016-01-20 00:05:00                               0.0   \n",
       "2016-01-20 00:10:00                               0.0   \n",
       "2016-01-20 00:15:00                               0.0   \n",
       "2016-01-20 00:20:00                               0.0   \n",
       "\n",
       "start_district_hash  b26a240205c852804ff8758628c0a86a  \\\n",
       "time_bucket                                             \n",
       "2016-01-20 00:00:00                               7.0   \n",
       "2016-01-20 00:05:00                               7.0   \n",
       "2016-01-20 00:10:00                               6.0   \n",
       "2016-01-20 00:15:00                               5.0   \n",
       "2016-01-20 00:20:00                               5.0   \n",
       "\n",
       "start_district_hash  4b9e4cf2fbdc8281b8a1f9f12b80ce4d  \\\n",
       "time_bucket                                             \n",
       "2016-01-20 00:00:00                               0.0   \n",
       "2016-01-20 00:05:00                               0.0   \n",
       "2016-01-20 00:10:00                               0.0   \n",
       "2016-01-20 00:15:00                               0.0   \n",
       "2016-01-20 00:20:00                               0.0   \n",
       "\n",
       "start_district_hash  1cbfbdd079ef93e74405c53fcfff8567  \\\n",
       "time_bucket                                             \n",
       "2016-01-20 00:00:00                               1.0   \n",
       "2016-01-20 00:05:00                               1.0   \n",
       "2016-01-20 00:10:00                               1.0   \n",
       "2016-01-20 00:15:00                               1.0   \n",
       "2016-01-20 00:20:00                               1.0   \n",
       "\n",
       "start_district_hash  929ec6c160e6f52c20a4217c7978f681  \\\n",
       "time_bucket                                             \n",
       "2016-01-20 00:00:00                              24.0   \n",
       "2016-01-20 00:05:00                              21.0   \n",
       "2016-01-20 00:10:00                              23.0   \n",
       "2016-01-20 00:15:00                              21.0   \n",
       "2016-01-20 00:20:00                              19.0   \n",
       "\n",
       "start_district_hash  82cc4851f9e4faa4e54309f8bb73fd7c  \\\n",
       "time_bucket                                             \n",
       "2016-01-20 00:00:00                              35.0   \n",
       "2016-01-20 00:05:00                              33.0   \n",
       "2016-01-20 00:10:00                              32.0   \n",
       "2016-01-20 00:15:00                              31.0   \n",
       "2016-01-20 00:20:00                              29.0   \n",
       "\n",
       "start_district_hash  b702e920dcd2765e624dc1ce3a770512  \\\n",
       "time_bucket                                             \n",
       "2016-01-20 00:00:00                               5.0   \n",
       "2016-01-20 00:05:00                               4.0   \n",
       "2016-01-20 00:10:00                               4.0   \n",
       "2016-01-20 00:15:00                               4.0   \n",
       "2016-01-20 00:20:00                               3.0   \n",
       "\n",
       "start_district_hash  4f4041f7db0c7f69892d9b74c1a7efa1  \\\n",
       "time_bucket                                             \n",
       "2016-01-20 00:00:00                               0.0   \n",
       "2016-01-20 00:05:00                               0.0   \n",
       "2016-01-20 00:10:00                               0.0   \n",
       "2016-01-20 00:15:00                               0.0   \n",
       "2016-01-20 00:20:00                               0.0   \n",
       "\n",
       "start_district_hash                ...                 \\\n",
       "time_bucket                        ...                  \n",
       "2016-01-20 00:00:00                ...                  \n",
       "2016-01-20 00:05:00                ...                  \n",
       "2016-01-20 00:10:00                ...                  \n",
       "2016-01-20 00:15:00                ...                  \n",
       "2016-01-20 00:20:00                ...                  \n",
       "\n",
       "start_district_hash  ba32abfc048219e933bee869741da911  \\\n",
       "time_bucket                                             \n",
       "2016-01-20 00:00:00                               1.0   \n",
       "2016-01-20 00:05:00                               1.0   \n",
       "2016-01-20 00:10:00                               1.0   \n",
       "2016-01-20 00:15:00                               1.0   \n",
       "2016-01-20 00:20:00                               1.0   \n",
       "\n",
       "start_district_hash  cb6041cc08444746caf6039d8b9e43cb  \\\n",
       "time_bucket                                             \n",
       "2016-01-20 00:00:00                               0.0   \n",
       "2016-01-20 00:05:00                               0.0   \n",
       "2016-01-20 00:10:00                               0.0   \n",
       "2016-01-20 00:15:00                               0.0   \n",
       "2016-01-20 00:20:00                               0.0   \n",
       "\n",
       "start_district_hash  d524868ce69cb9db10fc5af177fb9423  \\\n",
       "time_bucket                                             \n",
       "2016-01-20 00:00:00                               0.0   \n",
       "2016-01-20 00:05:00                               0.0   \n",
       "2016-01-20 00:10:00                               0.0   \n",
       "2016-01-20 00:15:00                               0.0   \n",
       "2016-01-20 00:20:00                               0.0   \n",
       "\n",
       "start_district_hash  49ac89aa860c27e26c0836cb8dab2df2  \\\n",
       "time_bucket                                             \n",
       "2016-01-20 00:00:00                               0.0   \n",
       "2016-01-20 00:05:00                               0.0   \n",
       "2016-01-20 00:10:00                               0.0   \n",
       "2016-01-20 00:15:00                               0.0   \n",
       "2016-01-20 00:20:00                               0.0   \n",
       "\n",
       "start_district_hash  de092beab9305613aca8f79d7d7224e7  \\\n",
       "time_bucket                                             \n",
       "2016-01-20 00:00:00                               0.0   \n",
       "2016-01-20 00:05:00                               0.0   \n",
       "2016-01-20 00:10:00                               0.0   \n",
       "2016-01-20 00:15:00                               0.0   \n",
       "2016-01-20 00:20:00                               0.0   \n",
       "\n",
       "start_district_hash  a735449c5c09df639c35a7d61fad3ee5  \\\n",
       "time_bucket                                             \n",
       "2016-01-20 00:00:00                               0.0   \n",
       "2016-01-20 00:05:00                               0.0   \n",
       "2016-01-20 00:10:00                               0.0   \n",
       "2016-01-20 00:15:00                               0.0   \n",
       "2016-01-20 00:20:00                               0.0   \n",
       "\n",
       "start_district_hash  0a5fef95db34383403d11cb6af937309  \\\n",
       "time_bucket                                             \n",
       "2016-01-20 00:00:00                               0.0   \n",
       "2016-01-20 00:05:00                               0.0   \n",
       "2016-01-20 00:10:00                               0.0   \n",
       "2016-01-20 00:15:00                               0.0   \n",
       "2016-01-20 00:20:00                               0.0   \n",
       "\n",
       "start_district_hash  bf44d327f0232325c6d5280926d7b37d  \\\n",
       "time_bucket                                             \n",
       "2016-01-20 00:00:00                               1.0   \n",
       "2016-01-20 00:05:00                               1.0   \n",
       "2016-01-20 00:10:00                               1.0   \n",
       "2016-01-20 00:15:00                               1.0   \n",
       "2016-01-20 00:20:00                               1.0   \n",
       "\n",
       "start_district_hash  825a21aa308dea206adb49c4b77c7805  \\\n",
       "time_bucket                                             \n",
       "2016-01-20 00:00:00                               0.0   \n",
       "2016-01-20 00:05:00                               0.0   \n",
       "2016-01-20 00:10:00                               0.0   \n",
       "2016-01-20 00:15:00                               0.0   \n",
       "2016-01-20 00:20:00                               0.0   \n",
       "\n",
       "start_district_hash  1ecbb52d73c522f184a6fc53128b1ea1  \n",
       "time_bucket                                            \n",
       "2016-01-20 00:00:00                               1.0  \n",
       "2016-01-20 00:05:00                               1.0  \n",
       "2016-01-20 00:10:00                               1.0  \n",
       "2016-01-20 00:15:00                               1.0  \n",
       "2016-01-20 00:20:00                               1.0  \n",
       "\n",
       "[5 rows x 66 columns]"
      ]
     },
     "execution_count": 502,
     "metadata": {},
     "output_type": "execute_result"
    }
   ],
   "source": [
    "lastDayPrediction.head()"
   ]
  },
  {
   "cell_type": "markdown",
   "metadata": {},
   "source": [
    "reshape s.t. MultiIndex match"
   ]
  },
  {
   "cell_type": "code",
   "execution_count": 503,
   "metadata": {
    "collapsed": true
   },
   "outputs": [],
   "source": [
    "ldp_series = lastDayPrediction.stack()"
   ]
  },
  {
   "cell_type": "code",
   "execution_count": 504,
   "metadata": {
    "collapsed": true
   },
   "outputs": [],
   "source": [
    "prediction = posterior.multiply(ldp_series, axis='index').fillna(0).round()"
   ]
  },
  {
   "cell_type": "code",
   "execution_count": 507,
   "metadata": {},
   "outputs": [
    {
     "data": {
      "text/plain": [
       "280294.0"
      ]
     },
     "execution_count": 507,
     "metadata": {},
     "output_type": "execute_result"
    }
   ],
   "source": [
    "ldp_series.sum()"
   ]
  },
  {
   "cell_type": "code",
   "execution_count": 556,
   "metadata": {
    "collapsed": true
   },
   "outputs": [],
   "source": [
    "pt_pred = prediction.sum(axis=1).unstack()"
   ]
  },
  {
   "cell_type": "code",
   "execution_count": 550,
   "metadata": {},
   "outputs": [
    {
     "data": {
      "text/plain": [
       "'d4ec2125aff74eded207d2d915ef682f'"
      ]
     },
     "execution_count": 550,
     "metadata": {},
     "output_type": "execute_result"
    }
   ],
   "source": [
    "lastDayPrediction.sum(axis=0).argmax()"
   ]
  },
  {
   "cell_type": "code",
   "execution_count": 551,
   "metadata": {},
   "outputs": [
    {
     "data": {
      "text/plain": [
       "'d4ec2125aff74eded207d2d915ef682f'"
      ]
     },
     "execution_count": 551,
     "metadata": {},
     "output_type": "execute_result"
    }
   ],
   "source": [
    "ptable.sum(axis=0).argmax()"
   ]
  },
  {
   "cell_type": "code",
   "execution_count": 560,
   "metadata": {},
   "outputs": [
    {
     "data": {
      "text/plain": [
       "<matplotlib.axes._subplots.AxesSubplot at 0x121c8f7d0>"
      ]
     },
     "execution_count": 560,
     "metadata": {},
     "output_type": "execute_result"
    },
    {
     "data": {
      "image/png": "[encoded data removed]",
      "text/plain": [
       "<matplotlib.figure.Figure at 0x122c47d50>"
      ]
     },
     "metadata": {},
     "output_type": "display_data"
    }
   ],
   "source": [
    "realtot = ptable.sum(axis=0)\n",
    "misspred = (realtot - pt_pred.sum(axis=0)).divide(realtot)\n",
    "misspred.plot()"
   ]
  },
  {
   "cell_type": "code",
   "execution_count": 561,
   "metadata": {},
   "outputs": [
    {
     "data": {
      "text/plain": [
       "<matplotlib.collections.PathCollection at 0x123e4a8d0>"
      ]
     },
     "execution_count": 561,
     "metadata": {},
     "output_type": "execute_result"
    },
    {
     "data": {
      "image/png": "[encoded data removed]",
      "text/plain": [
       "<matplotlib.figure.Figure at 0x1238370d0>"
      ]
     },
     "metadata": {},
     "output_type": "display_data"
    }
   ],
   "source": [
    "plt.scatter(realtot,misspred)"
   ]
  },
  {
   "cell_type": "markdown",
   "metadata": {},
   "source": [
    "The prediction is not necessarily good for low demand stations. Which is _ok_"
   ]
  },
  {
   "cell_type": "markdown",
   "metadata": {},
   "source": [
    "# convert to  input files!"
   ]
  },
  {
   "cell_type": "code",
   "execution_count": 562,
   "metadata": {
    "collapsed": true
   },
   "outputs": [],
   "source": [
    "FlowsOut = prediction.sum(axis=1)"
   ]
  },
  {
   "cell_type": "code",
   "execution_count": 563,
   "metadata": {},
   "outputs": [
    {
     "data": {
      "text/plain": [
       "260780.0"
      ]
     },
     "execution_count": 563,
     "metadata": {},
     "output_type": "execute_result"
    }
   ],
   "source": [
    "FlowsOut.sum()"
   ]
  },
  {
   "cell_type": "code",
   "execution_count": 603,
   "metadata": {
    "collapsed": true
   },
   "outputs": [],
   "source": [
    "flowsout = FlowsOut.unstack()[core_stations]"
   ]
  },
  {
   "cell_type": "code",
   "execution_count": 605,
   "metadata": {},
   "outputs": [
    {
     "name": "stdout",
     "output_type": "stream",
     "text": [
      "demand lost due to round-off:  -0.0696197563986\n"
     ]
    }
   ],
   "source": [
    "print 'demand lost due to round-off: ', (FlowsOut.sum() -ldp_series.sum())/ ldp_series.sum()"
   ]
  },
  {
   "cell_type": "code",
   "execution_count": 606,
   "metadata": {
    "collapsed": true
   },
   "outputs": [],
   "source": [
    "nsteps = int(pd.Timedelta('1 day') / stepsize)"
   ]
  },
  {
   "cell_type": "code",
   "execution_count": 607,
   "metadata": {
    "collapsed": true
   },
   "outputs": [],
   "source": [
    "stepsize = pd.Timedelta('5 min')\n",
    "horizon = pd.Timedelta('2 hour')\n",
    "start = pd.to_datetime('2016-01-21 00:00:00')"
   ]
  },
  {
   "cell_type": "markdown",
   "metadata": {},
   "source": [
    "### The difficult one is the flowsin"
   ]
  },
  {
   "cell_type": "code",
   "execution_count": 617,
   "metadata": {},
   "outputs": [
    {
     "name": "stdout",
     "output_type": "stream",
     "text": [
      "True\n"
     ]
    },
    {
     "data": {
      "text/plain": [
       "<matplotlib.image.AxesImage at 0x120bfadd0>"
      ]
     },
     "execution_count": 617,
     "metadata": {},
     "output_type": "execute_result"
    },
    {
     "data": {
      "image/png": "[encoded data removed]",
      "text/plain": [
       "<matplotlib.figure.Figure at 0x11b2dae10>"
      ]
     },
     "metadata": {},
     "output_type": "display_data"
    }
   ],
   "source": [
    "station_locations = pd.read_csv('inferred_locations.csv')\n",
    "D = np.ceil(squareform(pdist(station_locations[['x','y']].as_matrix())) / 5.)\n",
    "np.fill_diagonal(D, 1.)\n",
    "stations = list(station_locations['start_district_hash'])\n",
    "print stations == list(core_stations)\n",
    "plt.imshow(D)"
   ]
  },
  {
   "cell_type": "code",
   "execution_count": 692,
   "metadata": {
    "collapsed": true
   },
   "outputs": [],
   "source": [
    "travel_times = pd.DataFrame(D)\n",
    "travel_times.columns = core_stations\n",
    "travel_times.index = core_stations\n",
    "travel_times = travel_times * pd.Timedelta('5 min')"
   ]
  },
  {
   "cell_type": "code",
   "execution_count": 693,
   "metadata": {
    "collapsed": true
   },
   "outputs": [],
   "source": [
    "a = start + travel_times.loc['08232402614a9b48895cc3d0aeb0e9f2'] - pd.Timedelta('1 day')\n",
    "b = core_stations"
   ]
  },
  {
   "cell_type": "code",
   "execution_count": 697,
   "metadata": {
    "collapsed": true
   },
   "outputs": [],
   "source": [
    "# fuck this, we're doing it slow\n",
    "#begin = start\n",
    "#end = begin + horizon\n",
    "#dts = [begin + j*stepsize for j in range(int(horizon / stepsize))]\n",
    "#mindex = pd.MultiIndex.from_product([dts,core_stations])\n",
    "#base = pd.DataFrame(\n",
    "#        start,\n",
    "#        index=mindex,\n",
    "#        columns = core_stations\n",
    "#    )"
   ]
  },
  {
   "cell_type": "code",
   "execution_count": 723,
   "metadata": {
    "collapsed": true
   },
   "outputs": [],
   "source": [
    "start = pd.to_datetime('2016-01-20 00:00:00')"
   ]
  },
  {
   "cell_type": "code",
   "execution_count": 724,
   "metadata": {
    "collapsed": true
   },
   "outputs": [],
   "source": [
    "# FlowsOut.unstack().loc[start:end - pd.Timedelta('10 hour')]"
   ]
  },
  {
   "cell_type": "code",
   "execution_count": 763,
   "metadata": {},
   "outputs": [
    {
     "data": {
      "text/plain": [
       "Timestamp('2016-01-20 00:00:00')"
      ]
     },
     "execution_count": 763,
     "metadata": {},
     "output_type": "execute_result"
    }
   ],
   "source": [
    "begin"
   ]
  },
  {
   "cell_type": "code",
   "execution_count": 780,
   "metadata": {
    "collapsed": true
   },
   "outputs": [],
   "source": [
    "def estimate_arrival(series):\n",
    "    arrival_time = series['time_bucket'] + travel_times['start_district_hash']['dest_district_hash']\n",
    "    return arrival_time"
   ]
  },
  {
   "cell_type": "code",
   "execution_count": 788,
   "metadata": {
    "collapsed": true
   },
   "outputs": [],
   "source": [
    "test = prediction.T.unstack().reset_index()\n",
    "test = test[test[0] > 0]"
   ]
  },
  {
   "cell_type": "code",
   "execution_count": 802,
   "metadata": {
    "collapsed": true
   },
   "outputs": [],
   "source": [
    "test['arrival_time'] = test['time_bucket'] + travel_times.lookup(test['start_district_hash'], test['dest_district_hash'])"
   ]
  },
  {
   "cell_type": "code",
   "execution_count": 856,
   "metadata": {
    "collapsed": true
   },
   "outputs": [],
   "source": [
    "flowsout = np.zeros((nsteps,), dtype=np.object)\n",
    "flowsin = np.zeros((nsteps,), dtype=np.object)\n",
    "columns = core_stations\n",
    "for i in range(nsteps):\n",
    "    t0 = time.time()\n",
    "    begin = start + i*stepsize\n",
    "    end = begin + horizon\n",
    "    index = [begin + j*stepsize for j in range(int(horizon / stepsize))]\n",
    "    base = pd.DataFrame(\n",
    "        np.zeros((len(index),len(columns)),dtype=np.float64),\n",
    "        index=index,\n",
    "        columns = columns\n",
    "    )\n",
    "    mask = (test['time_bucket'] >  begin) & (test['time_bucket'] <=  end)\n",
    "    \n",
    "    if np.sum(mask) > 0:\n",
    "        flowsout[i] = (base + pd.pivot_table(test[mask], index='time_bucket', \n",
    "               columns=['start_district_hash'], aggfunc=np.sum, \n",
    "               values=0, fill_value=0)).fillna(0).as_matrix()\n",
    "    else:\n",
    "        flowsout[i] = base.fillna(0).as_matrix()\n",
    "    \n",
    "    # ok efficiency\n",
    "    \n",
    "    if np.sum(mask) > 0:\n",
    "        flowsin[i] = (base + pd.pivot_table(test[mask], index='arrival_time', \n",
    "               columns=['dest_district_hash'], aggfunc=np.sum, \n",
    "               values=0, fill_value=0)).fillna(0).as_matrix()\n",
    "    else:\n",
    "        flowsin[i] = base.fillna(0).as_matrix()"
   ]
  },
  {
   "cell_type": "code",
   "execution_count": 859,
   "metadata": {},
   "outputs": [
    {
     "data": {
      "text/plain": [
       "(24, 66)"
      ]
     },
     "execution_count": 859,
     "metadata": {},
     "output_type": "execute_result"
    }
   ],
   "source": [
    "flowsout[-1].shape"
   ]
  },
  {
   "cell_type": "code",
   "execution_count": 860,
   "metadata": {
    "collapsed": true
   },
   "outputs": [],
   "source": [
    "predictions  ={\n",
    "        'FlowsIn': flowsin,\n",
    "        'FlowsOut': flowsout\n",
    "    }"
   ]
  },
  {
   "cell_type": "code",
   "execution_count": 861,
   "metadata": {
    "collapsed": true
   },
   "outputs": [],
   "source": [
    "sio.savemat('lstm_predictions.mat',predictions)"
   ]
  },
  {
   "cell_type": "code",
   "execution_count": 863,
   "metadata": {},
   "outputs": [
    {
     "data": {
      "text/plain": [
       "array([[ 0.,  0.,  0., ...,  0.,  0.,  0.],\n",
       "       [ 0.,  0.,  0., ...,  0.,  0.,  0.],\n",
       "       [ 0.,  0.,  0., ...,  1.,  9.,  0.],\n",
       "       ..., \n",
       "       [ 0.,  0.,  0., ...,  0.,  0.,  0.],\n",
       "       [ 0.,  0.,  0., ...,  0.,  0.,  0.],\n",
       "       [ 0.,  0.,  0., ...,  0.,  0.,  0.]])"
      ]
     },
     "execution_count": 863,
     "metadata": {},
     "output_type": "execute_result"
    }
   ],
   "source": [
    "flowsin[0]"
   ]
  },
  {
   "cell_type": "code",
   "execution_count": 864,
   "metadata": {
    "collapsed": true
   },
   "outputs": [],
   "source": [
    "perfect = sio.loadmat('perfect_predictions.mat')"
   ]
  },
  {
   "cell_type": "code",
   "execution_count": 891,
   "metadata": {},
   "outputs": [
    {
     "data": {
      "text/plain": [
       "1511.0"
      ]
     },
     "execution_count": 891,
     "metadata": {},
     "output_type": "execute_result"
    }
   ],
   "source": [
    "np.abs(perfect['FlowsOut'][0][0].sum() - flowsout[0].sum())"
   ]
  },
  {
   "cell_type": "code",
   "execution_count": null,
   "metadata": {
    "collapsed": true
   },
   "outputs": [],
   "source": [
    "ierrs = []\n",
    "oerrs =[]\n",
    "\n",
    "for i in range(288):\n",
    "    inerr  = (perfect['FlowsOut'][0][i].sum() - flowsout[i].sum()) / perfect['FlowsOut'][0][i].sum()\n",
    "    ouerr = (perfect['FlowsIn'][0][i].sum() - flowsin[i].sum()) / perfect['FlowsIn'][0][i].sum()\n",
    "    ierrs.append(inerr)\n",
    "    oerrs.append(ouerr)"
   ]
  },
  {
   "cell_type": "code",
   "execution_count": null,
   "metadata": {
    "collapsed": true
   },
   "outputs": [],
   "source": [
    "plt.plot(ierrs)\n",
    "plt.plot(oerrs)"
   ]
  },
  {
   "cell_type": "code",
   "execution_count": null,
   "metadata": {
    "collapsed": true
   },
   "outputs": [],
   "source": []
  }
 ],
 "metadata": {
  "kernelspec": {
   "display_name": "Python 2",
   "language": "python",
   "name": "python2"
  },
  "language_info": {
   "codemirror_mode": {
    "name": "ipython",
    "version": 2
   },
   "file_extension": ".py",
   "mimetype": "text/x-python",
   "name": "python",
   "nbconvert_exporter": "python",
   "pygments_lexer": "ipython2",
   "version": "2.7.10"
  }
 },
 "nbformat": 4,
 "nbformat_minor": 2
}
