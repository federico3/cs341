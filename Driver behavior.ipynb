{
 "cells": [
  {
   "cell_type": "code",
   "execution_count": 1,
   "metadata": {
    "collapsed": true
   },
   "outputs": [],
   "source": [
    "import numpy as np\n",
    "import pandas as pd\n",
    "import os\n",
    "import tempfile\n",
    "\n",
    "import matplotlib.pyplot as plt\n",
    "\n",
    "%matplotlib inline"
   ]
  },
  {
   "cell_type": "code",
   "execution_count": 2,
   "metadata": {
    "collapsed": true
   },
   "outputs": [],
   "source": [
    "from os import listdir\n",
    "from os.path import isfile, join\n",
    "path_train = 'ignored_assets/public_data/training_data/order_data'\n",
    "trainfiles = [f for f in listdir(path_train) if isfile(join(path_train, f)) and f != '.DS_Store']\n",
    "\n",
    "path_test1 = 'ignored_assets/public_data/test_set_1/order_data'\n",
    "testfiles1 = [f for f in listdir(path_test1) if isfile(join(path_test1, f)) and f != '.DS_Store']\n",
    "\n",
    "path_test2 = 'ignored_assets/public_data/test_set_2/order_data'\n",
    "testfiles2 = [f for f in listdir(path_test2) if isfile(join(path_test2, f)) and f != '.DS_Store']\n"
   ]
  },
  {
   "cell_type": "code",
   "execution_count": 3,
   "metadata": {
    "collapsed": false
   },
   "outputs": [],
   "source": [
    "orderdf = []\n",
    "for f in trainfiles:\n",
    "    orderdf.append(pd.read_csv(join(path_train, f), delimiter='\\t', header = None))\n",
    "    \n",
    "for f in testfiles1:\n",
    "    orderdf.append(pd.read_csv(join(path_test1, f), delimiter='\\t', header = None))\n",
    "    \n",
    "for f in testfiles2:\n",
    "    orderdf.append(pd.read_csv(join(path_test2, f), delimiter='\\t', header = None))\n",
    "\n",
    "\n"
   ]
  },
  {
   "cell_type": "code",
   "execution_count": 4,
   "metadata": {
    "collapsed": false
   },
   "outputs": [],
   "source": [
    "orderdf = pd.concat(orderdf)"
   ]
  },
  {
   "cell_type": "code",
   "execution_count": 5,
   "metadata": {
    "collapsed": false
   },
   "outputs": [],
   "source": [
    "#Clean up\n",
    "orderdf[6] = pd.to_datetime(orderdf[6])\n",
    "orderdf.columns = ['order_id', 'driver_id', 'passenger_id', 'start_district_hash', 'dest_district_hash', 'price', 'timestamp']\n"
   ]
  },
  {
   "cell_type": "code",
   "execution_count": 7,
   "metadata": {
    "collapsed": false
   },
   "outputs": [
    {
     "data": {
      "text/plain": [
       "array(['dd65fa250fca2833a3a8c16d2cf0457c',\n",
       "       'c077e0297639edcb1df6189e8cda2c3d',\n",
       "       '86dbc1b68de435957c61b5a523854b69', ...,\n",
       "       'd93e74504885e525cf24a64e3b7157dd',\n",
       "       '3f84d9a739831f50c4a629f5d94f7fc2',\n",
       "       '6c01b3c1bd5b7e2c9d7deb5b419a6608'], dtype=object)"
      ]
     },
     "execution_count": 7,
     "metadata": {},
     "output_type": "execute_result"
    }
   ],
   "source": [
    "driver_ids=orderdf['driver_id'].unique()"
   ]
  },
  {
   "cell_type": "code",
   "execution_count": 76,
   "metadata": {
    "collapsed": false
   },
   "outputs": [],
   "source": [
    "def count_empty_trips(driver_hash):\n",
    "    #Copy out driver info\n",
    "    driver_orders=orderdf[orderdf['driver_id']==driver_hash]\n",
    "    driver_orders=driver_orders.sort_values('timestamp')\n",
    "    \n",
    "    #Auxiliary stuff\n",
    "    driver_orders['next_timestamp']=driver_orders['timestamp'].shift(-1)\n",
    "    driver_orders['next_start_district_hash']=driver_orders['start_district_hash'].shift(-1)\n",
    "    break_threshold=pd.Timedelta('1 hour')\n",
    "    \n",
    "    #Did the driver go on break after the ride? Did the driver rebalance?\n",
    "    driver_orders['break']=(driver_orders['next_timestamp']-driver_orders['timestamp'])>break_threshold\n",
    "    driver_orders['emptytrip']=(driver_orders['dest_district_hash']!=driver_orders['next_start_district_hash'])\n",
    "    \n",
    "    if len(driver_orders)>0:\n",
    "        return float(sum(driver_orders['emptytrip'] & ~driver_orders['break']))/float(len(driver_orders))\n",
    "    else:\n",
    "        return np.NaN"
   ]
  },
  {
   "cell_type": "code",
   "execution_count": 79,
   "metadata": {
    "collapsed": false
   },
   "outputs": [
    {
     "data": {
      "text/plain": [
       "0.18796992481203006"
      ]
     },
     "execution_count": 79,
     "metadata": {},
     "output_type": "execute_result"
    }
   ],
   "source": [
    "count_empty_trips(driver_ids[2])"
   ]
  },
  {
   "cell_type": "code",
   "execution_count": 69,
   "metadata": {
    "collapsed": false
   },
   "outputs": [],
   "source": [
    "driver_pd=pd.DataFrame(driver_ids,columns=['driver_id'])"
   ]
  },
  {
   "cell_type": "code",
   "execution_count": null,
   "metadata": {
    "collapsed": false
   },
   "outputs": [],
   "source": [
    "driver_pd['frac_reb']=driver_pd.apply(lambda x: count_empty_trips(x['driver_id']),axis=1)"
   ]
  },
  {
   "cell_type": "code",
   "execution_count": 53,
   "metadata": {
    "collapsed": false
   },
   "outputs": [
    {
     "data": {
      "text/plain": [
       "0.24916943521594684"
      ]
     },
     "execution_count": 53,
     "metadata": {},
     "output_type": "execute_result"
    }
   ],
   "source": []
  },
  {
   "cell_type": "code",
   "execution_count": 70,
   "metadata": {
    "collapsed": true
   },
   "outputs": [
    {
     "data": {
      "text/html": [
       "<div>\n",
       "<table border=\"1\" class=\"dataframe\">\n",
       "  <thead>\n",
       "    <tr style=\"text-align: right;\">\n",
       "      <th></th>\n",
       "      <th>driver_id</th>\n",
       "    </tr>\n",
       "  </thead>\n",
       "  <tbody>\n",
       "    <tr>\n",
       "      <th>0</th>\n",
       "      <td>dd65fa250fca2833a3a8c16d2cf0457c</td>\n",
       "    </tr>\n",
       "    <tr>\n",
       "      <th>1</th>\n",
       "      <td>c077e0297639edcb1df6189e8cda2c3d</td>\n",
       "    </tr>\n",
       "    <tr>\n",
       "      <th>2</th>\n",
       "      <td>86dbc1b68de435957c61b5a523854b69</td>\n",
       "    </tr>\n",
       "    <tr>\n",
       "      <th>3</th>\n",
       "      <td>4fadfa6eeaa694742de036dddf02b0c4</td>\n",
       "    </tr>\n",
       "    <tr>\n",
       "      <th>4</th>\n",
       "      <td>NaN</td>\n",
       "    </tr>\n",
       "    <tr>\n",
       "      <th>5</th>\n",
       "      <td>115ac9b23f00a2e6d8a3041e23469f41</td>\n",
       "    </tr>\n",
       "    <tr>\n",
       "      <th>6</th>\n",
       "      <td>7cb7ccbc192c177b136feca274fb3d07</td>\n",
       "    </tr>\n",
       "    <tr>\n",
       "      <th>7</th>\n",
       "      <td>c586e492c4587c3aa15557a8eb41806d</td>\n",
       "    </tr>\n",
       "    <tr>\n",
       "      <th>8</th>\n",
       "      <td>ea61e970ba415f946b3b35464c74f32a</td>\n",
       "    </tr>\n",
       "    <tr>\n",
       "      <th>9</th>\n",
       "      <td>adabcd23118a35be7cc03c8f60d73e2e</td>\n",
       "    </tr>\n",
       "    <tr>\n",
       "      <th>10</th>\n",
       "      <td>7c630c98ba6679b30014807acc856d28</td>\n",
       "    </tr>\n",
       "    <tr>\n",
       "      <th>11</th>\n",
       "      <td>bdabc7577982eb3f2e6806855a087430</td>\n",
       "    </tr>\n",
       "    <tr>\n",
       "      <th>12</th>\n",
       "      <td>0c9f1b5f77ace5984f6362ee23396fcb</td>\n",
       "    </tr>\n",
       "    <tr>\n",
       "      <th>13</th>\n",
       "      <td>edf08148651dbc5aa3b134cce0471c92</td>\n",
       "    </tr>\n",
       "    <tr>\n",
       "      <th>14</th>\n",
       "      <td>b29185649bd8d9c0fc04e44828b2a589</td>\n",
       "    </tr>\n",
       "    <tr>\n",
       "      <th>15</th>\n",
       "      <td>be681893fd4ced097c0f50848d6dc013</td>\n",
       "    </tr>\n",
       "    <tr>\n",
       "      <th>16</th>\n",
       "      <td>014bdbc2de87e8f7d8f437fd396039ce</td>\n",
       "    </tr>\n",
       "    <tr>\n",
       "      <th>17</th>\n",
       "      <td>2a5fe54cbbcfddddfbbde8ff2501a29e</td>\n",
       "    </tr>\n",
       "    <tr>\n",
       "      <th>18</th>\n",
       "      <td>cf0158eaacea11ee68bc8690bf100786</td>\n",
       "    </tr>\n",
       "    <tr>\n",
       "      <th>19</th>\n",
       "      <td>71f768035905f7c813a9c140800aeca7</td>\n",
       "    </tr>\n",
       "    <tr>\n",
       "      <th>20</th>\n",
       "      <td>d3390baa2aa93d024a20cf1a7ec934c0</td>\n",
       "    </tr>\n",
       "    <tr>\n",
       "      <th>21</th>\n",
       "      <td>cc26812d679c9e55a6bf63eed315e989</td>\n",
       "    </tr>\n",
       "    <tr>\n",
       "      <th>22</th>\n",
       "      <td>f6c760be3cd8521c612657da7788f9dc</td>\n",
       "    </tr>\n",
       "    <tr>\n",
       "      <th>23</th>\n",
       "      <td>f4180be2f53543f14b3d9a8310e30801</td>\n",
       "    </tr>\n",
       "    <tr>\n",
       "      <th>24</th>\n",
       "      <td>657844f16144a8988d43ba59bc73b26a</td>\n",
       "    </tr>\n",
       "    <tr>\n",
       "      <th>25</th>\n",
       "      <td>3936f65c2013f910ca80a8d4fa75615d</td>\n",
       "    </tr>\n",
       "    <tr>\n",
       "      <th>26</th>\n",
       "      <td>c42ee16c9f9ab6897f6d509ad27d0927</td>\n",
       "    </tr>\n",
       "    <tr>\n",
       "      <th>27</th>\n",
       "      <td>21670a48e4954dee4ebbc7540a646b61</td>\n",
       "    </tr>\n",
       "    <tr>\n",
       "      <th>28</th>\n",
       "      <td>2429b0c88dbc5e91fe8898a14009e2de</td>\n",
       "    </tr>\n",
       "    <tr>\n",
       "      <th>29</th>\n",
       "      <td>c60c9db1ab4a3905fd122318051f9627</td>\n",
       "    </tr>\n",
       "    <tr>\n",
       "      <th>...</th>\n",
       "      <td>...</td>\n",
       "    </tr>\n",
       "    <tr>\n",
       "      <th>101084</th>\n",
       "      <td>a5106392c81f32c76a948cd1e948ef99</td>\n",
       "    </tr>\n",
       "    <tr>\n",
       "      <th>101085</th>\n",
       "      <td>fa742c763bc4624b1bd6d2005999863a</td>\n",
       "    </tr>\n",
       "    <tr>\n",
       "      <th>101086</th>\n",
       "      <td>b59de9b9f30c21cb720a2d9a7c45335f</td>\n",
       "    </tr>\n",
       "    <tr>\n",
       "      <th>101087</th>\n",
       "      <td>49dadd8785efbb4484410a1cd9c4cefb</td>\n",
       "    </tr>\n",
       "    <tr>\n",
       "      <th>101088</th>\n",
       "      <td>b14e1f8aacd946b6f20815b40c2146b7</td>\n",
       "    </tr>\n",
       "    <tr>\n",
       "      <th>101089</th>\n",
       "      <td>e772a9107270474dc744c6449383e580</td>\n",
       "    </tr>\n",
       "    <tr>\n",
       "      <th>101090</th>\n",
       "      <td>e995b098d09bc5fd573290f92c49d870</td>\n",
       "    </tr>\n",
       "    <tr>\n",
       "      <th>101091</th>\n",
       "      <td>0d04dd7a96963fe78dac215dfd12cf1a</td>\n",
       "    </tr>\n",
       "    <tr>\n",
       "      <th>101092</th>\n",
       "      <td>8d39cd9de98f0bf9f8c2ccd25441002d</td>\n",
       "    </tr>\n",
       "    <tr>\n",
       "      <th>101093</th>\n",
       "      <td>f8ba6c7047d603e9062163f52a5cd0c7</td>\n",
       "    </tr>\n",
       "    <tr>\n",
       "      <th>101094</th>\n",
       "      <td>d5295bb881e465285c2464f7fb8ba40e</td>\n",
       "    </tr>\n",
       "    <tr>\n",
       "      <th>101095</th>\n",
       "      <td>c3a0bc75749ec2a5b374b310945c9876</td>\n",
       "    </tr>\n",
       "    <tr>\n",
       "      <th>101096</th>\n",
       "      <td>2aa9890ef3e126d60766cec707f55546</td>\n",
       "    </tr>\n",
       "    <tr>\n",
       "      <th>101097</th>\n",
       "      <td>791ee5fd1e2a46b0c0d8159e26f880d7</td>\n",
       "    </tr>\n",
       "    <tr>\n",
       "      <th>101098</th>\n",
       "      <td>ca78045de91f132edc0113b7f80d0ce0</td>\n",
       "    </tr>\n",
       "    <tr>\n",
       "      <th>101099</th>\n",
       "      <td>e629abd6620782db3e31e92ac2040ef9</td>\n",
       "    </tr>\n",
       "    <tr>\n",
       "      <th>101100</th>\n",
       "      <td>af6f83c3c9cfd17834969eefd6845c8e</td>\n",
       "    </tr>\n",
       "    <tr>\n",
       "      <th>101101</th>\n",
       "      <td>c5a858a50fadc132dfd7f9883daa09ca</td>\n",
       "    </tr>\n",
       "    <tr>\n",
       "      <th>101102</th>\n",
       "      <td>17435afe82fc3ad3f16d8e35373cc1a4</td>\n",
       "    </tr>\n",
       "    <tr>\n",
       "      <th>101103</th>\n",
       "      <td>382ec7828ab5e5421307ad58c5a58f83</td>\n",
       "    </tr>\n",
       "    <tr>\n",
       "      <th>101104</th>\n",
       "      <td>8cda0de372a19f3284afdb63167dfb7d</td>\n",
       "    </tr>\n",
       "    <tr>\n",
       "      <th>101105</th>\n",
       "      <td>26bdb748a6997622c7a3902a6fa7c740</td>\n",
       "    </tr>\n",
       "    <tr>\n",
       "      <th>101106</th>\n",
       "      <td>d2a8f572e93d7c4008edc4d12e3e8d98</td>\n",
       "    </tr>\n",
       "    <tr>\n",
       "      <th>101107</th>\n",
       "      <td>2e65d4b7ec321f5459251e62b16acf37</td>\n",
       "    </tr>\n",
       "    <tr>\n",
       "      <th>101108</th>\n",
       "      <td>9367c0c62e36cc41ce3bc658acfa1216</td>\n",
       "    </tr>\n",
       "    <tr>\n",
       "      <th>101109</th>\n",
       "      <td>7bd751c85d4906f81508bdf4a9a06396</td>\n",
       "    </tr>\n",
       "    <tr>\n",
       "      <th>101110</th>\n",
       "      <td>9f6c497890440fd8aee6c2f5ac44b64b</td>\n",
       "    </tr>\n",
       "    <tr>\n",
       "      <th>101111</th>\n",
       "      <td>d93e74504885e525cf24a64e3b7157dd</td>\n",
       "    </tr>\n",
       "    <tr>\n",
       "      <th>101112</th>\n",
       "      <td>3f84d9a739831f50c4a629f5d94f7fc2</td>\n",
       "    </tr>\n",
       "    <tr>\n",
       "      <th>101113</th>\n",
       "      <td>6c01b3c1bd5b7e2c9d7deb5b419a6608</td>\n",
       "    </tr>\n",
       "  </tbody>\n",
       "</table>\n",
       "<p>101114 rows × 1 columns</p>\n",
       "</div>"
      ],
      "text/plain": [
       "                               driver_id\n",
       "0       dd65fa250fca2833a3a8c16d2cf0457c\n",
       "1       c077e0297639edcb1df6189e8cda2c3d\n",
       "2       86dbc1b68de435957c61b5a523854b69\n",
       "3       4fadfa6eeaa694742de036dddf02b0c4\n",
       "4                                    NaN\n",
       "5       115ac9b23f00a2e6d8a3041e23469f41\n",
       "6       7cb7ccbc192c177b136feca274fb3d07\n",
       "7       c586e492c4587c3aa15557a8eb41806d\n",
       "8       ea61e970ba415f946b3b35464c74f32a\n",
       "9       adabcd23118a35be7cc03c8f60d73e2e\n",
       "10      7c630c98ba6679b30014807acc856d28\n",
       "11      bdabc7577982eb3f2e6806855a087430\n",
       "12      0c9f1b5f77ace5984f6362ee23396fcb\n",
       "13      edf08148651dbc5aa3b134cce0471c92\n",
       "14      b29185649bd8d9c0fc04e44828b2a589\n",
       "15      be681893fd4ced097c0f50848d6dc013\n",
       "16      014bdbc2de87e8f7d8f437fd396039ce\n",
       "17      2a5fe54cbbcfddddfbbde8ff2501a29e\n",
       "18      cf0158eaacea11ee68bc8690bf100786\n",
       "19      71f768035905f7c813a9c140800aeca7\n",
       "20      d3390baa2aa93d024a20cf1a7ec934c0\n",
       "21      cc26812d679c9e55a6bf63eed315e989\n",
       "22      f6c760be3cd8521c612657da7788f9dc\n",
       "23      f4180be2f53543f14b3d9a8310e30801\n",
       "24      657844f16144a8988d43ba59bc73b26a\n",
       "25      3936f65c2013f910ca80a8d4fa75615d\n",
       "26      c42ee16c9f9ab6897f6d509ad27d0927\n",
       "27      21670a48e4954dee4ebbc7540a646b61\n",
       "28      2429b0c88dbc5e91fe8898a14009e2de\n",
       "29      c60c9db1ab4a3905fd122318051f9627\n",
       "...                                  ...\n",
       "101084  a5106392c81f32c76a948cd1e948ef99\n",
       "101085  fa742c763bc4624b1bd6d2005999863a\n",
       "101086  b59de9b9f30c21cb720a2d9a7c45335f\n",
       "101087  49dadd8785efbb4484410a1cd9c4cefb\n",
       "101088  b14e1f8aacd946b6f20815b40c2146b7\n",
       "101089  e772a9107270474dc744c6449383e580\n",
       "101090  e995b098d09bc5fd573290f92c49d870\n",
       "101091  0d04dd7a96963fe78dac215dfd12cf1a\n",
       "101092  8d39cd9de98f0bf9f8c2ccd25441002d\n",
       "101093  f8ba6c7047d603e9062163f52a5cd0c7\n",
       "101094  d5295bb881e465285c2464f7fb8ba40e\n",
       "101095  c3a0bc75749ec2a5b374b310945c9876\n",
       "101096  2aa9890ef3e126d60766cec707f55546\n",
       "101097  791ee5fd1e2a46b0c0d8159e26f880d7\n",
       "101098  ca78045de91f132edc0113b7f80d0ce0\n",
       "101099  e629abd6620782db3e31e92ac2040ef9\n",
       "101100  af6f83c3c9cfd17834969eefd6845c8e\n",
       "101101  c5a858a50fadc132dfd7f9883daa09ca\n",
       "101102  17435afe82fc3ad3f16d8e35373cc1a4\n",
       "101103  382ec7828ab5e5421307ad58c5a58f83\n",
       "101104  8cda0de372a19f3284afdb63167dfb7d\n",
       "101105  26bdb748a6997622c7a3902a6fa7c740\n",
       "101106  d2a8f572e93d7c4008edc4d12e3e8d98\n",
       "101107  2e65d4b7ec321f5459251e62b16acf37\n",
       "101108  9367c0c62e36cc41ce3bc658acfa1216\n",
       "101109  7bd751c85d4906f81508bdf4a9a06396\n",
       "101110  9f6c497890440fd8aee6c2f5ac44b64b\n",
       "101111  d93e74504885e525cf24a64e3b7157dd\n",
       "101112  3f84d9a739831f50c4a629f5d94f7fc2\n",
       "101113  6c01b3c1bd5b7e2c9d7deb5b419a6608\n",
       "\n",
       "[101114 rows x 1 columns]"
      ]
     },
     "execution_count": 70,
     "metadata": {},
     "output_type": "execute_result"
    }
   ],
   "source": [
    "driver_pd"
   ]
  },
  {
   "cell_type": "code",
   "execution_count": 61,
   "metadata": {
    "collapsed": false
   },
   "outputs": [
    {
     "data": {
      "text/plain": [
       "0.20689655172413793"
      ]
     },
     "execution_count": 61,
     "metadata": {},
     "output_type": "execute_result"
    }
   ],
   "source": [
    "count_empty_trips(driver_ids[0])"
   ]
  },
  {
   "cell_type": "code",
   "execution_count": null,
   "metadata": {
    "collapsed": true
   },
   "outputs": [],
   "source": [
    "#Create a timeline of rebalancing trips.\n",
    "# For each, record two timestamps (last pickup, next pickup), start location, and end location.\n",
    "# Sketch: for each driver, return a list of reb trips by masking. Then append.\n",
    "# Can we do this in a non-sequential way?"
   ]
  },
  {
   "cell_type": "code",
   "execution_count": null,
   "metadata": {
    "collapsed": true
   },
   "outputs": [],
   "source": [
    "def find_empty_trips(driver_hash):\n",
    "    #Copy out driver info\n",
    "    driver_orders=orderdf[orderdf['driver_id']==driver_hash]\n",
    "    driver_orders=driver_orders.sort_values('timestamp')\n",
    "    \n",
    "    #Auxiliary stuff\n",
    "    driver_orders['next_timestamp']=driver_orders['timestamp'].shift(-1)\n",
    "    driver_orders['next_start_district_hash']=driver_orders['start_district_hash'].shift(-1)\n",
    "    break_threshold=pd.Timedelta('1 hour')\n",
    "    \n",
    "    #Did the driver go on break after the ride? Did the driver rebalance?\n",
    "    driver_orders['break']=(driver_orders['next_timestamp']-driver_orders['timestamp'])>break_threshold\n",
    "    driver_orders['emptytrip']=(driver_orders['dest_district_hash']!=driver_orders['next_start_district_hash'])\n",
    "    \n",
    "    return driver_orders[driver_orders['emptytrip'] & ~driver_orders['break']]"
   ]
  },
  {
   "cell_type": "code",
   "execution_count": null,
   "metadata": {
    "collapsed": true
   },
   "outputs": [],
   "source": [
    "empty_rides_list=driver_pd.apply(lambda x: find_empty_trips(x['driver_id']),axis=1)"
   ]
  }
 ],
 "metadata": {
  "kernelspec": {
   "display_name": "Python 2",
   "language": "python",
   "name": "python2"
  },
  "language_info": {
   "codemirror_mode": {
    "name": "ipython",
    "version": 2
   },
   "file_extension": ".py",
   "mimetype": "text/x-python",
   "name": "python",
   "nbconvert_exporter": "python",
   "pygments_lexer": "ipython2",
   "version": "2.7.12"
  }
 },
 "nbformat": 4,
 "nbformat_minor": 0
}
