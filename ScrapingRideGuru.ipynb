{
 "cells": [
  {
   "cell_type": "code",
   "execution_count": 1,
   "metadata": {
    "collapsed": true
   },
   "outputs": [],
   "source": [
    "import pandas as pd\n",
    "import numpy as np\n",
    "import requests\n",
    "import json\n",
    "\n",
    "from scipy import stats\n",
    "\n",
    "import matplotlib.pyplot as plt\n",
    "%matplotlib inline"
   ]
  },
  {
   "cell_type": "code",
   "execution_count": 2,
   "metadata": {
    "collapsed": true
   },
   "outputs": [],
   "source": [
    "r = requests.get('https://ride.guru/estimate/Xihu,%20Hangzhou,%20Zhejiang,%20China/Xiacheng,%20Hangzhou,%20Zhejiang,%20China')"
   ]
  },
  {
   "cell_type": "code",
   "execution_count": 3,
   "metadata": {
    "collapsed": true
   },
   "outputs": [
    {
     "data": {
      "text/plain": [
       "'{\"status\":\"OK\",\"fare_estimates\":[{\"product\":{\"product_id\":\"55c66225-fbe7-4fd5-9072-eab1ece5e23e\",\"service_fees\":[{\"name\":\"Booking fee\",\"fee\":1.15}],\"capacity\":4,\"description\":\"The low-cost Uber\",\"distance_unit\":\"mile\",\"cost_per_minute\":0.2,\"cost_per_distance\":1.24,\"minimum_fare\":5.15,\"base_fare\":2.0,\"cancellation_fee\":5.0,\"currency_code\":\"USD\",\"image\":\"http://d1a3f4spazzrp4.cloudfront.net/car-types/mono/mono-uberx.png\",\"display_name\":\"uberX\",\"linked\":false,\"verified_date\":null,\"last_changed\":\"2016-03-04T16:57:55Z\",\"last_checked\":\"2016-03-04T16:57:55Z\",\"tff_entity\":null},\"fare_text\":\"$30-40\",\"fare_value_low\":30.0,\"fare_value_high\":40.0,\"surge_multiplier\":1.0,\"duration\":1800,\"distance\":19.64,\"time_estimate\":180},{\"product\":{\"product_id\":\"6f72dfc5-27f1-42e8-84db-ccc7a75f6969\",\"service_fees\":[{\"name\":\"Booking fee\",\"fee\":1.15}],\"capacity\":6,\"description\":\"low-cost rides for large groups\",\"distance_unit\":\"mile\",\"cost_per_minute\":0.35,\"cost_per_distance\":2.45,\"minimum_fare\":7.15,\"base_fare\":3.5,\"cancellation_fee\":5.0,\"currency_code\":\"USD\",\"image\":\"http://d1a3f4spazzrp4.cloudfront.net/car-types/mono/mono-uberxl2.png\",\"display_name\":\"uberXL\",\"linked\":false,\"verified_date\":null,\"last_changed\":\"2016-03-04T16:57:56Z\",\"last_checked\":\"2016-03-04T16:57:56Z\",\"tff_entity\":null},\"fare_text\":\"$57-75\",\"fare_value_low\":57.0,\"fare_value_high\":75.0,\"surge_multiplier\":1.0,\"duration\":1800,\"distance\":19.64,\"time_estimate\":480},{\"product\":{\"product_id\":\"6c84fd89-3f11-4782-9b50-97c468b19529\",\"service_fees\":[],\"capacity\":4,\"description\":\"The original Uber\",\"distance_unit\":\"mile\",\"cost_per_minute\":0.45,\"cost_per_distance\":3.95,\"minimum_fare\":15.0,\"base_fare\":7.0,\"cancellation_fee\":10.0,\"currency_code\":\"USD\",\"image\":\"http://d1a3f4spazzrp4.cloudfront.net/car-types/mono/mono-black.png\",\"display_name\":\"UberBLACK\",\"linked\":false,\"verified_date\":null,\"last_changed\":\"2016-03-04T16:57:57Z\",\"last_checked\":\"2016-03-04T16:57:57Z\",\"tff_entity\":null},\"fare_text\":\"$88-117\",\"fare_value_low\":88.0,\"fare_value_high\":117.0,\"surge_multiplier\":1.0,\"duration\":1800,\"distance\":19.64,\"time_estimate\":180},{\"product\":{\"product_id\":\"6d318bcc-22a3-4af6-bddd-b409bfce1546\",\"service_fees\":[],\"capacity\":6,\"description\":\"Room for everyone\",\"distance_unit\":\"mile\",\"cost_per_minute\":0.5,\"cost_per_distance\":4.3,\"minimum_fare\":25.0,\"base_fare\":14.0,\"cancellation_fee\":10.0,\"currency_code\":\"USD\",\"image\":\"http://d1a3f4spazzrp4.cloudfront.net/car-types/mono/mono-suv.png\",\"display_name\":\"UberSUV\",\"linked\":false,\"verified_date\":null,\"last_changed\":\"2016-03-04T16:57:58Z\",\"last_checked\":\"2016-03-04T16:57:58Z\",\"tff_entity\":null},\"fare_text\":\"$103-134\",\"fare_value_low\":103.0,\"fare_value_high\":134.0,\"surge_multiplier\":1.0,\"duration\":1800,\"distance\":19.64,\"time_estimate\":240},{\"product\":{\"product_id\":\"8cf7e821-f0d3-49c6-8eba-e679c0ebcf6a\",\"service_fees\":[],\"capacity\":4,\"description\":\"Taxi without the hassle\",\"distance_unit\":null,\"cost_per_minute\":null,\"cost_per_distance\":null,\"minimum_fare\":null,\"base_fare\":null,\"cancellation_fee\":null,\"currency_code\":null,\"image\":\"http://d1a3f4spazzrp4.cloudfront.net/car-types/mono/mono-taxi.png\",\"display_name\":\"uberTAXI\",\"linked\":false,\"verified_date\":null,\"last_changed\":\"2016-03-04T16:57:59Z\",\"last_checked\":\"2016-03-04T16:57:59Z\",\"tff_entity\":null},\"fare_text\":\"Metered\",\"fare_value_low\":null,\"fare_value_high\":null,\"surge_multiplier\":1.0,\"duration\":1800,\"distance\":19.64,\"time_estimate\":180}]}'"
      ]
     },
     "execution_count": 3,
     "metadata": {},
     "output_type": "execute_result"
    }
   ],
   "source": [
    "r.content"
   ]
  },
  {
   "cell_type": "code",
   "execution_count": 4,
   "metadata": {
    "collapsed": true
   },
   "outputs": [
    {
     "data": {
      "text/plain": [
       "{u'fare_estimates': [{u'distance': 19.64,\n",
       "   u'duration': 1800,\n",
       "   u'fare_text': u'$30-40',\n",
       "   u'fare_value_high': 40.0,\n",
       "   u'fare_value_low': 30.0,\n",
       "   u'product': {u'base_fare': 2.0,\n",
       "    u'cancellation_fee': 5.0,\n",
       "    u'capacity': 4,\n",
       "    u'cost_per_distance': 1.24,\n",
       "    u'cost_per_minute': 0.2,\n",
       "    u'currency_code': u'USD',\n",
       "    u'description': u'The low-cost Uber',\n",
       "    u'display_name': u'uberX',\n",
       "    u'distance_unit': u'mile',\n",
       "    u'image': u'http://d1a3f4spazzrp4.cloudfront.net/car-types/mono/mono-uberx.png',\n",
       "    u'last_changed': u'2016-03-04T16:57:55Z',\n",
       "    u'last_checked': u'2016-03-04T16:57:55Z',\n",
       "    u'linked': False,\n",
       "    u'minimum_fare': 5.15,\n",
       "    u'product_id': u'55c66225-fbe7-4fd5-9072-eab1ece5e23e',\n",
       "    u'service_fees': [{u'fee': 1.15, u'name': u'Booking fee'}],\n",
       "    u'tff_entity': None,\n",
       "    u'verified_date': None},\n",
       "   u'surge_multiplier': 1.0,\n",
       "   u'time_estimate': 180},\n",
       "  {u'distance': 19.64,\n",
       "   u'duration': 1800,\n",
       "   u'fare_text': u'$57-75',\n",
       "   u'fare_value_high': 75.0,\n",
       "   u'fare_value_low': 57.0,\n",
       "   u'product': {u'base_fare': 3.5,\n",
       "    u'cancellation_fee': 5.0,\n",
       "    u'capacity': 6,\n",
       "    u'cost_per_distance': 2.45,\n",
       "    u'cost_per_minute': 0.35,\n",
       "    u'currency_code': u'USD',\n",
       "    u'description': u'low-cost rides for large groups',\n",
       "    u'display_name': u'uberXL',\n",
       "    u'distance_unit': u'mile',\n",
       "    u'image': u'http://d1a3f4spazzrp4.cloudfront.net/car-types/mono/mono-uberxl2.png',\n",
       "    u'last_changed': u'2016-03-04T16:57:56Z',\n",
       "    u'last_checked': u'2016-03-04T16:57:56Z',\n",
       "    u'linked': False,\n",
       "    u'minimum_fare': 7.15,\n",
       "    u'product_id': u'6f72dfc5-27f1-42e8-84db-ccc7a75f6969',\n",
       "    u'service_fees': [{u'fee': 1.15, u'name': u'Booking fee'}],\n",
       "    u'tff_entity': None,\n",
       "    u'verified_date': None},\n",
       "   u'surge_multiplier': 1.0,\n",
       "   u'time_estimate': 480},\n",
       "  {u'distance': 19.64,\n",
       "   u'duration': 1800,\n",
       "   u'fare_text': u'$88-117',\n",
       "   u'fare_value_high': 117.0,\n",
       "   u'fare_value_low': 88.0,\n",
       "   u'product': {u'base_fare': 7.0,\n",
       "    u'cancellation_fee': 10.0,\n",
       "    u'capacity': 4,\n",
       "    u'cost_per_distance': 3.95,\n",
       "    u'cost_per_minute': 0.45,\n",
       "    u'currency_code': u'USD',\n",
       "    u'description': u'The original Uber',\n",
       "    u'display_name': u'UberBLACK',\n",
       "    u'distance_unit': u'mile',\n",
       "    u'image': u'http://d1a3f4spazzrp4.cloudfront.net/car-types/mono/mono-black.png',\n",
       "    u'last_changed': u'2016-03-04T16:57:57Z',\n",
       "    u'last_checked': u'2016-03-04T16:57:57Z',\n",
       "    u'linked': False,\n",
       "    u'minimum_fare': 15.0,\n",
       "    u'product_id': u'6c84fd89-3f11-4782-9b50-97c468b19529',\n",
       "    u'service_fees': [],\n",
       "    u'tff_entity': None,\n",
       "    u'verified_date': None},\n",
       "   u'surge_multiplier': 1.0,\n",
       "   u'time_estimate': 180},\n",
       "  {u'distance': 19.64,\n",
       "   u'duration': 1800,\n",
       "   u'fare_text': u'$103-134',\n",
       "   u'fare_value_high': 134.0,\n",
       "   u'fare_value_low': 103.0,\n",
       "   u'product': {u'base_fare': 14.0,\n",
       "    u'cancellation_fee': 10.0,\n",
       "    u'capacity': 6,\n",
       "    u'cost_per_distance': 4.3,\n",
       "    u'cost_per_minute': 0.5,\n",
       "    u'currency_code': u'USD',\n",
       "    u'description': u'Room for everyone',\n",
       "    u'display_name': u'UberSUV',\n",
       "    u'distance_unit': u'mile',\n",
       "    u'image': u'http://d1a3f4spazzrp4.cloudfront.net/car-types/mono/mono-suv.png',\n",
       "    u'last_changed': u'2016-03-04T16:57:58Z',\n",
       "    u'last_checked': u'2016-03-04T16:57:58Z',\n",
       "    u'linked': False,\n",
       "    u'minimum_fare': 25.0,\n",
       "    u'product_id': u'6d318bcc-22a3-4af6-bddd-b409bfce1546',\n",
       "    u'service_fees': [],\n",
       "    u'tff_entity': None,\n",
       "    u'verified_date': None},\n",
       "   u'surge_multiplier': 1.0,\n",
       "   u'time_estimate': 240},\n",
       "  {u'distance': 19.64,\n",
       "   u'duration': 1800,\n",
       "   u'fare_text': u'Metered',\n",
       "   u'fare_value_high': None,\n",
       "   u'fare_value_low': None,\n",
       "   u'product': {u'base_fare': None,\n",
       "    u'cancellation_fee': None,\n",
       "    u'capacity': 4,\n",
       "    u'cost_per_distance': None,\n",
       "    u'cost_per_minute': None,\n",
       "    u'currency_code': None,\n",
       "    u'description': u'Taxi without the hassle',\n",
       "    u'display_name': u'uberTAXI',\n",
       "    u'distance_unit': None,\n",
       "    u'image': u'http://d1a3f4spazzrp4.cloudfront.net/car-types/mono/mono-taxi.png',\n",
       "    u'last_changed': u'2016-03-04T16:57:59Z',\n",
       "    u'last_checked': u'2016-03-04T16:57:59Z',\n",
       "    u'linked': False,\n",
       "    u'minimum_fare': None,\n",
       "    u'product_id': u'8cf7e821-f0d3-49c6-8eba-e679c0ebcf6a',\n",
       "    u'service_fees': [],\n",
       "    u'tff_entity': None,\n",
       "    u'verified_date': None},\n",
       "   u'surge_multiplier': 1.0,\n",
       "   u'time_estimate': 180}],\n",
       " u'status': u'OK'}"
      ]
     },
     "execution_count": 4,
     "metadata": {},
     "output_type": "execute_result"
    }
   ],
   "source": [
    "json.loads(r.content)"
   ]
  },
  {
   "cell_type": "code",
   "execution_count": 5,
   "metadata": {
    "collapsed": true
   },
   "outputs": [],
   "source": [
    "cookie = {\"__cfduid\":\"d13b4ee988a50f1c6071883067257f4f01495059154\", \n",
    "          \"csrftoken\":\"u7RwScznJyOi1eA5JsdV5QpAwoGk7zyx\", \n",
    "          \"_ga\":\"GA1.2.1876221133.1495059171\",\n",
    "          \"_gid\":\"GA1.2.2110720845.1495059553\"\n",
    "         }"
   ]
  },
  {
   "cell_type": "code",
   "execution_count": 6,
   "metadata": {
    "collapsed": true
   },
   "outputs": [],
   "source": [
    "headers = {'User-Agent': 'Mozilla/5.0 (Macintosh; Intel Mac OS X 10_10_1) AppleWebKit/537.36 (KHTML, like Gecko) Chrome/39.0.2171.95 Safari/537.36'}"
   ]
  },
  {
   "cell_type": "code",
   "execution_count": 7,
   "metadata": {
    "collapsed": true
   },
   "outputs": [],
   "source": [
    "s = requests.get(\n",
    "    'https://ride.guru/api/fares.json?start=30.259312,120.13021100000003&end=30.257012,120.20500100000004&start_a=Xihu%2C%20Hangzhou%2C%20Zhejiang%2C%20China&end_a=Jianggan%2C%20Hangzhou%2C%20Zhejiang%2C%20China&distance=10059&duration=1691&subset=',\n",
    "    headers=headers\n",
    "                )"
   ]
  },
  {
   "cell_type": "code",
   "execution_count": 8,
   "metadata": {
    "collapsed": true
   },
   "outputs": [
    {
     "data": {
      "text/plain": [
       "{u'fare_estimates': [{u'companies': [{u'company_url': u'http://hangzhou.regency.hyatt.com/',\n",
       "     u'icon': u'https://maps.gstatic.com/mapfiles/place_api/icons/lodging-71.png',\n",
       "     u'location': {u'lat': 30.2547, u'lng': 120.1618},\n",
       "     u'name': u'Hyatt Regency Hangzhou',\n",
       "     u'phone': u'0571 8779 1234',\n",
       "     u'place_url': u'https://maps.google.com/?cid=2991250086359867597',\n",
       "     u'rating': 4}],\n",
       "   u'currency': {u'decimal_places': 2,\n",
       "    u'int_symbol': u'CNY',\n",
       "    u'symbol': u'\\uffe5'},\n",
       "   u'discount': None,\n",
       "   u'entity': {u'commission': {u'flat_rate': None, u'percentage': 33.0},\n",
       "    u'display_name': u'Hangzhou, Zhejiang, China',\n",
       "    u'service': {u'color': u'#FFD970',\n",
       "     u'company': {u'handle': u'TAXI',\n",
       "      u'logo_url': u'https://media.rideguru.com/CACHE/images/company_logos/taxi/803196425f969c71254f6423bf5025ef.jpg',\n",
       "      u'name': u'Taxi'},\n",
       "     u'description': u'The traditional taxi cab. Taxis may be hailed on the street or called directly for pickup.<br/><br/>RideGuru\\'s taxi estimates are calculated using the extremely accurate <a href=\"https://www.taxifarefinder.com\">TaxiFareFinder</a>, which uses real, up-to-date taxi rates from thousands of locales worldwide.',\n",
       "     u'features': {u'all': [[u'Traditional Taxi Cab', None],\n",
       "       [u'4 people',\n",
       "        u'Number of passengers, not including the driver, you can take on this ride']],\n",
       "      u'featured': []},\n",
       "     u'filters': {u'capacity': [u'4 people'],\n",
       "      u'comfort_level': [u'Standard'],\n",
       "      u'features': [u'Traditional Taxi Cab'],\n",
       "      u'provider': [u'Taxi']},\n",
       "     u'name': u'Taxi',\n",
       "     u'type': u'TAXI'},\n",
       "    u'service_area': u'Hangzhou, Zhejiang, China'},\n",
       "   u'extracharges': [],\n",
       "   u'flatrates': [],\n",
       "   u'initial_charge': 10.0,\n",
       "   u'initial_charge_text': u'\\uffe510.00',\n",
       "   u'metered_charge': 14.18,\n",
       "   u'metered_charge_text': u'\\uffe514.18',\n",
       "   u'minimum_charge': 0.0,\n",
       "   u'notes': [u'Prices in CNY '],\n",
       "   u'total_fare': 24.18,\n",
       "   u'total_fare_text': u'\\uffe524.18'},\n",
       "  {u'companies': None,\n",
       "   u'currency': {u'decimal_places': 2,\n",
       "    u'int_symbol': u'CNY',\n",
       "    u'symbol': u'\\uffe5'},\n",
       "   u'discount': None,\n",
       "   u'entity': {u'commission': {u'flat_rate': None, u'percentage': 20.0},\n",
       "    u'display_name': u'Didi Kuaidi Standard - Hangzhou, China',\n",
       "    u'service': {u'color': u'#FF8903',\n",
       "     u'company': {u'handle': u'DIDI',\n",
       "      u'logo_url': u'https://media.rideguru.com/CACHE/images/company_logos/didi_large/b99eb13fa05bdf3b689f97620edda89b.jpg',\n",
       "      u'name': u'Didi Chuxing'},\n",
       "     u'description': u\"This is Didi Chuxing's budget option. When you select a standard car, an everyday car with seating for up to 4 people will arrive to pick you up.\",\n",
       "     u'features': {u'all': [[u'Advanced Booking Available', None],\n",
       "       [u'4 people',\n",
       "        u'Number of passengers, not including the driver, you can take on this ride']],\n",
       "      u'featured': []},\n",
       "     u'filters': {u'capacity': [u'4 people'],\n",
       "      u'comfort_level': [u'Standard'],\n",
       "      u'features': [u'Advanced Booking Available'],\n",
       "      u'provider': [u'Didi Chuxing']},\n",
       "     u'name': u'Didi Kuaidi Standard',\n",
       "     u'type': u'DIDI_KUAIDI_STANDARD'},\n",
       "    u'service_area': u'Hangzhou, China'},\n",
       "   u'extracharges': [],\n",
       "   u'flatrates': [],\n",
       "   u'initial_charge': 15.0,\n",
       "   u'initial_charge_text': u'\\uffe515.00',\n",
       "   u'metered_charge': 43.26,\n",
       "   u'metered_charge_text': u'\\uffe543.26',\n",
       "   u'minimum_charge': 0.0,\n",
       "   u'notes': [u'Prices in CNY ',\n",
       "    u'\\xef\\xbf\\xa515.00 base fare<BR/>\\xef\\xbf\\xa52.90 per kilometer<BR/>\\xef\\xbf\\xa50.50 per minute',\n",
       "    u'Prices are shown in CNY.'],\n",
       "   u'total_fare': 58.26,\n",
       "   u'total_fare_text': u'\\uffe558.26'},\n",
       "  {u'companies': None,\n",
       "   u'currency': {u'decimal_places': 2,\n",
       "    u'int_symbol': u'CNY',\n",
       "    u'symbol': u'\\uffe5'},\n",
       "   u'discount': None,\n",
       "   u'entity': {u'commission': {u'flat_rate': None, u'percentage': 20.0},\n",
       "    u'display_name': u'Didi Kuaidi Premium - Hangzhou, China',\n",
       "    u'service': {u'color': u'#FF8903',\n",
       "     u'company': {u'handle': u'DIDI',\n",
       "      u'logo_url': u'https://media.rideguru.com/CACHE/images/company_logos/didi_large/b99eb13fa05bdf3b689f97620edda89b.jpg',\n",
       "      u'name': u'Didi Chuxing'},\n",
       "     u'description': u\"This is Didi Chuxing's luxury option. When you select a premium car, a high-end sedan with seating for up to 4 people will arrive to pick you up. While you will ride in style, the price for a premium car is significantly higher than a standard car.\",\n",
       "     u'features': {u'all': [[u'Advanced Booking Available', None],\n",
       "       [u'4 people',\n",
       "        u'Number of passengers, not including the driver, you can take on this ride'],\n",
       "       [u'Luxury', None]],\n",
       "      u'featured': []},\n",
       "     u'filters': {u'capacity': [u'4 people'],\n",
       "      u'comfort_level': [u'Luxury'],\n",
       "      u'features': [u'Advanced Booking Available'],\n",
       "      u'provider': [u'Didi Chuxing']},\n",
       "     u'name': u'Didi Kuaidi Premium',\n",
       "     u'type': u'DIDI_KUAIDI_PREMIUM'},\n",
       "    u'service_area': u'Hangzhou, China'},\n",
       "   u'extracharges': [],\n",
       "   u'flatrates': [],\n",
       "   u'initial_charge': 25.0,\n",
       "   u'initial_charge_text': u'\\uffe525.00',\n",
       "   u'metered_charge': 65.62,\n",
       "   u'metered_charge_text': u'\\uffe565.62',\n",
       "   u'minimum_charge': 0.0,\n",
       "   u'notes': [u'Prices in CNY ',\n",
       "    u'\\xef\\xbf\\xa525.00 base fare<BR/>\\xef\\xbf\\xa54.17 per kilometer<BR/>\\xef\\xbf\\xa50.84 per minute',\n",
       "    u'Prices are shown in CNY.'],\n",
       "   u'total_fare': 90.62,\n",
       "   u'total_fare_text': u'\\uffe590.62'},\n",
       "  {u'companies': None,\n",
       "   u'currency': {u'decimal_places': 2,\n",
       "    u'int_symbol': u'CNY',\n",
       "    u'symbol': u'\\uffe5'},\n",
       "   u'discount': None,\n",
       "   u'entity': {u'commission': {u'flat_rate': None, u'percentage': 20.0},\n",
       "    u'display_name': u'Didi Kuaidi Economics - Hangzhou, China',\n",
       "    u'service': {u'color': u'#FF8903',\n",
       "     u'company': {u'handle': u'DIDI',\n",
       "      u'logo_url': u'https://media.rideguru.com/CACHE/images/company_logos/didi_large/b99eb13fa05bdf3b689f97620edda89b.jpg',\n",
       "      u'name': u'Didi Chuxing'},\n",
       "     u'description': u\"This is Didi Chuxing's newest and cheapest option. The prices for an economics car are even lower than a standard car. This service is currently only available in a few cities. When you select an economics car, an everyday car with seating for up to 4 people will arrive to pick you up.\",\n",
       "     u'features': {u'all': [[u'Advanced Booking Available', None],\n",
       "       [u'4 people',\n",
       "        u'Number of passengers, not including the driver, you can take on this ride'],\n",
       "       [u'Economy', None]],\n",
       "      u'featured': []},\n",
       "     u'filters': {u'capacity': [u'4 people'],\n",
       "      u'comfort_level': [u'Economy'],\n",
       "      u'features': [u'Advanced Booking Available'],\n",
       "      u'provider': [u'Didi Chuxing']},\n",
       "     u'name': u'Didi Kuaidi Economics',\n",
       "     u'type': u'DIDI_KUAIDI_ECONOMICS'},\n",
       "    u'service_area': u'Hangzhou, China'},\n",
       "   u'extracharges': [],\n",
       "   u'flatrates': [],\n",
       "   u'initial_charge': 14.0,\n",
       "   u'initial_charge_text': u'\\uffe514.00',\n",
       "   u'metered_charge': 42.26,\n",
       "   u'metered_charge_text': u'\\uffe542.26',\n",
       "   u'minimum_charge': 0.0,\n",
       "   u'notes': [u'Prices in CNY ',\n",
       "    u'\\xef\\xbf\\xa514.00 base fare<BR/>\\xef\\xbf\\xa52.80 per kilometer<BR/>\\xef\\xbf\\xa50.50 per minute',\n",
       "    u'Prices are shown in CNY.'],\n",
       "   u'total_fare': 56.26,\n",
       "   u'total_fare_text': u'\\uffe556.26'},\n",
       "  {u'companies': None,\n",
       "   u'currency': {u'decimal_places': 2,\n",
       "    u'int_symbol': u'CNY',\n",
       "    u'symbol': u'\\uffe5'},\n",
       "   u'discount': None,\n",
       "   u'entity': {u'commission': {u'flat_rate': None, u'percentage': 20.0},\n",
       "    u'display_name': u'Didi Kuaidi 6 Passenger Van - Hangzhou, China',\n",
       "    u'service': {u'color': u'#FF8903',\n",
       "     u'company': {u'handle': u'DIDI',\n",
       "      u'logo_url': u'https://media.rideguru.com/CACHE/images/company_logos/didi_large/b99eb13fa05bdf3b689f97620edda89b.jpg',\n",
       "      u'name': u'Didi Chuxing'},\n",
       "     u'description': u\"This is Didi Chuxing's option for large groups of people who want to travel together. While a standard car can only seat up to 4 people, a 6-Passenger Van will have seating for up to 6 people.\",\n",
       "     u'features': {u'all': [[u'Advanced Booking Available', None],\n",
       "       [u'6 people',\n",
       "        u'Number of passengers, not including the driver, you can take on this ride']],\n",
       "      u'featured': []},\n",
       "     u'filters': {u'capacity': [u'6 people'],\n",
       "      u'comfort_level': [u'Standard'],\n",
       "      u'features': [u'Advanced Booking Available'],\n",
       "      u'provider': [u'Didi Chuxing']},\n",
       "     u'name': u'Didi Kuaidi Van',\n",
       "     u'type': u'DIDI_KUAIDI_6_PASSENGER_VAN'},\n",
       "    u'service_area': u'Hangzhou, China'},\n",
       "   u'extracharges': [],\n",
       "   u'flatrates': [],\n",
       "   u'initial_charge': 25.0,\n",
       "   u'initial_charge_text': u'\\uffe525.00',\n",
       "   u'metered_charge': 72.96,\n",
       "   u'metered_charge_text': u'\\uffe572.96',\n",
       "   u'minimum_charge': 0.0,\n",
       "   u'notes': [u'Prices in CNY ',\n",
       "    u'\\xef\\xbf\\xa525.00 base fare<BR/>\\xef\\xbf\\xa54.90 per kilometer<BR/>\\xef\\xbf\\xa50.84 per minute',\n",
       "    u'Prices are shown in CNY.'],\n",
       "   u'total_fare': 97.96,\n",
       "   u'total_fare_text': u'\\uffe597.96'},\n",
       "  {u'companies': None,\n",
       "   u'currency': {u'decimal_places': 0, u'int_symbol': u'', u'symbol': u''},\n",
       "   u'discount': None,\n",
       "   u'entity': {u'commission': {u'flat_rate': None, u'percentage': None},\n",
       "    u'display_name': u'Blacklane',\n",
       "    u'service': {u'color': u'#303030',\n",
       "     u'company': {u'handle': u'BLACKLANE',\n",
       "      u'logo_url': u'https://media.rideguru.com/CACHE/images/company_logos/blacklane_logo/cf0bbd694a44d7b1b4c1381861aae148.jpg',\n",
       "      u'name': u'Blacklane'},\n",
       "     u'description': u'When you order a Blacklane car, a luxury vehicle with seating for 1-5 people will pick you up.',\n",
       "     u'features': {u'all': [[u'Advance Booking Only', None],\n",
       "       [u'Blackcar/Limo Service', None],\n",
       "       [u'Luxury', None]],\n",
       "      u'featured': [u'Advance Booking Only']},\n",
       "     u'filters': {u'capacity': [],\n",
       "      u'comfort_level': [u'Luxury'],\n",
       "      u'features': [u'Advance Booking Only', u'Blackcar/Limo Service'],\n",
       "      u'provider': [u'Blacklane']},\n",
       "     u'name': u'Blacklane',\n",
       "     u'type': u'BLACKLANE'},\n",
       "    u'service_area': u'Blacklane'},\n",
       "   u'extracharges': [],\n",
       "   u'flatrates': [],\n",
       "   u'initial_charge': None,\n",
       "   u'initial_charge_text': None,\n",
       "   u'metered_charge': None,\n",
       "   u'metered_charge_text': None,\n",
       "   u'minimum_charge': None,\n",
       "   u'notes': [],\n",
       "   u'total_fare': None,\n",
       "   u'total_fare_text': None}],\n",
       " u'status': u'OK'}"
      ]
     },
     "execution_count": 8,
     "metadata": {},
     "output_type": "execute_result"
    }
   ],
   "source": [
    "json.loads(s.content)"
   ]
  },
  {
   "cell_type": "markdown",
   "metadata": {},
   "source": [
    "### Manual Shit"
   ]
  },
  {
   "cell_type": "code",
   "execution_count": 2,
   "metadata": {
    "collapsed": true
   },
   "outputs": [],
   "source": [
    "# [time, distance, cost]\n",
    "\n",
    "D = np.array([\n",
    "    [24., 15.2, 68.57],\n",
    "    [14., 11.7, 53.75],\n",
    "    [20., 18.2, 75.16],\n",
    "    [50., 40.5, 152.44],\n",
    "    [49., 48.8, 174.97],\n",
    "    [8, 2.7, 25.42],\n",
    "    [13, 9.4, 47.03]\n",
    "], dtype=np.float64)"
   ]
  },
  {
   "cell_type": "code",
   "execution_count": 3,
   "metadata": {},
   "outputs": [
    {
     "data": {
      "text/plain": [
       "<matplotlib.collections.PathCollection at 0x107f3ef10>"
      ]
     },
     "execution_count": 3,
     "metadata": {},
     "output_type": "execute_result"
    },
    {
     "data": {
      "image/png": "[encoded data removed]",
      "text/plain": [
       "<matplotlib.figure.Figure at 0x102b4a190>"
      ]
     },
     "metadata": {},
     "output_type": "display_data"
    }
   ],
   "source": [
    "plt.scatter(D[:,0],D[:,1])"
   ]
  },
  {
   "cell_type": "code",
   "execution_count": 4,
   "metadata": {},
   "outputs": [
    {
     "data": {
      "text/plain": [
       "<matplotlib.collections.PathCollection at 0x1081cbb90>"
      ]
     },
     "execution_count": 4,
     "metadata": {},
     "output_type": "execute_result"
    },
    {
     "data": {
      "image/png": "[encoded data removed]",
      "text/plain": [
       "<matplotlib.figure.Figure at 0x1080c1290>"
      ]
     },
     "metadata": {},
     "output_type": "display_data"
    }
   ],
   "source": [
    "plt.scatter(D[:,0],D[:,2] - 14)"
   ]
  },
  {
   "cell_type": "code",
   "execution_count": 5,
   "metadata": {},
   "outputs": [
    {
     "data": {
      "text/plain": [
       "<matplotlib.collections.PathCollection at 0x1082f73d0>"
      ]
     },
     "execution_count": 5,
     "metadata": {},
     "output_type": "execute_result"
    },
    {
     "data": {
      "image/png": "[encoded data removed]",
      "text/plain": [
       "<matplotlib.figure.Figure at 0x10818ce90>"
      ]
     },
     "metadata": {},
     "output_type": "display_data"
    }
   ],
   "source": [
    "plt.scatter(D[:,1],D[:,2] - 14)"
   ]
  },
  {
   "cell_type": "code",
   "execution_count": 13,
   "metadata": {
    "collapsed": true
   },
   "outputs": [],
   "source": [
    "slope, intercept, r_value, p_value, std_err = stats.linregress(D[:,0],(D[:,2] - 14)*0.6666)"
   ]
  },
  {
   "cell_type": "code",
   "execution_count": 14,
   "metadata": {},
   "outputs": [
    {
     "data": {
      "text/plain": [
       "2.1432597254776047"
      ]
     },
     "execution_count": 14,
     "metadata": {},
     "output_type": "execute_result"
    }
   ],
   "source": [
    "slope"
   ]
  },
  {
   "cell_type": "code",
   "execution_count": 15,
   "metadata": {
    "collapsed": true
   },
   "outputs": [],
   "source": [
    "orderdf = pd.read_csv('ignored_assets/orders.csv', parse_dates = [6,7])"
   ]
  },
  {
   "cell_type": "code",
   "execution_count": 16,
   "metadata": {
    "collapsed": true
   },
   "outputs": [],
   "source": [
    "orderdf['expected_travel_time'] = orderdf['price'] / slope"
   ]
  },
  {
   "cell_type": "code",
   "execution_count": 17,
   "metadata": {},
   "outputs": [
    {
     "data": {
      "text/plain": [
       "8.0796159162937098"
      ]
     },
     "execution_count": 17,
     "metadata": {},
     "output_type": "execute_result"
    }
   ],
   "source": [
    "orderdf['expected_travel_time'].mean()"
   ]
  },
  {
   "cell_type": "code",
   "execution_count": 18,
   "metadata": {
    "collapsed": true
   },
   "outputs": [],
   "source": [
    "orderdf.to_csv('ignored_assets/orders.csv', index = False)"
   ]
  },
  {
   "cell_type": "code",
   "execution_count": 19,
   "metadata": {},
   "outputs": [
    {
     "data": {
      "text/plain": [
       "(array([  5.58638200e+06,   2.18411400e+06,   4.91171000e+05,\n",
       "          1.67278000e+05,   5.85850000e+04,   2.27190000e+04,\n",
       "          1.09880000e+04,   5.74400000e+03,   3.66500000e+03,\n",
       "          2.69100000e+03,   1.51000000e+03,   1.22700000e+03,\n",
       "          9.44000000e+02,   5.68000000e+02,   4.37000000e+02,\n",
       "          3.74000000e+02,   3.53000000e+02,   3.17000000e+02,\n",
       "          2.14000000e+02,   1.90000000e+02,   1.82000000e+02,\n",
       "          1.91000000e+02,   2.19000000e+02,   1.54000000e+02,\n",
       "          9.40000000e+01,   9.30000000e+01,   8.00000000e+01,\n",
       "          6.30000000e+01,   5.60000000e+01,   5.00000000e+00,\n",
       "          0.00000000e+00,   0.00000000e+00,   0.00000000e+00,\n",
       "          0.00000000e+00,   0.00000000e+00,   0.00000000e+00,\n",
       "          2.00000000e+00,   1.00000000e+00,   0.00000000e+00,\n",
       "          1.00000000e+00,   1.00000000e+00,   0.00000000e+00,\n",
       "          0.00000000e+00,   0.00000000e+00,   0.00000000e+00,\n",
       "          0.00000000e+00,   0.00000000e+00,   0.00000000e+00,\n",
       "          0.00000000e+00,   0.00000000e+00,   0.00000000e+00,\n",
       "          0.00000000e+00,   0.00000000e+00,   0.00000000e+00,\n",
       "          0.00000000e+00,   0.00000000e+00,   0.00000000e+00,\n",
       "          0.00000000e+00,   0.00000000e+00,   0.00000000e+00,\n",
       "          0.00000000e+00,   0.00000000e+00,   0.00000000e+00,\n",
       "          0.00000000e+00,   0.00000000e+00,   0.00000000e+00,\n",
       "          0.00000000e+00,   0.00000000e+00,   0.00000000e+00,\n",
       "          0.00000000e+00,   0.00000000e+00,   0.00000000e+00,\n",
       "          0.00000000e+00,   0.00000000e+00,   0.00000000e+00,\n",
       "          0.00000000e+00,   0.00000000e+00,   0.00000000e+00,\n",
       "          0.00000000e+00,   0.00000000e+00,   0.00000000e+00,\n",
       "          0.00000000e+00,   0.00000000e+00,   0.00000000e+00,\n",
       "          0.00000000e+00,   0.00000000e+00,   0.00000000e+00,\n",
       "          0.00000000e+00,   0.00000000e+00,   0.00000000e+00,\n",
       "          0.00000000e+00,   0.00000000e+00,   0.00000000e+00,\n",
       "          0.00000000e+00,   0.00000000e+00,   0.00000000e+00,\n",
       "          0.00000000e+00,   0.00000000e+00,   0.00000000e+00,\n",
       "          1.00000000e+00]),\n",
       " array([   0.        ,    8.07648266,   16.15296531,   24.22944797,\n",
       "          32.30593062,   40.38241328,   48.45889594,   56.53537859,\n",
       "          64.61186125,   72.6883439 ,   80.76482656,   88.84130922,\n",
       "          96.91779187,  104.99427453,  113.07075718,  121.14723984,\n",
       "         129.2237225 ,  137.30020515,  145.37668781,  153.45317046,\n",
       "         161.52965312,  169.60613577,  177.68261843,  185.75910109,\n",
       "         193.83558374,  201.9120664 ,  209.98854905,  218.06503171,\n",
       "         226.14151437,  234.21799702,  242.29447968,  250.37096233,\n",
       "         258.44744499,  266.52392765,  274.6004103 ,  282.67689296,\n",
       "         290.75337561,  298.82985827,  306.90634093,  314.98282358,\n",
       "         323.05930624,  331.13578889,  339.21227155,  347.28875421,\n",
       "         355.36523686,  363.44171952,  371.51820217,  379.59468483,\n",
       "         387.67116749,  395.74765014,  403.8241328 ,  411.90061545,\n",
       "         419.97709811,  428.05358076,  436.13006342,  444.20654608,\n",
       "         452.28302873,  460.35951139,  468.43599404,  476.5124767 ,\n",
       "         484.58895936,  492.66544201,  500.74192467,  508.81840732,\n",
       "         516.89488998,  524.97137264,  533.04785529,  541.12433795,\n",
       "         549.2008206 ,  557.27730326,  565.35378592,  573.43026857,\n",
       "         581.50675123,  589.58323388,  597.65971654,  605.7361992 ,\n",
       "         613.81268185,  621.88916451,  629.96564716,  638.04212982,\n",
       "         646.11861248,  654.19509513,  662.27157779,  670.34806044,\n",
       "         678.4245431 ,  686.50102576,  694.57750841,  702.65399107,\n",
       "         710.73047372,  718.80695638,  726.88343903,  734.95992169,\n",
       "         743.03640435,  751.112887  ,  759.18936966,  767.26585231,\n",
       "         775.34233497,  783.41881763,  791.49530028,  799.57178294,\n",
       "         807.64826559]),\n",
       " <a list of 100 Patch objects>)"
      ]
     },
     "execution_count": 19,
     "metadata": {},
     "output_type": "execute_result"
    },
    {
     "data": {
      "image/png": "[encoded data removed]",
      "text/plain": [
       "<matplotlib.figure.Figure at 0x1113814d0>"
      ]
     },
     "metadata": {},
     "output_type": "display_data"
    }
   ],
   "source": [
    "plt.hist(orderdf['expected_travel_time'], bins = 100)"
   ]
  },
  {
   "cell_type": "code",
   "execution_count": null,
   "metadata": {
    "collapsed": true
   },
   "outputs": [],
   "source": []
  }
 ],
 "metadata": {
  "kernelspec": {
   "display_name": "Python 2",
   "language": "python",
   "name": "python2"
  },
  "language_info": {
   "codemirror_mode": {
    "name": "ipython",
    "version": 2
   },
   "file_extension": ".py",
   "mimetype": "text/x-python",
   "name": "python",
   "nbconvert_exporter": "python",
   "pygments_lexer": "ipython2",
   "version": "2.7.10"
  }
 },
 "nbformat": 4,
 "nbformat_minor": 2
}
